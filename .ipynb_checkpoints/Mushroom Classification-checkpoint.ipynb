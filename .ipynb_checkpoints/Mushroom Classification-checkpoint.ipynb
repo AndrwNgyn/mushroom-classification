{
 "cells": [
  {
   "cell_type": "code",
   "execution_count": 113,
   "id": "4488819e",
   "metadata": {},
   "outputs": [
    {
     "data": {
      "text/plain": [
       "'\\nMUSHROOM CLASSIFICATION\\nCreated by: Andrew Nguyen\\n\\nThis notebook was created with python3 under Windows OS.\\n'"
      ]
     },
     "execution_count": 113,
     "metadata": {},
     "output_type": "execute_result"
    }
   ],
   "source": [
    "'''\n",
    "MUSHROOM CLASSIFICATION\n",
    "Created by: Andrew Nguyen\n",
    "\n",
    "This notebook was created with python3 under Windows OS.\n",
    "'''"
   ]
  },
  {
   "cell_type": "code",
   "execution_count": 114,
   "id": "c129732f",
   "metadata": {},
   "outputs": [],
   "source": [
    "#importing libraries\n",
    "\n",
    "import pandas as pd\n",
    "import numpy as np\n",
    "import matplotlib.pyplot as plt\n",
    "import seaborn as sns\n",
    "from keras.models import load_model\n",
    "%matplotlib inline"
   ]
  },
  {
   "cell_type": "code",
   "execution_count": 115,
   "id": "f913106e",
   "metadata": {
    "scrolled": true
   },
   "outputs": [
    {
     "data": {
      "text/html": [
       "<div>\n",
       "<style scoped>\n",
       "    .dataframe tbody tr th:only-of-type {\n",
       "        vertical-align: middle;\n",
       "    }\n",
       "\n",
       "    .dataframe tbody tr th {\n",
       "        vertical-align: top;\n",
       "    }\n",
       "\n",
       "    .dataframe thead th {\n",
       "        text-align: right;\n",
       "    }\n",
       "</style>\n",
       "<table border=\"1\" class=\"dataframe\">\n",
       "  <thead>\n",
       "    <tr style=\"text-align: right;\">\n",
       "      <th></th>\n",
       "      <th>class</th>\n",
       "      <th>cap-shape</th>\n",
       "      <th>cap-surface</th>\n",
       "      <th>cap-color</th>\n",
       "      <th>bruises</th>\n",
       "      <th>odor</th>\n",
       "      <th>gill-attachment</th>\n",
       "      <th>gill-spacing</th>\n",
       "      <th>gill-size</th>\n",
       "      <th>gill-color</th>\n",
       "      <th>...</th>\n",
       "      <th>stalk-surface-below-ring</th>\n",
       "      <th>stalk-color-above-ring</th>\n",
       "      <th>stalk-color-below-ring</th>\n",
       "      <th>veil-type</th>\n",
       "      <th>veil-color</th>\n",
       "      <th>ring-number</th>\n",
       "      <th>ring-type</th>\n",
       "      <th>spore-print-color</th>\n",
       "      <th>population</th>\n",
       "      <th>habitat</th>\n",
       "    </tr>\n",
       "  </thead>\n",
       "  <tbody>\n",
       "    <tr>\n",
       "      <th>0</th>\n",
       "      <td>p</td>\n",
       "      <td>x</td>\n",
       "      <td>s</td>\n",
       "      <td>n</td>\n",
       "      <td>t</td>\n",
       "      <td>p</td>\n",
       "      <td>f</td>\n",
       "      <td>c</td>\n",
       "      <td>n</td>\n",
       "      <td>k</td>\n",
       "      <td>...</td>\n",
       "      <td>s</td>\n",
       "      <td>w</td>\n",
       "      <td>w</td>\n",
       "      <td>p</td>\n",
       "      <td>w</td>\n",
       "      <td>o</td>\n",
       "      <td>p</td>\n",
       "      <td>k</td>\n",
       "      <td>s</td>\n",
       "      <td>u</td>\n",
       "    </tr>\n",
       "    <tr>\n",
       "      <th>1</th>\n",
       "      <td>e</td>\n",
       "      <td>x</td>\n",
       "      <td>s</td>\n",
       "      <td>y</td>\n",
       "      <td>t</td>\n",
       "      <td>a</td>\n",
       "      <td>f</td>\n",
       "      <td>c</td>\n",
       "      <td>b</td>\n",
       "      <td>k</td>\n",
       "      <td>...</td>\n",
       "      <td>s</td>\n",
       "      <td>w</td>\n",
       "      <td>w</td>\n",
       "      <td>p</td>\n",
       "      <td>w</td>\n",
       "      <td>o</td>\n",
       "      <td>p</td>\n",
       "      <td>n</td>\n",
       "      <td>n</td>\n",
       "      <td>g</td>\n",
       "    </tr>\n",
       "    <tr>\n",
       "      <th>2</th>\n",
       "      <td>e</td>\n",
       "      <td>b</td>\n",
       "      <td>s</td>\n",
       "      <td>w</td>\n",
       "      <td>t</td>\n",
       "      <td>l</td>\n",
       "      <td>f</td>\n",
       "      <td>c</td>\n",
       "      <td>b</td>\n",
       "      <td>n</td>\n",
       "      <td>...</td>\n",
       "      <td>s</td>\n",
       "      <td>w</td>\n",
       "      <td>w</td>\n",
       "      <td>p</td>\n",
       "      <td>w</td>\n",
       "      <td>o</td>\n",
       "      <td>p</td>\n",
       "      <td>n</td>\n",
       "      <td>n</td>\n",
       "      <td>m</td>\n",
       "    </tr>\n",
       "    <tr>\n",
       "      <th>3</th>\n",
       "      <td>p</td>\n",
       "      <td>x</td>\n",
       "      <td>y</td>\n",
       "      <td>w</td>\n",
       "      <td>t</td>\n",
       "      <td>p</td>\n",
       "      <td>f</td>\n",
       "      <td>c</td>\n",
       "      <td>n</td>\n",
       "      <td>n</td>\n",
       "      <td>...</td>\n",
       "      <td>s</td>\n",
       "      <td>w</td>\n",
       "      <td>w</td>\n",
       "      <td>p</td>\n",
       "      <td>w</td>\n",
       "      <td>o</td>\n",
       "      <td>p</td>\n",
       "      <td>k</td>\n",
       "      <td>s</td>\n",
       "      <td>u</td>\n",
       "    </tr>\n",
       "    <tr>\n",
       "      <th>4</th>\n",
       "      <td>e</td>\n",
       "      <td>x</td>\n",
       "      <td>s</td>\n",
       "      <td>g</td>\n",
       "      <td>f</td>\n",
       "      <td>n</td>\n",
       "      <td>f</td>\n",
       "      <td>w</td>\n",
       "      <td>b</td>\n",
       "      <td>k</td>\n",
       "      <td>...</td>\n",
       "      <td>s</td>\n",
       "      <td>w</td>\n",
       "      <td>w</td>\n",
       "      <td>p</td>\n",
       "      <td>w</td>\n",
       "      <td>o</td>\n",
       "      <td>e</td>\n",
       "      <td>n</td>\n",
       "      <td>a</td>\n",
       "      <td>g</td>\n",
       "    </tr>\n",
       "  </tbody>\n",
       "</table>\n",
       "<p>5 rows × 23 columns</p>\n",
       "</div>"
      ],
      "text/plain": [
       "  class cap-shape cap-surface cap-color bruises odor gill-attachment  \\\n",
       "0     p         x           s         n       t    p               f   \n",
       "1     e         x           s         y       t    a               f   \n",
       "2     e         b           s         w       t    l               f   \n",
       "3     p         x           y         w       t    p               f   \n",
       "4     e         x           s         g       f    n               f   \n",
       "\n",
       "  gill-spacing gill-size gill-color  ... stalk-surface-below-ring  \\\n",
       "0            c         n          k  ...                        s   \n",
       "1            c         b          k  ...                        s   \n",
       "2            c         b          n  ...                        s   \n",
       "3            c         n          n  ...                        s   \n",
       "4            w         b          k  ...                        s   \n",
       "\n",
       "  stalk-color-above-ring stalk-color-below-ring veil-type veil-color  \\\n",
       "0                      w                      w         p          w   \n",
       "1                      w                      w         p          w   \n",
       "2                      w                      w         p          w   \n",
       "3                      w                      w         p          w   \n",
       "4                      w                      w         p          w   \n",
       "\n",
       "  ring-number ring-type spore-print-color population habitat  \n",
       "0           o         p                 k          s       u  \n",
       "1           o         p                 n          n       g  \n",
       "2           o         p                 n          n       m  \n",
       "3           o         p                 k          s       u  \n",
       "4           o         e                 n          a       g  \n",
       "\n",
       "[5 rows x 23 columns]"
      ]
     },
     "execution_count": 115,
     "metadata": {},
     "output_type": "execute_result"
    }
   ],
   "source": [
    "data = pd.read_csv(\"data_csvs/mushrooms.csv\")\n",
    "data.head()"
   ]
  },
  {
   "cell_type": "code",
   "execution_count": 116,
   "id": "ecf11c56",
   "metadata": {},
   "outputs": [
    {
     "name": "stdout",
     "output_type": "stream",
     "text": [
      "<class 'pandas.core.frame.DataFrame'>\n",
      "RangeIndex: 8124 entries, 0 to 8123\n",
      "Data columns (total 23 columns):\n",
      " #   Column                    Non-Null Count  Dtype \n",
      "---  ------                    --------------  ----- \n",
      " 0   class                     8124 non-null   object\n",
      " 1   cap-shape                 8124 non-null   object\n",
      " 2   cap-surface               8124 non-null   object\n",
      " 3   cap-color                 8124 non-null   object\n",
      " 4   bruises                   8124 non-null   object\n",
      " 5   odor                      8124 non-null   object\n",
      " 6   gill-attachment           8124 non-null   object\n",
      " 7   gill-spacing              8124 non-null   object\n",
      " 8   gill-size                 8124 non-null   object\n",
      " 9   gill-color                8124 non-null   object\n",
      " 10  stalk-shape               8124 non-null   object\n",
      " 11  stalk-root                8124 non-null   object\n",
      " 12  stalk-surface-above-ring  8124 non-null   object\n",
      " 13  stalk-surface-below-ring  8124 non-null   object\n",
      " 14  stalk-color-above-ring    8124 non-null   object\n",
      " 15  stalk-color-below-ring    8124 non-null   object\n",
      " 16  veil-type                 8124 non-null   object\n",
      " 17  veil-color                8124 non-null   object\n",
      " 18  ring-number               8124 non-null   object\n",
      " 19  ring-type                 8124 non-null   object\n",
      " 20  spore-print-color         8124 non-null   object\n",
      " 21  population                8124 non-null   object\n",
      " 22  habitat                   8124 non-null   object\n",
      "dtypes: object(23)\n",
      "memory usage: 1.4+ MB\n"
     ]
    }
   ],
   "source": [
    "data.info()"
   ]
  },
  {
   "cell_type": "code",
   "execution_count": 117,
   "id": "f5527811",
   "metadata": {},
   "outputs": [
    {
     "name": "stdout",
     "output_type": "stream",
     "text": [
      "['edible' 'convex' 'smooth' 'yellow' 'bruises' 'almond' 'free' 'close'\n",
      " 'broad' 'black' 'enlarging' 'club' 'smooth' 'smooth' 'white' 'white'\n",
      " 'partial' 'white' 'one' 'pendant' 'brown' 'numerous' 'grasses']\n"
     ]
    }
   ],
   "source": [
    "# in order to better understand data during EDA, we should convert letter values to full words\n",
    "cap_shape={\"b\":\"bell\",\"c\":\"conical\",\"x\":\"convex\",\"f\":\"flat\",\"k\":\"knobbed\",\"s\":\"sunken\"}\n",
    "data[\"cap-shape\"]=data[\"cap-shape\"].replace(cap_shape)\n",
    "\n",
    "cap_surface={\"f\": \"fibrous\", \"g\": \"grooves\",\"y\":\"scaly\",\"s\": \"smooth\"}\n",
    "data[\"cap-surface\"]=data[\"cap-surface\"].replace(cap_surface)\n",
    "\n",
    "cap_color={\"n\":\"brown\",\"b\":\"buff\",\"c\":\"cinnamon\",\"g\":\"gray\",\"r\":\"green\",\"p\":\"pink\",\"u\":\"purple\",\"e\":\"red\",\"w\":\"white\",\"y\":\"yellow\"}\n",
    "data[\"cap-color\"]=data[\"cap-color\"].replace(cap_color)\n",
    "\n",
    "odor={\"a\":\"almond\",\"l\":\"anise\",\"c\":\"creosote\",\"y\":\"fishy\",\"f\":\"foul\",\"m\":\"musty\",\"n\":\"none\",\"p\":\"pungent\",\"s\":\"spicy\"}\n",
    "data[\"odor\"]=data[\"odor\"].replace(odor)\n",
    "\n",
    "gill_attachment={\"a\":\"attached\",\"f\":\"free\", \"d\":\"descending\", \"n\":\"notched\"}\n",
    "data[\"gill-attachment\"]=data[\"gill-attachment\"].replace(gill_attachment)\n",
    "\n",
    "gill_spacing={\"c\":\"close\",\"w\":\"crowded\", \"d\":\"distant\"}\n",
    "data[\"gill-spacing\"]=data[\"gill-spacing\"].replace(gill_spacing)\n",
    "\n",
    "gill_size={\"b\":\"broad\",\"n\":\"narrow\"}\n",
    "data[\"gill-size\"]=data[\"gill-size\"].replace(gill_size)\n",
    "\n",
    "gill_color={\"k\":\"black\",\"b\":\"buff\",\"n\":\"brown\",\"h\":\"chocolate\",\"g\":\"gray\",\"r\":\"green\",\"o\":\"orange\",\"p\":\"pink\",\"u\":\"purple\",\"e\":\"red\",\"w\":\"white\",\"y\":\"yellow\"}\n",
    "data[\"gill-color\"]=data[\"gill-color\"].replace(gill_color)\n",
    "\n",
    "stalk_shape={\"t\":\"tapering\",\"e\":\"enlarging\"}\n",
    "data[\"stalk-shape\"]=data[\"stalk-shape\"].replace(stalk_shape)\n",
    "\n",
    "stalk_root={\"b\":\"bulbous\",\"c\":\"club\",\"e\":\"equal\",\"z\":\"rhizomorphs\",\"r\":\"rooted\",\"?\":\"missing\"}\n",
    "data[\"stalk-root\"]=data[\"stalk-root\"].replace(stalk_root)\n",
    "\n",
    "stalk_surface_above_ring={\"s\":\"smooth\",\"k\":\"silky\",\"f\":\"fibrous\",\"y\":\"scaly\"}\n",
    "data[\"stalk-surface-above-ring\"]=data[\"stalk-surface-above-ring\"].replace(stalk_surface_above_ring)\n",
    "data[\"stalk-surface-below-ring\"]=data[\"stalk-surface-below-ring\"].replace(stalk_surface_above_ring)\n",
    "\n",
    "stalk_color_above_ring={\"n\":\"brown\",\"b\":\"buff\",\"c\":\"cinnamon\",\"g\":\"gray\",\"p\":\"pink\",\"e\":\"red\",\"w\":\"white\",\"y\":\"yellow\",\"o\":\"orange\"}\n",
    "data[\"stalk-color-above-ring\"]=data[\"stalk-color-above-ring\"].replace(stalk_color_above_ring)\n",
    "data[\"stalk-color-below-ring\"]=data[\"stalk-color-below-ring\"].replace(stalk_color_above_ring)\n",
    "\n",
    "veil_type={\"p\":\"partial\",\"u\":\"universal\"} \n",
    "data[\"veil-type\"]=data[\"veil-type\"].replace(veil_type)\n",
    "\n",
    "veil_color={\"n\":\"brown\",\"o\":\"orange\",\"w\":\"white\",\"y\":\"yellow\"} \n",
    "data[\"veil-color\"]=data[\"veil-color\"].replace(veil_color)\n",
    "\n",
    "ring_number= {\"n\":\"none\",\"o\":\"one\",\"t\":\"two\"}\n",
    "data[\"ring-number\"]=data[\"ring-number\"].replace(ring_number)\n",
    "\n",
    "ring_type={\"c\":\"cobwebby\",\"e\":\"evanescent\",\"f\":\"flaring\",\"l\":\"large\",\"n\":\"none\",\"p\":\"pendant\",\"s\":\"sheathing\",\"z\":\"zone\"}\n",
    "data[\"ring-type\"]=data[\"ring-type\"].replace(ring_type)\n",
    "\n",
    "spore_print_color= {\"k\":\"black\",\"n\":\"brown\",\"b\":\"buff\",\"h\":\"chocolate\",\"r\":\"green\",\"o\":\"orange\",\"u\":\"purple\",\"w\":\"white\",\"y\":\"yellow\"}\n",
    "data[\"spore-print-color\"]=data[\"spore-print-color\"].replace(spore_print_color)\n",
    "\n",
    "population={\"a\":\"abundant\",\"c\":\"clustered\",\"n\":\"numerous\",\"s\":\"scattered\",\"v\":\"several\",\"y\":\"solitary\"}\n",
    "data[\"population\"]=data[\"population\"].replace(population)\n",
    "\n",
    "habitat={\"g\":\"grasses\",\"l\":\"leaves\",\"m\":\"meadows\",\"p\":\"paths\",\"u\":\"urban\",\"w\":\"waste\",\"d\":\"woods\"}\n",
    "data[\"habitat\"]=data[\"habitat\"].replace(habitat)\n",
    "\n",
    "bruises={\"t\":\"bruises\",\"f\":\"no\"}\n",
    "data[\"bruises\"]=data[\"bruises\"].replace(bruises)\n",
    "\n",
    "classification={\"e\":\"edible\",\"p\":\"poisonous\"}\n",
    "data[\"class\"]=data[\"class\"].replace(classification)\n",
    "\n",
    "print(data.iloc[1].values)"
   ]
  },
  {
   "cell_type": "code",
   "execution_count": 118,
   "id": "f653599b",
   "metadata": {
    "scrolled": false
   },
   "outputs": [
    {
     "data": {
      "image/png": "[encoded data removed]",
      "text/plain": [
       "<Figure size 864x504 with 1 Axes>"
      ]
     },
     "metadata": {
      "needs_background": "light"
     },
     "output_type": "display_data"
    }
   ],
   "source": [
    "plt.figure(figsize=(12,7))\n",
    "class_plt = sns.countplot(x = 'class', data = data, saturation = 0.5).set(title=\"Poisonous vs. Edible Mushrooms\")"
   ]
  },
  {
   "cell_type": "code",
   "execution_count": 119,
   "id": "8718f358",
   "metadata": {},
   "outputs": [
    {
     "data": {
      "image/png": "[encoded data removed]",
      "text/plain": [
       "<Figure size 864x504 with 1 Axes>"
      ]
     },
     "metadata": {
      "needs_background": "light"
     },
     "output_type": "display_data"
    }
   ],
   "source": [
    "plt.figure(figsize=(12,7))\n",
    "color_class_plt = sns.countplot(x = 'cap-color', data = data, hue = 'class', order = data['cap-color'].value_counts().index, saturation = 0.5).set(title = \"Mushroom Cap Color vs. Edibility\")"
   ]
  },
  {
   "cell_type": "code",
   "execution_count": 120,
   "id": "c48ff5a9",
   "metadata": {},
   "outputs": [
    {
     "data": {
      "image/png": "[encoded data removed]",
      "text/plain": [
       "<Figure size 864x504 with 1 Axes>"
      ]
     },
     "metadata": {
      "needs_background": "light"
     },
     "output_type": "display_data"
    }
   ],
   "source": [
    "plt.figure(figsize=(12,7))\n",
    "odor_class_plt = sns.countplot(x = 'odor', data = data, hue = 'class', order = data['odor'].value_counts().index, saturation = 0.5).set(title = \"Mushroom Odor vs. Edibility\")"
   ]
  },
  {
   "cell_type": "code",
   "execution_count": 121,
   "id": "b210f351",
   "metadata": {},
   "outputs": [
    {
     "data": {
      "image/png": "[encoded data removed]",
      "text/plain": [
       "<Figure size 864x504 with 1 Axes>"
      ]
     },
     "metadata": {
      "needs_background": "light"
     },
     "output_type": "display_data"
    }
   ],
   "source": [
    "plt.figure(figsize=(12,7))\n",
    "odor_class_plt = sns.countplot(x = 'habitat', data = data, hue = 'class', order = data['habitat'].value_counts().index, saturation = 0.5).set(title = \"Mushroom Habitat vs. Edibility\")"
   ]
  },
  {
   "cell_type": "code",
   "execution_count": 122,
   "id": "1afe6a1c",
   "metadata": {
    "scrolled": true
   },
   "outputs": [
    {
     "data": {
      "image/png": "[encoded data removed]",
      "text/plain": [
       "<Figure size 864x504 with 1 Axes>"
      ]
     },
     "metadata": {
      "needs_background": "light"
     },
     "output_type": "display_data"
    }
   ],
   "source": [
    "plt.figure(figsize=(12,7))\n",
    "odor_class_plt = sns.countplot(x = 'population', data = data, hue = 'class', order = data['population'].value_counts().index, saturation = 0.5).set(title = \"Mushroom Population vs. Edibility\")"
   ]
  },
  {
   "cell_type": "code",
   "execution_count": 123,
   "id": "f4552ca1",
   "metadata": {
    "scrolled": false
   },
   "outputs": [],
   "source": [
    "data = data[[\"class\", \"cap-color\", \"odor\", \"gill-color\", \"population\", \"habitat\"]]"
   ]
  },
  {
   "cell_type": "code",
   "execution_count": 124,
   "id": "e8da4293",
   "metadata": {},
   "outputs": [
    {
     "data": {
      "text/html": [
       "<div>\n",
       "<style scoped>\n",
       "    .dataframe tbody tr th:only-of-type {\n",
       "        vertical-align: middle;\n",
       "    }\n",
       "\n",
       "    .dataframe tbody tr th {\n",
       "        vertical-align: top;\n",
       "    }\n",
       "\n",
       "    .dataframe thead th {\n",
       "        text-align: right;\n",
       "    }\n",
       "</style>\n",
       "<table border=\"1\" class=\"dataframe\">\n",
       "  <thead>\n",
       "    <tr style=\"text-align: right;\">\n",
       "      <th></th>\n",
       "      <th>class</th>\n",
       "      <th>cap-color</th>\n",
       "      <th>odor</th>\n",
       "      <th>gill-color</th>\n",
       "      <th>population</th>\n",
       "      <th>habitat</th>\n",
       "      <th>stalk-shape</th>\n",
       "    </tr>\n",
       "  </thead>\n",
       "  <tbody>\n",
       "    <tr>\n",
       "      <th>0</th>\n",
       "      <td>poisonous</td>\n",
       "      <td>brown</td>\n",
       "      <td>pungent</td>\n",
       "      <td>black</td>\n",
       "      <td>scattered</td>\n",
       "      <td>urban</td>\n",
       "      <td>enlarging</td>\n",
       "    </tr>\n",
       "    <tr>\n",
       "      <th>1</th>\n",
       "      <td>edible</td>\n",
       "      <td>yellow</td>\n",
       "      <td>almond</td>\n",
       "      <td>black</td>\n",
       "      <td>numerous</td>\n",
       "      <td>grasses</td>\n",
       "      <td>enlarging</td>\n",
       "    </tr>\n",
       "    <tr>\n",
       "      <th>2</th>\n",
       "      <td>edible</td>\n",
       "      <td>white</td>\n",
       "      <td>anise</td>\n",
       "      <td>brown</td>\n",
       "      <td>numerous</td>\n",
       "      <td>meadows</td>\n",
       "      <td>enlarging</td>\n",
       "    </tr>\n",
       "    <tr>\n",
       "      <th>3</th>\n",
       "      <td>poisonous</td>\n",
       "      <td>white</td>\n",
       "      <td>pungent</td>\n",
       "      <td>brown</td>\n",
       "      <td>scattered</td>\n",
       "      <td>urban</td>\n",
       "      <td>enlarging</td>\n",
       "    </tr>\n",
       "    <tr>\n",
       "      <th>4</th>\n",
       "      <td>edible</td>\n",
       "      <td>gray</td>\n",
       "      <td>none</td>\n",
       "      <td>black</td>\n",
       "      <td>abundant</td>\n",
       "      <td>grasses</td>\n",
       "      <td>tapering</td>\n",
       "    </tr>\n",
       "    <tr>\n",
       "      <th>...</th>\n",
       "      <td>...</td>\n",
       "      <td>...</td>\n",
       "      <td>...</td>\n",
       "      <td>...</td>\n",
       "      <td>...</td>\n",
       "      <td>...</td>\n",
       "      <td>...</td>\n",
       "    </tr>\n",
       "    <tr>\n",
       "      <th>8119</th>\n",
       "      <td>edible</td>\n",
       "      <td>brown</td>\n",
       "      <td>none</td>\n",
       "      <td>yellow</td>\n",
       "      <td>clustered</td>\n",
       "      <td>leaves</td>\n",
       "      <td>enlarging</td>\n",
       "    </tr>\n",
       "    <tr>\n",
       "      <th>8120</th>\n",
       "      <td>edible</td>\n",
       "      <td>brown</td>\n",
       "      <td>none</td>\n",
       "      <td>yellow</td>\n",
       "      <td>several</td>\n",
       "      <td>leaves</td>\n",
       "      <td>enlarging</td>\n",
       "    </tr>\n",
       "    <tr>\n",
       "      <th>8121</th>\n",
       "      <td>edible</td>\n",
       "      <td>brown</td>\n",
       "      <td>none</td>\n",
       "      <td>brown</td>\n",
       "      <td>clustered</td>\n",
       "      <td>leaves</td>\n",
       "      <td>enlarging</td>\n",
       "    </tr>\n",
       "    <tr>\n",
       "      <th>8122</th>\n",
       "      <td>poisonous</td>\n",
       "      <td>brown</td>\n",
       "      <td>fishy</td>\n",
       "      <td>buff</td>\n",
       "      <td>several</td>\n",
       "      <td>leaves</td>\n",
       "      <td>tapering</td>\n",
       "    </tr>\n",
       "    <tr>\n",
       "      <th>8123</th>\n",
       "      <td>edible</td>\n",
       "      <td>brown</td>\n",
       "      <td>none</td>\n",
       "      <td>yellow</td>\n",
       "      <td>clustered</td>\n",
       "      <td>leaves</td>\n",
       "      <td>enlarging</td>\n",
       "    </tr>\n",
       "  </tbody>\n",
       "</table>\n",
       "<p>8124 rows × 7 columns</p>\n",
       "</div>"
      ],
      "text/plain": [
       "          class cap-color     odor gill-color population  habitat stalk-shape\n",
       "0     poisonous     brown  pungent      black  scattered    urban   enlarging\n",
       "1        edible    yellow   almond      black   numerous  grasses   enlarging\n",
       "2        edible     white    anise      brown   numerous  meadows   enlarging\n",
       "3     poisonous     white  pungent      brown  scattered    urban   enlarging\n",
       "4        edible      gray     none      black   abundant  grasses    tapering\n",
       "...         ...       ...      ...        ...        ...      ...         ...\n",
       "8119     edible     brown     none     yellow  clustered   leaves   enlarging\n",
       "8120     edible     brown     none     yellow    several   leaves   enlarging\n",
       "8121     edible     brown     none      brown  clustered   leaves   enlarging\n",
       "8122  poisonous     brown    fishy       buff    several   leaves    tapering\n",
       "8123     edible     brown     none     yellow  clustered   leaves   enlarging\n",
       "\n",
       "[8124 rows x 7 columns]"
      ]
     },
     "execution_count": 124,
     "metadata": {},
     "output_type": "execute_result"
    }
   ],
   "source": [
    "data"
   ]
  },
  {
   "cell_type": "code",
   "execution_count": 125,
   "id": "4579b295",
   "metadata": {},
   "outputs": [
    {
     "name": "stdout",
     "output_type": "stream",
     "text": [
      "class             edible\n",
      "cap-color         yellow\n",
      "odor              almond\n",
      "gill-color         black\n",
      "population      numerous\n",
      "habitat          grasses\n",
      "stalk-shape    enlarging\n",
      "Name: 1, dtype: object\n",
      "class          0\n",
      "cap-color      9\n",
      "odor           0\n",
      "gill-color     0\n",
      "population     2\n",
      "habitat        0\n",
      "stalk-shape    0\n",
      "Name: 1, dtype: int32\n"
     ]
    }
   ],
   "source": [
    "# Turn data from categorical to numerical data for model training. \n",
    "from sklearn.preprocessing import LabelEncoder\n",
    "label_encoder = LabelEncoder()\n",
    "print(data.iloc[1])\n",
    "for col in data.columns:\n",
    "    data[col] = label_encoder.fit_transform(data[col])\n",
    "#     label_encoder.fit(data[col])\n",
    "#     data[col] = label_encoder.transform(data[col])\n",
    "x = data.drop('class', axis = 1)\n",
    "y = data[\"class\"].values\n",
    "\n",
    "print(data.iloc[1])"
   ]
  },
  {
   "cell_type": "code",
   "execution_count": 126,
   "id": "ab496423",
   "metadata": {},
   "outputs": [
    {
     "name": "stdout",
     "output_type": "stream",
     "text": [
      "2031\n",
      "2031\n"
     ]
    }
   ],
   "source": [
    "# Split data to prepare for training with models\n",
    "from sklearn.model_selection import train_test_split\n",
    "X_train, X_test, y_train, y_test = train_test_split(x, y, test_size = 0.25, random_state= 100)\n",
    "print(len(X_test))\n",
    "print(len(y_test))"
   ]
  },
  {
   "cell_type": "code",
   "execution_count": 127,
   "id": "fce6d516",
   "metadata": {},
   "outputs": [],
   "source": [
    "# After splitting our datasets, we must scale the data in accordance to the training data to keep training consistent \n",
    "from sklearn.preprocessing import MinMaxScaler\n",
    "\n",
    "scaled = MinMaxScaler()\n",
    "scaled.fit(X_train)\n",
    "\n",
    "X_train = scaled.transform(X_train)\n",
    "X_test = scaled.transform(X_test)"
   ]
  },
  {
   "cell_type": "code",
   "execution_count": 128,
   "id": "2caabab1",
   "metadata": {
    "scrolled": true
   },
   "outputs": [
    {
     "name": "stdout",
     "output_type": "stream",
     "text": [
      "[[0.33333333 0.5        0.63636364 0.8        1.         0.        ]\n",
      " [0.         0.5        0.18181818 0.8        0.5        1.        ]\n",
      " [0.33333333 0.75       0.63636364 1.         1.         1.        ]\n",
      " ...\n",
      " [0.         0.75       0.90909091 0.8        1.         0.        ]\n",
      " [0.         0.5        0.18181818 0.8        1.         1.        ]\n",
      " [0.         0.75       0.81818182 0.2        0.83333333 0.        ]]\n"
     ]
    }
   ],
   "source": [
    "print(X_train)\n",
    "np.savetxt(\"data_csvs\\X_train.csv\", X_train)\n",
    "np.savetxt(\"data_csvs\\X_test.csv\", X_test)\n",
    "np.savetxt(\"data_csvs\\y_train.csv\", y_train)\n",
    "np.savetxt(\"data_csvs\\y_test.csv\", y_test)"
   ]
  },
  {
   "cell_type": "code",
   "execution_count": 129,
   "id": "16cf696d",
   "metadata": {},
   "outputs": [
    {
     "data": {
      "text/plain": [
       "['models\\\\scaled.save']"
      ]
     },
     "execution_count": 129,
     "metadata": {},
     "output_type": "execute_result"
    }
   ],
   "source": [
    "## We now want to save this scaling model to apply to input data\n",
    "import joblib\n",
    "joblib.dump(scaled, 'models\\scaled.save')"
   ]
  },
  {
   "cell_type": "code",
   "execution_count": 130,
   "id": "38a234a8",
   "metadata": {},
   "outputs": [],
   "source": [
    "# Now that our data has successfully been scaled, we can now begin training ML models to our data. "
   ]
  },
  {
   "cell_type": "code",
   "execution_count": 131,
   "id": "b2653fc7",
   "metadata": {},
   "outputs": [
    {
     "data": {
      "text/plain": [
       "RandomForestClassifier(n_estimators=400)"
      ]
     },
     "execution_count": 131,
     "metadata": {},
     "output_type": "execute_result"
    }
   ],
   "source": [
    "# MODEL 1: DECISION TREES AND RANDOM FORESTS\n",
    "from sklearn.ensemble import RandomForestClassifier\n",
    "rfc = RandomForestClassifier(n_estimators=400)\n",
    "rfc.fit(X_train,y_train)"
   ]
  },
  {
   "cell_type": "code",
   "execution_count": 132,
   "id": "ab5ace44",
   "metadata": {},
   "outputs": [],
   "source": [
    "predictions = rfc.predict(X_test)"
   ]
  },
  {
   "cell_type": "code",
   "execution_count": 133,
   "id": "ae305deb",
   "metadata": {},
   "outputs": [
    {
     "name": "stdout",
     "output_type": "stream",
     "text": [
      "              precision    recall  f1-score   support\n",
      "\n",
      "           0       1.00      1.00      1.00      1044\n",
      "           1       1.00      1.00      1.00       987\n",
      "\n",
      "    accuracy                           1.00      2031\n",
      "   macro avg       1.00      1.00      1.00      2031\n",
      "weighted avg       1.00      1.00      1.00      2031\n",
      "\n",
      "[[1044    0]\n",
      " [   0  987]]\n"
     ]
    }
   ],
   "source": [
    "# Performance Analysis\n",
    "from sklearn.metrics import classification_report,confusion_matrix\n",
    "print(classification_report(y_test,predictions))\n",
    "print(confusion_matrix(y_test, predictions))"
   ]
  },
  {
   "cell_type": "code",
   "execution_count": 134,
   "id": "1e96ebb3",
   "metadata": {},
   "outputs": [],
   "source": [
    "#MODEL 2: ANN VIA KERAS\n",
    "import tensorflow as tf\n",
    "from tensorflow.keras.models import Sequential\n",
    "from tensorflow.keras.layers import Dense, Activation,Dropout\n",
    "from tensorflow.keras.layers import Dropout\n",
    "from tensorflow.keras.callbacks import EarlyStopping"
   ]
  },
  {
   "cell_type": "code",
   "execution_count": 135,
   "id": "adc72453",
   "metadata": {},
   "outputs": [],
   "source": [
    "early_stop = EarlyStopping(monitor='val_loss', mode='min', verbose=1, patience=25)"
   ]
  },
  {
   "cell_type": "code",
   "execution_count": 136,
   "id": "c16d7c61",
   "metadata": {},
   "outputs": [],
   "source": [
    "model = Sequential()\n",
    "\n",
    "model.add(Dense(units=22,activation='relu'))\n",
    "model.add(Dropout(0.5))\n",
    "\n",
    "model.add(Dense(units=11,activation='relu'))\n",
    "model.add(Dropout(0.5))\n",
    "\n",
    "model.add(Dense(units=1,activation='sigmoid'))\n",
    "model.compile(loss='binary_crossentropy', optimizer='adam', metrics = ['accuracy'])"
   ]
  },
  {
   "cell_type": "code",
   "execution_count": 137,
   "id": "63ff87d4",
   "metadata": {},
   "outputs": [
    {
     "name": "stdout",
     "output_type": "stream",
     "text": [
      "Epoch 1/60\n",
      "191/191 [==============================] - 1s 2ms/step - loss: 0.7311 - accuracy: 0.5040 - val_loss: 0.6864 - val_accuracy: 0.5603\n",
      "Epoch 2/60\n",
      "191/191 [==============================] - 0s 1ms/step - loss: 0.6867 - accuracy: 0.5372 - val_loss: 0.6666 - val_accuracy: 0.5638\n",
      "Epoch 3/60\n",
      "191/191 [==============================] - 0s 974us/step - loss: 0.6601 - accuracy: 0.5715 - val_loss: 0.6267 - val_accuracy: 0.7213\n",
      "Epoch 4/60\n",
      "191/191 [==============================] - 0s 963us/step - loss: 0.6364 - accuracy: 0.6256 - val_loss: 0.5891 - val_accuracy: 0.7952\n",
      "Epoch 5/60\n",
      "191/191 [==============================] - 0s 958us/step - loss: 0.6047 - accuracy: 0.6910 - val_loss: 0.5451 - val_accuracy: 0.8336\n",
      "Epoch 6/60\n",
      "191/191 [==============================] - 0s 987us/step - loss: 0.5787 - accuracy: 0.7090 - val_loss: 0.5008 - val_accuracy: 0.8508\n",
      "Epoch 7/60\n",
      "191/191 [==============================] - 0s 992us/step - loss: 0.5477 - accuracy: 0.7415 - val_loss: 0.4571 - val_accuracy: 0.8533\n",
      "Epoch 8/60\n",
      "191/191 [==============================] - 0s 1ms/step - loss: 0.5178 - accuracy: 0.7619 - val_loss: 0.4231 - val_accuracy: 0.8602\n",
      "Epoch 9/60\n",
      "191/191 [==============================] - 0s 992us/step - loss: 0.5042 - accuracy: 0.7674 - val_loss: 0.3998 - val_accuracy: 0.8582\n",
      "Epoch 10/60\n",
      "191/191 [==============================] - 0s 997us/step - loss: 0.4838 - accuracy: 0.7840 - val_loss: 0.3786 - val_accuracy: 0.8685\n",
      "Epoch 11/60\n",
      "191/191 [==============================] - 0s 1ms/step - loss: 0.4700 - accuracy: 0.7934 - val_loss: 0.3567 - val_accuracy: 0.8641\n",
      "Epoch 12/60\n",
      "191/191 [==============================] - 0s 971us/step - loss: 0.4649 - accuracy: 0.7958 - val_loss: 0.3458 - val_accuracy: 0.8700\n",
      "Epoch 13/60\n",
      "191/191 [==============================] - 0s 979us/step - loss: 0.4375 - accuracy: 0.8088 - val_loss: 0.3273 - val_accuracy: 0.8646\n",
      "Epoch 14/60\n",
      "191/191 [==============================] - 0s 976us/step - loss: 0.4331 - accuracy: 0.8180 - val_loss: 0.3199 - val_accuracy: 0.8764\n",
      "Epoch 15/60\n",
      "191/191 [==============================] - 0s 975us/step - loss: 0.4178 - accuracy: 0.8250 - val_loss: 0.3078 - val_accuracy: 0.8754\n",
      "Epoch 16/60\n",
      "191/191 [==============================] - 0s 987us/step - loss: 0.4002 - accuracy: 0.8365 - val_loss: 0.3028 - val_accuracy: 0.8715\n",
      "Epoch 17/60\n",
      "191/191 [==============================] - 0s 997us/step - loss: 0.3925 - accuracy: 0.8423 - val_loss: 0.2898 - val_accuracy: 0.8808\n",
      "Epoch 18/60\n",
      "191/191 [==============================] - 0s 1ms/step - loss: 0.3955 - accuracy: 0.8365 - val_loss: 0.2818 - val_accuracy: 0.8676\n",
      "Epoch 19/60\n",
      "191/191 [==============================] - 0s 1ms/step - loss: 0.3875 - accuracy: 0.8423 - val_loss: 0.2736 - val_accuracy: 0.8695\n",
      "Epoch 20/60\n",
      "191/191 [==============================] - 0s 968us/step - loss: 0.3693 - accuracy: 0.8554 - val_loss: 0.2600 - val_accuracy: 0.8720\n",
      "Epoch 21/60\n",
      "191/191 [==============================] - 0s 987us/step - loss: 0.3608 - accuracy: 0.8506 - val_loss: 0.2565 - val_accuracy: 0.9035\n",
      "Epoch 22/60\n",
      "191/191 [==============================] - 0s 984us/step - loss: 0.3619 - accuracy: 0.8613 - val_loss: 0.2473 - val_accuracy: 0.8828\n",
      "Epoch 23/60\n",
      "191/191 [==============================] - 0s 969us/step - loss: 0.3476 - accuracy: 0.8648 - val_loss: 0.2395 - val_accuracy: 0.9222\n",
      "Epoch 24/60\n",
      "191/191 [==============================] - 0s 1ms/step - loss: 0.3556 - accuracy: 0.8631 - val_loss: 0.2351 - val_accuracy: 0.9247\n",
      "Epoch 25/60\n",
      "191/191 [==============================] - 0s 984us/step - loss: 0.3503 - accuracy: 0.8641 - val_loss: 0.2296 - val_accuracy: 0.9257\n",
      "Epoch 26/60\n",
      "191/191 [==============================] - 0s 976us/step - loss: 0.3336 - accuracy: 0.8754 - val_loss: 0.2308 - val_accuracy: 0.9252\n",
      "Epoch 27/60\n",
      "191/191 [==============================] - 0s 995us/step - loss: 0.3415 - accuracy: 0.8738 - val_loss: 0.2194 - val_accuracy: 0.9276\n",
      "Epoch 28/60\n",
      "191/191 [==============================] - 0s 966us/step - loss: 0.3260 - accuracy: 0.8741 - val_loss: 0.2163 - val_accuracy: 0.9266\n",
      "Epoch 29/60\n",
      "191/191 [==============================] - 0s 995us/step - loss: 0.3300 - accuracy: 0.8756 - val_loss: 0.2076 - val_accuracy: 0.9266\n",
      "Epoch 30/60\n",
      "191/191 [==============================] - 0s 979us/step - loss: 0.3178 - accuracy: 0.8776 - val_loss: 0.2040 - val_accuracy: 0.9271\n",
      "Epoch 31/60\n",
      "191/191 [==============================] - 0s 963us/step - loss: 0.3162 - accuracy: 0.8736 - val_loss: 0.1993 - val_accuracy: 0.9286\n",
      "Epoch 32/60\n",
      "191/191 [==============================] - 0s 971us/step - loss: 0.3060 - accuracy: 0.8825 - val_loss: 0.1956 - val_accuracy: 0.9261\n",
      "Epoch 33/60\n",
      "191/191 [==============================] - 0s 968us/step - loss: 0.3096 - accuracy: 0.8820 - val_loss: 0.1899 - val_accuracy: 0.9261\n",
      "Epoch 34/60\n",
      "191/191 [==============================] - 0s 972us/step - loss: 0.3097 - accuracy: 0.8827 - val_loss: 0.1944 - val_accuracy: 0.9286\n",
      "Epoch 35/60\n",
      "191/191 [==============================] - 0s 963us/step - loss: 0.2986 - accuracy: 0.8807 - val_loss: 0.1813 - val_accuracy: 0.9291\n",
      "Epoch 36/60\n",
      "191/191 [==============================] - 0s 963us/step - loss: 0.3009 - accuracy: 0.8805 - val_loss: 0.1796 - val_accuracy: 0.9296\n",
      "Epoch 37/60\n",
      "191/191 [==============================] - 0s 978us/step - loss: 0.2987 - accuracy: 0.8808 - val_loss: 0.1742 - val_accuracy: 0.9286\n",
      "Epoch 38/60\n",
      "191/191 [==============================] - 0s 979us/step - loss: 0.2976 - accuracy: 0.8812 - val_loss: 0.1724 - val_accuracy: 0.9301\n",
      "Epoch 39/60\n",
      "191/191 [==============================] - 0s 976us/step - loss: 0.2968 - accuracy: 0.8840 - val_loss: 0.1698 - val_accuracy: 0.9291\n",
      "Epoch 40/60\n",
      "191/191 [==============================] - 0s 992us/step - loss: 0.2846 - accuracy: 0.8889 - val_loss: 0.1652 - val_accuracy: 0.9286\n",
      "Epoch 41/60\n",
      "191/191 [==============================] - 0s 961us/step - loss: 0.2820 - accuracy: 0.8922 - val_loss: 0.1620 - val_accuracy: 0.9296\n",
      "Epoch 42/60\n",
      "191/191 [==============================] - 0s 974us/step - loss: 0.2701 - accuracy: 0.8946 - val_loss: 0.1586 - val_accuracy: 0.9291\n",
      "Epoch 43/60\n",
      "191/191 [==============================] - 0s 992us/step - loss: 0.2763 - accuracy: 0.8894 - val_loss: 0.1574 - val_accuracy: 0.9321\n",
      "Epoch 44/60\n",
      "191/191 [==============================] - 0s 1ms/step - loss: 0.2711 - accuracy: 0.8928 - val_loss: 0.1523 - val_accuracy: 0.9335\n",
      "Epoch 45/60\n",
      "191/191 [==============================] - 0s 1ms/step - loss: 0.2657 - accuracy: 0.8933 - val_loss: 0.1466 - val_accuracy: 0.9325\n",
      "Epoch 46/60\n",
      "191/191 [==============================] - 0s 974us/step - loss: 0.2573 - accuracy: 0.8946 - val_loss: 0.1410 - val_accuracy: 0.9591\n",
      "Epoch 47/60\n",
      "191/191 [==============================] - 0s 979us/step - loss: 0.2660 - accuracy: 0.8928 - val_loss: 0.1478 - val_accuracy: 0.9355\n",
      "Epoch 48/60\n",
      "191/191 [==============================] - 0s 989us/step - loss: 0.2620 - accuracy: 0.8899 - val_loss: 0.1407 - val_accuracy: 0.9473\n",
      "Epoch 49/60\n",
      "191/191 [==============================] - 0s 976us/step - loss: 0.2528 - accuracy: 0.8996 - val_loss: 0.1428 - val_accuracy: 0.9616\n",
      "Epoch 50/60\n",
      "191/191 [==============================] - 0s 979us/step - loss: 0.2543 - accuracy: 0.8973 - val_loss: 0.1414 - val_accuracy: 0.9355\n",
      "Epoch 51/60\n",
      "191/191 [==============================] - 0s 969us/step - loss: 0.2418 - accuracy: 0.9000 - val_loss: 0.1350 - val_accuracy: 0.9370\n",
      "Epoch 52/60\n",
      "191/191 [==============================] - 0s 980us/step - loss: 0.2597 - accuracy: 0.8978 - val_loss: 0.1366 - val_accuracy: 0.9601\n",
      "Epoch 53/60\n",
      "191/191 [==============================] - 0s 1ms/step - loss: 0.2602 - accuracy: 0.8958 - val_loss: 0.1335 - val_accuracy: 0.9626\n",
      "Epoch 54/60\n",
      "191/191 [==============================] - 0s 989us/step - loss: 0.2517 - accuracy: 0.8979 - val_loss: 0.1266 - val_accuracy: 0.9621\n",
      "Epoch 55/60\n",
      "191/191 [==============================] - 0s 989us/step - loss: 0.2422 - accuracy: 0.9012 - val_loss: 0.1297 - val_accuracy: 0.9621\n",
      "Epoch 56/60\n",
      "191/191 [==============================] - 0s 995us/step - loss: 0.2388 - accuracy: 0.9017 - val_loss: 0.1240 - val_accuracy: 0.9601\n",
      "Epoch 57/60\n",
      "191/191 [==============================] - 0s 992us/step - loss: 0.2510 - accuracy: 0.8981 - val_loss: 0.1252 - val_accuracy: 0.9641\n"
     ]
    },
    {
     "name": "stdout",
     "output_type": "stream",
     "text": [
      "Epoch 58/60\n",
      "191/191 [==============================] - 0s 1ms/step - loss: 0.2409 - accuracy: 0.9035 - val_loss: 0.1259 - val_accuracy: 0.9522\n",
      "Epoch 59/60\n",
      "191/191 [==============================] - 0s 989us/step - loss: 0.2449 - accuracy: 0.8974 - val_loss: 0.1253 - val_accuracy: 0.9626\n",
      "Epoch 60/60\n",
      "191/191 [==============================] - 0s 1ms/step - loss: 0.2412 - accuracy: 0.9032 - val_loss: 0.1229 - val_accuracy: 0.9650\n"
     ]
    },
    {
     "data": {
      "text/plain": [
       "<keras.callbacks.History at 0x22812281580>"
      ]
     },
     "execution_count": 137,
     "metadata": {},
     "output_type": "execute_result"
    }
   ],
   "source": [
    "model.fit(x=X_train, \n",
    "          y=y_train, \n",
    "          epochs=60,\n",
    "          validation_data=(X_test, y_test), verbose=1,\n",
    "          callbacks=[early_stop]\n",
    "          )"
   ]
  },
  {
   "cell_type": "code",
   "execution_count": 138,
   "id": "e49acb68",
   "metadata": {},
   "outputs": [
    {
     "data": {
      "image/png": "[encoded data removed]",
      "text/plain": [
       "<Figure size 432x288 with 1 Axes>"
      ]
     },
     "metadata": {
      "needs_background": "light"
     },
     "output_type": "display_data"
    }
   ],
   "source": [
    "plt.plot(model.history.history['loss'])\n",
    "plt.plot(model.history.history['val_loss'])\n",
    "plt.title('Model loss')\n",
    "plt.ylabel('Loss')\n",
    "plt.xlabel('Epoch')\n",
    "plt.legend(['Train', 'Test'], loc='upper left')\n",
    "plt.show()"
   ]
  },
  {
   "cell_type": "code",
   "execution_count": 139,
   "id": "bab86771",
   "metadata": {},
   "outputs": [
    {
     "name": "stdout",
     "output_type": "stream",
     "text": [
      "64/64 [==============================] - 0s 532us/step\n"
     ]
    }
   ],
   "source": [
    "predictions = model.predict(X_test)\n",
    "predictions = (predictions > 0.5)"
   ]
  },
  {
   "cell_type": "code",
   "execution_count": 140,
   "id": "b94dd9d1",
   "metadata": {},
   "outputs": [
    {
     "name": "stdout",
     "output_type": "stream",
     "text": [
      "              precision    recall  f1-score   support\n",
      "\n",
      "           0       0.95      0.99      0.97      1044\n",
      "           1       0.99      0.94      0.96       987\n",
      "\n",
      "    accuracy                           0.97      2031\n",
      "   macro avg       0.97      0.96      0.96      2031\n",
      "weighted avg       0.97      0.97      0.97      2031\n",
      "\n",
      "[[1031   13]\n",
      " [  58  929]]\n"
     ]
    }
   ],
   "source": [
    "print(classification_report(y_test,predictions))\n",
    "print(confusion_matrix(y_test, predictions))"
   ]
  },
  {
   "cell_type": "code",
   "execution_count": 141,
   "id": "233b61b5",
   "metadata": {},
   "outputs": [],
   "source": [
    "# SAVING MODEL TO BE DEPLOYED\n",
    "model.save('models\\model.h5')\n",
    "model_final = load_model('models\\model.h5')"
   ]
  }
 ],
 "metadata": {
  "kernelspec": {
   "display_name": "Python 3 (ipykernel)",
   "language": "python",
   "name": "python3"
  },
  "language_info": {
   "codemirror_mode": {
    "name": "ipython",
    "version": 3
   },
   "file_extension": ".py",
   "mimetype": "text/x-python",
   "name": "python",
   "nbconvert_exporter": "python",
   "pygments_lexer": "ipython3",
   "version": "3.9.12"
  },
  "vscode": {
   "interpreter": {
    "hash": "916dbcbb3f70747c44a77c7bcd40155683ae19c65e1c03b4aa3499c5328201f1"
   }
  }
 },
 "nbformat": 4,
 "nbformat_minor": 5
}
