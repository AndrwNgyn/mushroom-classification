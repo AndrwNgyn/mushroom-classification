{
 "cells": [
  {
   "cell_type": "code",
   "execution_count": 1,
   "id": "c129732f",
   "metadata": {},
   "outputs": [],
   "source": [
    "#importing libraries\n",
    "\n",
    "import pandas as pd\n",
    "import numpy as np\n",
    "import matplotlib.pyplot as plt\n",
    "import seaborn as sns\n",
    "from keras.models import load_model\n",
    "%matplotlib inline"
   ]
  },
  {
   "cell_type": "code",
   "execution_count": 3,
   "id": "f913106e",
   "metadata": {
    "scrolled": true
   },
   "outputs": [
    {
     "data": {
      "text/html": [
       "<div>\n",
       "<style scoped>\n",
       "    .dataframe tbody tr th:only-of-type {\n",
       "        vertical-align: middle;\n",
       "    }\n",
       "\n",
       "    .dataframe tbody tr th {\n",
       "        vertical-align: top;\n",
       "    }\n",
       "\n",
       "    .dataframe thead th {\n",
       "        text-align: right;\n",
       "    }\n",
       "</style>\n",
       "<table border=\"1\" class=\"dataframe\">\n",
       "  <thead>\n",
       "    <tr style=\"text-align: right;\">\n",
       "      <th></th>\n",
       "      <th>class</th>\n",
       "      <th>cap-shape</th>\n",
       "      <th>cap-surface</th>\n",
       "      <th>cap-color</th>\n",
       "      <th>bruises</th>\n",
       "      <th>odor</th>\n",
       "      <th>gill-attachment</th>\n",
       "      <th>gill-spacing</th>\n",
       "      <th>gill-size</th>\n",
       "      <th>gill-color</th>\n",
       "      <th>...</th>\n",
       "      <th>stalk-surface-below-ring</th>\n",
       "      <th>stalk-color-above-ring</th>\n",
       "      <th>stalk-color-below-ring</th>\n",
       "      <th>veil-type</th>\n",
       "      <th>veil-color</th>\n",
       "      <th>ring-number</th>\n",
       "      <th>ring-type</th>\n",
       "      <th>spore-print-color</th>\n",
       "      <th>population</th>\n",
       "      <th>habitat</th>\n",
       "    </tr>\n",
       "  </thead>\n",
       "  <tbody>\n",
       "    <tr>\n",
       "      <th>0</th>\n",
       "      <td>p</td>\n",
       "      <td>x</td>\n",
       "      <td>s</td>\n",
       "      <td>n</td>\n",
       "      <td>t</td>\n",
       "      <td>p</td>\n",
       "      <td>f</td>\n",
       "      <td>c</td>\n",
       "      <td>n</td>\n",
       "      <td>k</td>\n",
       "      <td>...</td>\n",
       "      <td>s</td>\n",
       "      <td>w</td>\n",
       "      <td>w</td>\n",
       "      <td>p</td>\n",
       "      <td>w</td>\n",
       "      <td>o</td>\n",
       "      <td>p</td>\n",
       "      <td>k</td>\n",
       "      <td>s</td>\n",
       "      <td>u</td>\n",
       "    </tr>\n",
       "    <tr>\n",
       "      <th>1</th>\n",
       "      <td>e</td>\n",
       "      <td>x</td>\n",
       "      <td>s</td>\n",
       "      <td>y</td>\n",
       "      <td>t</td>\n",
       "      <td>a</td>\n",
       "      <td>f</td>\n",
       "      <td>c</td>\n",
       "      <td>b</td>\n",
       "      <td>k</td>\n",
       "      <td>...</td>\n",
       "      <td>s</td>\n",
       "      <td>w</td>\n",
       "      <td>w</td>\n",
       "      <td>p</td>\n",
       "      <td>w</td>\n",
       "      <td>o</td>\n",
       "      <td>p</td>\n",
       "      <td>n</td>\n",
       "      <td>n</td>\n",
       "      <td>g</td>\n",
       "    </tr>\n",
       "    <tr>\n",
       "      <th>2</th>\n",
       "      <td>e</td>\n",
       "      <td>b</td>\n",
       "      <td>s</td>\n",
       "      <td>w</td>\n",
       "      <td>t</td>\n",
       "      <td>l</td>\n",
       "      <td>f</td>\n",
       "      <td>c</td>\n",
       "      <td>b</td>\n",
       "      <td>n</td>\n",
       "      <td>...</td>\n",
       "      <td>s</td>\n",
       "      <td>w</td>\n",
       "      <td>w</td>\n",
       "      <td>p</td>\n",
       "      <td>w</td>\n",
       "      <td>o</td>\n",
       "      <td>p</td>\n",
       "      <td>n</td>\n",
       "      <td>n</td>\n",
       "      <td>m</td>\n",
       "    </tr>\n",
       "    <tr>\n",
       "      <th>3</th>\n",
       "      <td>p</td>\n",
       "      <td>x</td>\n",
       "      <td>y</td>\n",
       "      <td>w</td>\n",
       "      <td>t</td>\n",
       "      <td>p</td>\n",
       "      <td>f</td>\n",
       "      <td>c</td>\n",
       "      <td>n</td>\n",
       "      <td>n</td>\n",
       "      <td>...</td>\n",
       "      <td>s</td>\n",
       "      <td>w</td>\n",
       "      <td>w</td>\n",
       "      <td>p</td>\n",
       "      <td>w</td>\n",
       "      <td>o</td>\n",
       "      <td>p</td>\n",
       "      <td>k</td>\n",
       "      <td>s</td>\n",
       "      <td>u</td>\n",
       "    </tr>\n",
       "    <tr>\n",
       "      <th>4</th>\n",
       "      <td>e</td>\n",
       "      <td>x</td>\n",
       "      <td>s</td>\n",
       "      <td>g</td>\n",
       "      <td>f</td>\n",
       "      <td>n</td>\n",
       "      <td>f</td>\n",
       "      <td>w</td>\n",
       "      <td>b</td>\n",
       "      <td>k</td>\n",
       "      <td>...</td>\n",
       "      <td>s</td>\n",
       "      <td>w</td>\n",
       "      <td>w</td>\n",
       "      <td>p</td>\n",
       "      <td>w</td>\n",
       "      <td>o</td>\n",
       "      <td>e</td>\n",
       "      <td>n</td>\n",
       "      <td>a</td>\n",
       "      <td>g</td>\n",
       "    </tr>\n",
       "  </tbody>\n",
       "</table>\n",
       "<p>5 rows × 23 columns</p>\n",
       "</div>"
      ],
      "text/plain": [
       "  class cap-shape cap-surface cap-color bruises odor gill-attachment  \\\n",
       "0     p         x           s         n       t    p               f   \n",
       "1     e         x           s         y       t    a               f   \n",
       "2     e         b           s         w       t    l               f   \n",
       "3     p         x           y         w       t    p               f   \n",
       "4     e         x           s         g       f    n               f   \n",
       "\n",
       "  gill-spacing gill-size gill-color  ... stalk-surface-below-ring  \\\n",
       "0            c         n          k  ...                        s   \n",
       "1            c         b          k  ...                        s   \n",
       "2            c         b          n  ...                        s   \n",
       "3            c         n          n  ...                        s   \n",
       "4            w         b          k  ...                        s   \n",
       "\n",
       "  stalk-color-above-ring stalk-color-below-ring veil-type veil-color  \\\n",
       "0                      w                      w         p          w   \n",
       "1                      w                      w         p          w   \n",
       "2                      w                      w         p          w   \n",
       "3                      w                      w         p          w   \n",
       "4                      w                      w         p          w   \n",
       "\n",
       "  ring-number ring-type spore-print-color population habitat  \n",
       "0           o         p                 k          s       u  \n",
       "1           o         p                 n          n       g  \n",
       "2           o         p                 n          n       m  \n",
       "3           o         p                 k          s       u  \n",
       "4           o         e                 n          a       g  \n",
       "\n",
       "[5 rows x 23 columns]"
      ]
     },
     "execution_count": 3,
     "metadata": {},
     "output_type": "execute_result"
    }
   ],
   "source": [
    "data = pd.read_csv(\"data_csvs/mushrooms.csv\")\n",
    "data.head()"
   ]
  },
  {
   "cell_type": "code",
   "execution_count": 93,
   "id": "ecf11c56",
   "metadata": {},
   "outputs": [
    {
     "name": "stdout",
     "output_type": "stream",
     "text": [
      "<class 'pandas.core.frame.DataFrame'>\n",
      "RangeIndex: 8124 entries, 0 to 8123\n",
      "Data columns (total 23 columns):\n",
      " #   Column                    Non-Null Count  Dtype \n",
      "---  ------                    --------------  ----- \n",
      " 0   class                     8124 non-null   object\n",
      " 1   cap-shape                 8124 non-null   object\n",
      " 2   cap-surface               8124 non-null   object\n",
      " 3   cap-color                 8124 non-null   object\n",
      " 4   bruises                   8124 non-null   object\n",
      " 5   odor                      8124 non-null   object\n",
      " 6   gill-attachment           8124 non-null   object\n",
      " 7   gill-spacing              8124 non-null   object\n",
      " 8   gill-size                 8124 non-null   object\n",
      " 9   gill-color                8124 non-null   object\n",
      " 10  stalk-shape               8124 non-null   object\n",
      " 11  stalk-root                8124 non-null   object\n",
      " 12  stalk-surface-above-ring  8124 non-null   object\n",
      " 13  stalk-surface-below-ring  8124 non-null   object\n",
      " 14  stalk-color-above-ring    8124 non-null   object\n",
      " 15  stalk-color-below-ring    8124 non-null   object\n",
      " 16  veil-type                 8124 non-null   object\n",
      " 17  veil-color                8124 non-null   object\n",
      " 18  ring-number               8124 non-null   object\n",
      " 19  ring-type                 8124 non-null   object\n",
      " 20  spore-print-color         8124 non-null   object\n",
      " 21  population                8124 non-null   object\n",
      " 22  habitat                   8124 non-null   object\n",
      "dtypes: object(23)\n",
      "memory usage: 1.4+ MB\n"
     ]
    }
   ],
   "source": [
    "data.info()"
   ]
  },
  {
   "cell_type": "code",
   "execution_count": 94,
   "id": "f5527811",
   "metadata": {},
   "outputs": [
    {
     "name": "stdout",
     "output_type": "stream",
     "text": [
      "['edible' 'convex' 'smooth' 'yellow' 'bruises' 'almond' 'free' 'close'\n",
      " 'broad' 'black' 'enlarging' 'club' 'smooth' 'smooth' 'white' 'white'\n",
      " 'partial' 'white' 'one' 'pendant' 'brown' 'numerous' 'grasses']\n"
     ]
    }
   ],
   "source": [
    "# in order to better understand data during EDA, we should convert letter values to full words\n",
    "cap_shape={\"b\":\"bell\",\"c\":\"conical\",\"x\":\"convex\",\"f\":\"flat\",\"k\":\"knobbed\",\"s\":\"sunken\"}\n",
    "data[\"cap-shape\"]=data[\"cap-shape\"].replace(cap_shape)\n",
    "\n",
    "cap_surface={\"f\": \"fibrous\", \"g\": \"grooves\",\"y\":\"scaly\",\"s\": \"smooth\"}\n",
    "data[\"cap-surface\"]=data[\"cap-surface\"].replace(cap_surface)\n",
    "\n",
    "cap_color={\"n\":\"brown\",\"b\":\"buff\",\"c\":\"cinnamon\",\"g\":\"gray\",\"r\":\"green\",\"p\":\"pink\",\"u\":\"purple\",\"e\":\"red\",\"w\":\"white\",\"y\":\"yellow\"}\n",
    "data[\"cap-color\"]=data[\"cap-color\"].replace(cap_color)\n",
    "\n",
    "odor={\"a\":\"almond\",\"l\":\"anise\",\"c\":\"creosote\",\"y\":\"fishy\",\"f\":\"foul\",\"m\":\"musty\",\"n\":\"none\",\"p\":\"pungent\",\"s\":\"spicy\"}\n",
    "data[\"odor\"]=data[\"odor\"].replace(odor)\n",
    "\n",
    "gill_attachment={\"a\":\"attached\",\"f\":\"free\", \"d\":\"descending\", \"n\":\"notched\"}\n",
    "data[\"gill-attachment\"]=data[\"gill-attachment\"].replace(gill_attachment)\n",
    "\n",
    "gill_spacing={\"c\":\"close\",\"w\":\"crowded\", \"d\":\"distant\"}\n",
    "data[\"gill-spacing\"]=data[\"gill-spacing\"].replace(gill_spacing)\n",
    "\n",
    "gill_size={\"b\":\"broad\",\"n\":\"narrow\"}\n",
    "data[\"gill-size\"]=data[\"gill-size\"].replace(gill_size)\n",
    "\n",
    "gill_color={\"k\":\"black\",\"b\":\"buff\",\"n\":\"brown\",\"h\":\"chocolate\",\"g\":\"gray\",\"r\":\"green\",\"o\":\"orange\",\"p\":\"pink\",\"u\":\"purple\",\"e\":\"red\",\"w\":\"white\",\"y\":\"yellow\"}\n",
    "data[\"gill-color\"]=data[\"gill-color\"].replace(gill_color)\n",
    "\n",
    "stalk_shape={\"t\":\"tapering\",\"e\":\"enlarging\"}\n",
    "data[\"stalk-shape\"]=data[\"stalk-shape\"].replace(stalk_shape)\n",
    "\n",
    "stalk_root={\"b\":\"bulbous\",\"c\":\"club\",\"e\":\"equal\",\"z\":\"rhizomorphs\",\"r\":\"rooted\",\"?\":\"missing\"}\n",
    "data[\"stalk-root\"]=data[\"stalk-root\"].replace(stalk_root)\n",
    "\n",
    "stalk_surface_above_ring={\"s\":\"smooth\",\"k\":\"silky\",\"f\":\"fibrous\",\"y\":\"scaly\"}\n",
    "data[\"stalk-surface-above-ring\"]=data[\"stalk-surface-above-ring\"].replace(stalk_surface_above_ring)\n",
    "data[\"stalk-surface-below-ring\"]=data[\"stalk-surface-below-ring\"].replace(stalk_surface_above_ring)\n",
    "\n",
    "stalk_color_above_ring={\"n\":\"brown\",\"b\":\"buff\",\"c\":\"cinnamon\",\"g\":\"gray\",\"p\":\"pink\",\"e\":\"red\",\"w\":\"white\",\"y\":\"yellow\",\"o\":\"orange\"}\n",
    "data[\"stalk-color-above-ring\"]=data[\"stalk-color-above-ring\"].replace(stalk_color_above_ring)\n",
    "data[\"stalk-color-below-ring\"]=data[\"stalk-color-below-ring\"].replace(stalk_color_above_ring)\n",
    "\n",
    "veil_type={\"p\":\"partial\",\"u\":\"universal\"} \n",
    "data[\"veil-type\"]=data[\"veil-type\"].replace(veil_type)\n",
    "\n",
    "veil_color={\"n\":\"brown\",\"o\":\"orange\",\"w\":\"white\",\"y\":\"yellow\"} \n",
    "data[\"veil-color\"]=data[\"veil-color\"].replace(veil_color)\n",
    "\n",
    "ring_number= {\"n\":\"none\",\"o\":\"one\",\"t\":\"two\"}\n",
    "data[\"ring-number\"]=data[\"ring-number\"].replace(ring_number)\n",
    "\n",
    "ring_type={\"c\":\"cobwebby\",\"e\":\"evanescent\",\"f\":\"flaring\",\"l\":\"large\",\"n\":\"none\",\"p\":\"pendant\",\"s\":\"sheathing\",\"z\":\"zone\"}\n",
    "data[\"ring-type\"]=data[\"ring-type\"].replace(ring_type)\n",
    "\n",
    "spore_print_color= {\"k\":\"black\",\"n\":\"brown\",\"b\":\"buff\",\"h\":\"chocolate\",\"r\":\"green\",\"o\":\"orange\",\"u\":\"purple\",\"w\":\"white\",\"y\":\"yellow\"}\n",
    "data[\"spore-print-color\"]=data[\"spore-print-color\"].replace(spore_print_color)\n",
    "\n",
    "population={\"a\":\"abundant\",\"c\":\"clustered\",\"n\":\"numerous\",\"s\":\"scattered\",\"v\":\"several\",\"y\":\"solitary\"}\n",
    "data[\"population\"]=data[\"population\"].replace(population)\n",
    "\n",
    "habitat={\"g\":\"grasses\",\"l\":\"leaves\",\"m\":\"meadows\",\"p\":\"paths\",\"u\":\"urban\",\"w\":\"waste\",\"d\":\"woods\"}\n",
    "data[\"habitat\"]=data[\"habitat\"].replace(habitat)\n",
    "\n",
    "bruises={\"t\":\"bruises\",\"f\":\"no\"}\n",
    "data[\"bruises\"]=data[\"bruises\"].replace(bruises)\n",
    "\n",
    "classification={\"e\":\"edible\",\"p\":\"poisonous\"}\n",
    "data[\"class\"]=data[\"class\"].replace(classification)\n",
    "\n",
    "print(data.iloc[1].values)"
   ]
  },
  {
   "cell_type": "code",
   "execution_count": 95,
   "id": "f653599b",
   "metadata": {
    "scrolled": false
   },
   "outputs": [
    {
     "data": {
      "image/png": "[encoded data removed]",
      "text/plain": [
       "<Figure size 864x504 with 1 Axes>"
      ]
     },
     "metadata": {
      "needs_background": "light"
     },
     "output_type": "display_data"
    }
   ],
   "source": [
    "plt.figure(figsize=(12,7))\n",
    "class_plt = sns.countplot(x = 'class', data = data, saturation = 0.5).set(title=\"Poisonous vs. Edible Mushrooms\")"
   ]
  },
  {
   "cell_type": "code",
   "execution_count": 96,
   "id": "8718f358",
   "metadata": {},
   "outputs": [
    {
     "data": {
      "image/png": "[encoded data removed]",
      "text/plain": [
       "<Figure size 864x504 with 1 Axes>"
      ]
     },
     "metadata": {
      "needs_background": "light"
     },
     "output_type": "display_data"
    }
   ],
   "source": [
    "plt.figure(figsize=(12,7))\n",
    "color_class_plt = sns.countplot(x = 'cap-color', data = data, hue = 'class', order = data['cap-color'].value_counts().index, saturation = 0.5).set(title = \"Mushroom Cap Color vs. Edibility\")"
   ]
  },
  {
   "cell_type": "code",
   "execution_count": 97,
   "id": "c48ff5a9",
   "metadata": {},
   "outputs": [
    {
     "data": {
      "image/png": "[encoded data removed]",
      "text/plain": [
       "<Figure size 864x504 with 1 Axes>"
      ]
     },
     "metadata": {
      "needs_background": "light"
     },
     "output_type": "display_data"
    }
   ],
   "source": [
    "plt.figure(figsize=(12,7))\n",
    "odor_class_plt = sns.countplot(x = 'odor', data = data, hue = 'class', order = data['odor'].value_counts().index, saturation = 0.5).set(title = \"Mushroom Odor vs. Edibility\")"
   ]
  },
  {
   "cell_type": "code",
   "execution_count": 98,
   "id": "b210f351",
   "metadata": {},
   "outputs": [
    {
     "data": {
      "image/png": "[encoded data removed]",
      "text/plain": [
       "<Figure size 864x504 with 1 Axes>"
      ]
     },
     "metadata": {
      "needs_background": "light"
     },
     "output_type": "display_data"
    }
   ],
   "source": [
    "plt.figure(figsize=(12,7))\n",
    "odor_class_plt = sns.countplot(x = 'habitat', data = data, hue = 'class', order = data['habitat'].value_counts().index, saturation = 0.5).set(title = \"Mushroom Habitat vs. Edibility\")"
   ]
  },
  {
   "cell_type": "code",
   "execution_count": 99,
   "id": "1afe6a1c",
   "metadata": {
    "scrolled": true
   },
   "outputs": [
    {
     "data": {
      "image/png": "[encoded data removed]",
      "text/plain": [
       "<Figure size 864x504 with 1 Axes>"
      ]
     },
     "metadata": {
      "needs_background": "light"
     },
     "output_type": "display_data"
    }
   ],
   "source": [
    "plt.figure(figsize=(12,7))\n",
    "odor_class_plt = sns.countplot(x = 'population', data = data, hue = 'class', order = data['population'].value_counts().index, saturation = 0.5).set(title = \"Mushroom Population vs. Edibility\")"
   ]
  },
  {
   "cell_type": "code",
   "execution_count": 100,
   "id": "4579b295",
   "metadata": {},
   "outputs": [
    {
     "name": "stdout",
     "output_type": "stream",
     "text": [
      "class                          edible\n",
      "cap-shape                      convex\n",
      "cap-surface                    smooth\n",
      "cap-color                      yellow\n",
      "bruises                       bruises\n",
      "odor                           almond\n",
      "gill-attachment                  free\n",
      "gill-spacing                    close\n",
      "gill-size                       broad\n",
      "gill-color                      black\n",
      "stalk-shape                 enlarging\n",
      "stalk-root                       club\n",
      "stalk-surface-above-ring       smooth\n",
      "stalk-surface-below-ring       smooth\n",
      "stalk-color-above-ring          white\n",
      "stalk-color-below-ring          white\n",
      "veil-type                     partial\n",
      "veil-color                      white\n",
      "ring-number                       one\n",
      "ring-type                     pendant\n",
      "spore-print-color               brown\n",
      "population                   numerous\n",
      "habitat                       grasses\n",
      "Name: 1, dtype: object\n",
      "class                       0\n",
      "cap-shape                   2\n",
      "cap-surface                 3\n",
      "cap-color                   9\n",
      "bruises                     0\n",
      "odor                        0\n",
      "gill-attachment             1\n",
      "gill-spacing                0\n",
      "gill-size                   0\n",
      "gill-color                  0\n",
      "stalk-shape                 0\n",
      "stalk-root                  1\n",
      "stalk-surface-above-ring    3\n",
      "stalk-surface-below-ring    3\n",
      "stalk-color-above-ring      7\n",
      "stalk-color-below-ring      7\n",
      "veil-type                   0\n",
      "veil-color                  2\n",
      "ring-number                 1\n",
      "ring-type                   4\n",
      "spore-print-color           1\n",
      "population                  2\n",
      "habitat                     0\n",
      "Name: 1, dtype: int32\n"
     ]
    }
   ],
   "source": [
    "# Turn data from categorical to numerical data for model training. \n",
    "from sklearn.preprocessing import LabelEncoder\n",
    "label_encoder = LabelEncoder()\n",
    "print(data.iloc[1])\n",
    "for col in data.columns:\n",
    "    data[col] = label_encoder.fit_transform(data[col])\n",
    "#     label_encoder.fit(data[col])\n",
    "#     data[col] = label_encoder.transform(data[col])\n",
    "x = data.drop('class', axis = 1)\n",
    "y = data[\"class\"].values\n",
    "\n",
    "print(data.iloc[1])"
   ]
  },
  {
   "cell_type": "code",
   "execution_count": 101,
   "id": "ab496423",
   "metadata": {},
   "outputs": [
    {
     "name": "stdout",
     "output_type": "stream",
     "text": [
      "2031\n",
      "2031\n"
     ]
    }
   ],
   "source": [
    "# Split data to prepare for training with models\n",
    "from sklearn.model_selection import train_test_split\n",
    "X_train, X_test, y_train, y_test = train_test_split(x, y, test_size = 0.25, random_state= 100)\n",
    "print(len(X_test))\n",
    "print(len(y_test))"
   ]
  },
  {
   "cell_type": "code",
   "execution_count": 117,
   "id": "fce6d516",
   "metadata": {},
   "outputs": [],
   "source": [
    "# After splitting our datasets, we must scale the data in accordance to the training data to keep training consistent \n",
    "from sklearn.preprocessing import MinMaxScaler\n",
    "\n",
    "scaled = MinMaxScaler()\n",
    "scaled.fit(X_train)\n",
    "\n",
    "X_train = scaled.transform(X_train)\n",
    "X_test = scaled.transform(X_test)"
   ]
  },
  {
   "cell_type": "code",
   "execution_count": 126,
   "id": "2caabab1",
   "metadata": {
    "scrolled": true
   },
   "outputs": [
    {
     "name": "stdout",
     "output_type": "stream",
     "text": [
      "[[0.4        0.         0.33333333 ... 0.375      0.8        1.        ]\n",
      " [0.4        0.66666667 0.         ... 0.875      0.8        0.5       ]\n",
      " [0.6        0.66666667 0.33333333 ... 0.         1.         1.        ]\n",
      " ...\n",
      " [0.         0.         0.         ... 0.875      0.8        1.        ]\n",
      " [0.8        0.66666667 0.         ... 0.875      0.8        1.        ]\n",
      " [0.8        1.         0.         ... 0.875      0.2        0.83333333]]\n"
     ]
    }
   ],
   "source": [
    "print(X_train)\n",
    "np.savetxt(\"data_csvs\\X_train.csv\", X_train)\n",
    "np.savetxt(\"data_csvs\\X_test.csv\", X_test)\n",
    "np.savetxt(\"data_csvs\\y_train.csv\", y_train)\n",
    "np.savetxt(\"data_csvs\\y_test.csv\", y_test)"
   ]
  },
  {
   "cell_type": "code",
   "execution_count": 104,
   "id": "16cf696d",
   "metadata": {},
   "outputs": [
    {
     "data": {
      "text/plain": [
       "['scaled.save']"
      ]
     },
     "execution_count": 104,
     "metadata": {},
     "output_type": "execute_result"
    }
   ],
   "source": [
    "## We now want to save this scaling model to apply to input data\n",
    "import joblib\n",
    "joblib.dump(scaled, 'models\\scaled.save')"
   ]
  },
  {
   "cell_type": "code",
   "execution_count": 105,
   "id": "38a234a8",
   "metadata": {},
   "outputs": [],
   "source": [
    "# Now that our data has successfully been scaled, we can now begin training ML models to our data. "
   ]
  },
  {
   "cell_type": "code",
   "execution_count": 106,
   "id": "b2653fc7",
   "metadata": {},
   "outputs": [
    {
     "data": {
      "text/plain": [
       "RandomForestClassifier(n_estimators=600)"
      ]
     },
     "execution_count": 106,
     "metadata": {},
     "output_type": "execute_result"
    }
   ],
   "source": [
    "# MODEL 1: DECISION TREES AND RANDOM FORESTS\n",
    "from sklearn.ensemble import RandomForestClassifier\n",
    "rfc = RandomForestClassifier(n_estimators=600)\n",
    "rfc.fit(X_train,y_train)"
   ]
  },
  {
   "cell_type": "code",
   "execution_count": 107,
   "id": "ab5ace44",
   "metadata": {},
   "outputs": [],
   "source": [
    "predictions = rfc.predict(X_test)"
   ]
  },
  {
   "cell_type": "code",
   "execution_count": 108,
   "id": "ae305deb",
   "metadata": {},
   "outputs": [
    {
     "name": "stdout",
     "output_type": "stream",
     "text": [
      "              precision    recall  f1-score   support\n",
      "\n",
      "           0       1.00      1.00      1.00      1044\n",
      "           1       1.00      1.00      1.00       987\n",
      "\n",
      "    accuracy                           1.00      2031\n",
      "   macro avg       1.00      1.00      1.00      2031\n",
      "weighted avg       1.00      1.00      1.00      2031\n",
      "\n",
      "[[1044    0]\n",
      " [   0  987]]\n"
     ]
    }
   ],
   "source": [
    "# Performance Analysis\n",
    "from sklearn.metrics import classification_report,confusion_matrix\n",
    "print(classification_report(y_test,predictions))\n",
    "print(confusion_matrix(y_test, predictions))"
   ]
  },
  {
   "cell_type": "code",
   "execution_count": 109,
   "id": "1e96ebb3",
   "metadata": {},
   "outputs": [],
   "source": [
    "#MODEL 2: ANN VIA KERAS\n",
    "import tensorflow as tf\n",
    "from tensorflow.keras.models import Sequential\n",
    "from tensorflow.keras.layers import Dense, Activation,Dropout\n",
    "from tensorflow.keras.layers import Dropout\n",
    "from tensorflow.keras.callbacks import EarlyStopping"
   ]
  },
  {
   "cell_type": "code",
   "execution_count": 110,
   "id": "adc72453",
   "metadata": {},
   "outputs": [],
   "source": [
    "early_stop = EarlyStopping(monitor='val_loss', mode='min', verbose=1, patience=25)"
   ]
  },
  {
   "cell_type": "code",
   "execution_count": 111,
   "id": "c16d7c61",
   "metadata": {},
   "outputs": [],
   "source": [
    "model = Sequential()\n",
    "\n",
    "model.add(Dense(units=22,activation='relu'))\n",
    "model.add(Dropout(0.5))\n",
    "\n",
    "model.add(Dense(units=11,activation='relu'))\n",
    "model.add(Dropout(0.5))\n",
    "\n",
    "model.add(Dense(units=1,activation='sigmoid'))\n",
    "model.compile(loss='binary_crossentropy', optimizer='adam', metrics = ['accuracy'])"
   ]
  },
  {
   "cell_type": "code",
   "execution_count": 112,
   "id": "63ff87d4",
   "metadata": {},
   "outputs": [
    {
     "name": "stdout",
     "output_type": "stream",
     "text": [
      "Epoch 1/600\n",
      "191/191 [==============================] - 1s 1ms/step - loss: 0.5800 - accuracy: 0.6970 - val_loss: 0.4157 - val_accuracy: 0.9099\n",
      "Epoch 2/600\n",
      "191/191 [==============================] - 0s 898us/step - loss: 0.4205 - accuracy: 0.8362 - val_loss: 0.2689 - val_accuracy: 0.9257\n",
      "Epoch 3/600\n",
      "191/191 [==============================] - 0s 905us/step - loss: 0.3291 - accuracy: 0.8871 - val_loss: 0.1918 - val_accuracy: 0.9340\n",
      "Epoch 4/600\n",
      "191/191 [==============================] - 0s 898us/step - loss: 0.2706 - accuracy: 0.9097 - val_loss: 0.1388 - val_accuracy: 0.9503\n",
      "Epoch 5/600\n",
      "191/191 [==============================] - 0s 905us/step - loss: 0.2285 - accuracy: 0.9232 - val_loss: 0.1037 - val_accuracy: 0.9591\n",
      "Epoch 6/600\n",
      "191/191 [==============================] - 0s 876us/step - loss: 0.1869 - accuracy: 0.9373 - val_loss: 0.0779 - val_accuracy: 0.9724\n",
      "Epoch 7/600\n",
      "191/191 [==============================] - 0s 945us/step - loss: 0.1510 - accuracy: 0.9490 - val_loss: 0.0581 - val_accuracy: 0.9872\n",
      "Epoch 8/600\n",
      "191/191 [==============================] - 0s 932us/step - loss: 0.1376 - accuracy: 0.9529 - val_loss: 0.0459 - val_accuracy: 0.9902\n",
      "Epoch 9/600\n",
      "191/191 [==============================] - 0s 887us/step - loss: 0.1235 - accuracy: 0.9600 - val_loss: 0.0393 - val_accuracy: 0.9911\n",
      "Epoch 10/600\n",
      "191/191 [==============================] - 0s 924us/step - loss: 0.1102 - accuracy: 0.9637 - val_loss: 0.0313 - val_accuracy: 0.9931\n",
      "Epoch 11/600\n",
      "191/191 [==============================] - 0s 924us/step - loss: 0.1027 - accuracy: 0.9642 - val_loss: 0.0248 - val_accuracy: 0.9936\n",
      "Epoch 12/600\n",
      "191/191 [==============================] - 0s 934us/step - loss: 0.0966 - accuracy: 0.9642 - val_loss: 0.0236 - val_accuracy: 0.9946\n",
      "Epoch 13/600\n",
      "191/191 [==============================] - 0s 898us/step - loss: 0.0913 - accuracy: 0.9673 - val_loss: 0.0196 - val_accuracy: 0.9951\n",
      "Epoch 14/600\n",
      "191/191 [==============================] - 0s 900us/step - loss: 0.0856 - accuracy: 0.9703 - val_loss: 0.0163 - val_accuracy: 0.9946\n",
      "Epoch 15/600\n",
      "191/191 [==============================] - 0s 879us/step - loss: 0.0789 - accuracy: 0.9742 - val_loss: 0.0167 - val_accuracy: 0.9961\n",
      "Epoch 16/600\n",
      "191/191 [==============================] - 0s 887us/step - loss: 0.0746 - accuracy: 0.9726 - val_loss: 0.0127 - val_accuracy: 0.9970\n",
      "Epoch 17/600\n",
      "191/191 [==============================] - 0s 913us/step - loss: 0.0655 - accuracy: 0.9785 - val_loss: 0.0110 - val_accuracy: 0.9975\n",
      "Epoch 18/600\n",
      "191/191 [==============================] - 0s 903us/step - loss: 0.0658 - accuracy: 0.9778 - val_loss: 0.0094 - val_accuracy: 0.9970\n",
      "Epoch 19/600\n",
      "191/191 [==============================] - 0s 900us/step - loss: 0.0641 - accuracy: 0.9782 - val_loss: 0.0102 - val_accuracy: 0.9975\n",
      "Epoch 20/600\n",
      "191/191 [==============================] - 0s 871us/step - loss: 0.0625 - accuracy: 0.9764 - val_loss: 0.0084 - val_accuracy: 0.9990\n",
      "Epoch 21/600\n",
      "191/191 [==============================] - 0s 882us/step - loss: 0.0599 - accuracy: 0.9780 - val_loss: 0.0066 - val_accuracy: 0.9990\n",
      "Epoch 22/600\n",
      "191/191 [==============================] - 0s 903us/step - loss: 0.0556 - accuracy: 0.9810 - val_loss: 0.0074 - val_accuracy: 0.9980\n",
      "Epoch 23/600\n",
      "191/191 [==============================] - 0s 919us/step - loss: 0.0547 - accuracy: 0.9819 - val_loss: 0.0071 - val_accuracy: 0.9980\n",
      "Epoch 24/600\n",
      "191/191 [==============================] - 0s 898us/step - loss: 0.0559 - accuracy: 0.9790 - val_loss: 0.0067 - val_accuracy: 0.9990\n",
      "Epoch 25/600\n",
      "191/191 [==============================] - 0s 892us/step - loss: 0.0566 - accuracy: 0.9788 - val_loss: 0.0066 - val_accuracy: 1.0000\n",
      "Epoch 26/600\n",
      "191/191 [==============================] - 0s 913us/step - loss: 0.0480 - accuracy: 0.9821 - val_loss: 0.0050 - val_accuracy: 0.9995\n",
      "Epoch 27/600\n",
      "191/191 [==============================] - 0s 908us/step - loss: 0.0456 - accuracy: 0.9844 - val_loss: 0.0047 - val_accuracy: 1.0000\n",
      "Epoch 28/600\n",
      "191/191 [==============================] - 0s 919us/step - loss: 0.0489 - accuracy: 0.9815 - val_loss: 0.0036 - val_accuracy: 0.9995\n",
      "Epoch 29/600\n",
      "191/191 [==============================] - 0s 900us/step - loss: 0.0450 - accuracy: 0.9833 - val_loss: 0.0044 - val_accuracy: 1.0000\n",
      "Epoch 30/600\n",
      "191/191 [==============================] - 0s 992us/step - loss: 0.0465 - accuracy: 0.9836 - val_loss: 0.0039 - val_accuracy: 1.0000\n",
      "Epoch 31/600\n",
      "191/191 [==============================] - 0s 911us/step - loss: 0.0488 - accuracy: 0.9798 - val_loss: 0.0034 - val_accuracy: 1.0000\n",
      "Epoch 32/600\n",
      "191/191 [==============================] - 0s 903us/step - loss: 0.0431 - accuracy: 0.9841 - val_loss: 0.0031 - val_accuracy: 0.9995\n",
      "Epoch 33/600\n",
      "191/191 [==============================] - 0s 898us/step - loss: 0.0469 - accuracy: 0.9821 - val_loss: 0.0030 - val_accuracy: 0.9995\n",
      "Epoch 34/600\n",
      "191/191 [==============================] - 0s 898us/step - loss: 0.0493 - accuracy: 0.9795 - val_loss: 0.0040 - val_accuracy: 1.0000\n",
      "Epoch 35/600\n",
      "191/191 [==============================] - 0s 926us/step - loss: 0.0472 - accuracy: 0.9834 - val_loss: 0.0028 - val_accuracy: 1.0000\n",
      "Epoch 36/600\n",
      "191/191 [==============================] - 0s 926us/step - loss: 0.0470 - accuracy: 0.9841 - val_loss: 0.0027 - val_accuracy: 1.0000\n",
      "Epoch 37/600\n",
      "191/191 [==============================] - 0s 934us/step - loss: 0.0456 - accuracy: 0.9813 - val_loss: 0.0032 - val_accuracy: 1.0000\n",
      "Epoch 38/600\n",
      "191/191 [==============================] - 0s 924us/step - loss: 0.0464 - accuracy: 0.9815 - val_loss: 0.0030 - val_accuracy: 0.9995\n",
      "Epoch 39/600\n",
      "191/191 [==============================] - 0s 929us/step - loss: 0.0434 - accuracy: 0.9821 - val_loss: 0.0034 - val_accuracy: 1.0000\n",
      "Epoch 40/600\n",
      "191/191 [==============================] - 0s 934us/step - loss: 0.0413 - accuracy: 0.9838 - val_loss: 0.0026 - val_accuracy: 1.0000\n",
      "Epoch 41/600\n",
      "191/191 [==============================] - 0s 932us/step - loss: 0.0423 - accuracy: 0.9815 - val_loss: 0.0024 - val_accuracy: 0.9995\n",
      "Epoch 42/600\n",
      "191/191 [==============================] - 0s 932us/step - loss: 0.0439 - accuracy: 0.9824 - val_loss: 0.0033 - val_accuracy: 0.9995\n",
      "Epoch 43/600\n",
      "191/191 [==============================] - 0s 929us/step - loss: 0.0412 - accuracy: 0.9839 - val_loss: 0.0028 - val_accuracy: 0.9990\n",
      "Epoch 44/600\n",
      "191/191 [==============================] - 0s 926us/step - loss: 0.0442 - accuracy: 0.9831 - val_loss: 0.0036 - val_accuracy: 1.0000\n",
      "Epoch 45/600\n",
      "191/191 [==============================] - 0s 934us/step - loss: 0.0398 - accuracy: 0.9860 - val_loss: 0.0018 - val_accuracy: 1.0000\n",
      "Epoch 46/600\n",
      "191/191 [==============================] - 0s 953us/step - loss: 0.0395 - accuracy: 0.9838 - val_loss: 0.0023 - val_accuracy: 1.0000\n",
      "Epoch 47/600\n",
      "191/191 [==============================] - 0s 932us/step - loss: 0.0384 - accuracy: 0.9852 - val_loss: 0.0020 - val_accuracy: 0.9995\n",
      "Epoch 48/600\n",
      "191/191 [==============================] - 0s 940us/step - loss: 0.0364 - accuracy: 0.9846 - val_loss: 0.0023 - val_accuracy: 1.0000\n",
      "Epoch 49/600\n",
      "191/191 [==============================] - 0s 887us/step - loss: 0.0420 - accuracy: 0.9836 - val_loss: 0.0015 - val_accuracy: 1.0000\n",
      "Epoch 50/600\n",
      "191/191 [==============================] - 0s 905us/step - loss: 0.0400 - accuracy: 0.9836 - val_loss: 0.0029 - val_accuracy: 1.0000\n",
      "Epoch 51/600\n",
      "191/191 [==============================] - 0s 908us/step - loss: 0.0405 - accuracy: 0.9831 - val_loss: 0.0025 - val_accuracy: 0.9995\n",
      "Epoch 52/600\n",
      "191/191 [==============================] - 0s 919us/step - loss: 0.0399 - accuracy: 0.9831 - val_loss: 0.0020 - val_accuracy: 1.0000\n",
      "Epoch 53/600\n",
      "191/191 [==============================] - 0s 892us/step - loss: 0.0355 - accuracy: 0.9846 - val_loss: 0.0019 - val_accuracy: 1.0000\n",
      "Epoch 54/600\n",
      "191/191 [==============================] - 0s 898us/step - loss: 0.0385 - accuracy: 0.9846 - val_loss: 0.0021 - val_accuracy: 1.0000\n",
      "Epoch 55/600\n",
      "191/191 [==============================] - 0s 942us/step - loss: 0.0376 - accuracy: 0.9860 - val_loss: 0.0018 - val_accuracy: 1.0000\n",
      "Epoch 56/600\n",
      "191/191 [==============================] - 0s 890us/step - loss: 0.0381 - accuracy: 0.9831 - val_loss: 0.0021 - val_accuracy: 1.0000\n",
      "Epoch 57/600\n",
      "191/191 [==============================] - 0s 908us/step - loss: 0.0381 - accuracy: 0.9828 - val_loss: 0.0017 - val_accuracy: 1.0000\n",
      "Epoch 58/600\n",
      "191/191 [==============================] - 0s 916us/step - loss: 0.0327 - accuracy: 0.9860 - val_loss: 0.0015 - val_accuracy: 1.0000\n",
      "Epoch 59/600\n",
      "191/191 [==============================] - 0s 919us/step - loss: 0.0374 - accuracy: 0.9831 - val_loss: 0.0022 - val_accuracy: 0.9995\n",
      "Epoch 60/600\n",
      "191/191 [==============================] - 0s 908us/step - loss: 0.0387 - accuracy: 0.9834 - val_loss: 0.0023 - val_accuracy: 1.0000\n",
      "Epoch 61/600\n",
      "191/191 [==============================] - 0s 898us/step - loss: 0.0343 - accuracy: 0.9865 - val_loss: 0.0017 - val_accuracy: 1.0000\n",
      "Epoch 62/600\n",
      "191/191 [==============================] - 0s 903us/step - loss: 0.0380 - accuracy: 0.9846 - val_loss: 0.0018 - val_accuracy: 1.0000\n",
      "Epoch 63/600\n",
      "191/191 [==============================] - 0s 887us/step - loss: 0.0398 - accuracy: 0.9836 - val_loss: 0.0031 - val_accuracy: 1.0000\n",
      "Epoch 64/600\n",
      "191/191 [==============================] - 0s 900us/step - loss: 0.0350 - accuracy: 0.9839 - val_loss: 0.0017 - val_accuracy: 1.0000\n",
      "Epoch 65/600\n",
      "191/191 [==============================] - 0s 887us/step - loss: 0.0351 - accuracy: 0.9857 - val_loss: 0.0011 - val_accuracy: 1.0000\n",
      "Epoch 66/600\n",
      "191/191 [==============================] - 0s 905us/step - loss: 0.0370 - accuracy: 0.9836 - val_loss: 8.6673e-04 - val_accuracy: 1.0000\n",
      "Epoch 67/600\n",
      "191/191 [==============================] - 0s 911us/step - loss: 0.0396 - accuracy: 0.9821 - val_loss: 8.5347e-04 - val_accuracy: 1.0000\n",
      "Epoch 68/600\n",
      "191/191 [==============================] - 0s 895us/step - loss: 0.0364 - accuracy: 0.9851 - val_loss: 0.0014 - val_accuracy: 1.0000\n",
      "Epoch 69/600\n",
      "191/191 [==============================] - 0s 898us/step - loss: 0.0372 - accuracy: 0.9834 - val_loss: 0.0014 - val_accuracy: 1.0000\n",
      "Epoch 70/600\n",
      "191/191 [==============================] - 0s 900us/step - loss: 0.0351 - accuracy: 0.9847 - val_loss: 0.0011 - val_accuracy: 1.0000\n",
      "Epoch 71/600\n",
      "191/191 [==============================] - 0s 895us/step - loss: 0.0330 - accuracy: 0.9862 - val_loss: 0.0012 - val_accuracy: 1.0000\n",
      "Epoch 72/600\n",
      "191/191 [==============================] - 0s 919us/step - loss: 0.0338 - accuracy: 0.9852 - val_loss: 0.0016 - val_accuracy: 1.0000\n",
      "Epoch 73/600\n",
      "191/191 [==============================] - 0s 900us/step - loss: 0.0360 - accuracy: 0.9844 - val_loss: 9.4470e-04 - val_accuracy: 1.0000\n",
      "Epoch 74/600\n",
      "191/191 [==============================] - 0s 913us/step - loss: 0.0378 - accuracy: 0.9833 - val_loss: 0.0016 - val_accuracy: 0.9995\n",
      "Epoch 75/600\n",
      "191/191 [==============================] - 0s 890us/step - loss: 0.0369 - accuracy: 0.9836 - val_loss: 0.0014 - val_accuracy: 1.0000\n",
      "Epoch 76/600\n",
      "191/191 [==============================] - 0s 895us/step - loss: 0.0408 - accuracy: 0.9828 - val_loss: 0.0020 - val_accuracy: 0.9995\n",
      "Epoch 77/600\n",
      "191/191 [==============================] - 0s 892us/step - loss: 0.0406 - accuracy: 0.9810 - val_loss: 0.0016 - val_accuracy: 0.9995\n",
      "Epoch 78/600\n",
      "191/191 [==============================] - 0s 945us/step - loss: 0.0350 - accuracy: 0.9859 - val_loss: 6.8821e-04 - val_accuracy: 1.0000\n",
      "Epoch 79/600\n",
      "191/191 [==============================] - 0s 919us/step - loss: 0.0394 - accuracy: 0.9819 - val_loss: 7.6589e-04 - val_accuracy: 1.0000\n",
      "Epoch 80/600\n",
      "191/191 [==============================] - 0s 934us/step - loss: 0.0338 - accuracy: 0.9864 - val_loss: 0.0011 - val_accuracy: 1.0000\n",
      "Epoch 81/600\n",
      "191/191 [==============================] - 0s 929us/step - loss: 0.0372 - accuracy: 0.9831 - val_loss: 0.0020 - val_accuracy: 0.9995\n",
      "Epoch 82/600\n",
      "191/191 [==============================] - 0s 929us/step - loss: 0.0321 - accuracy: 0.9847 - val_loss: 8.3534e-04 - val_accuracy: 1.0000\n",
      "Epoch 83/600\n",
      "191/191 [==============================] - 0s 929us/step - loss: 0.0308 - accuracy: 0.9874 - val_loss: 7.4325e-04 - val_accuracy: 1.0000\n",
      "Epoch 84/600\n",
      "191/191 [==============================] - 0s 929us/step - loss: 0.0346 - accuracy: 0.9864 - val_loss: 0.0013 - val_accuracy: 0.9990\n",
      "Epoch 85/600\n",
      "191/191 [==============================] - 0s 934us/step - loss: 0.0361 - accuracy: 0.9854 - val_loss: 0.0011 - val_accuracy: 0.9995\n",
      "Epoch 86/600\n",
      "191/191 [==============================] - 0s 929us/step - loss: 0.0315 - accuracy: 0.9862 - val_loss: 7.4098e-04 - val_accuracy: 0.9995\n",
      "Epoch 87/600\n",
      "191/191 [==============================] - 0s 926us/step - loss: 0.0357 - accuracy: 0.9841 - val_loss: 5.1439e-04 - val_accuracy: 1.0000\n",
      "Epoch 88/600\n",
      "191/191 [==============================] - 0s 892us/step - loss: 0.0384 - accuracy: 0.9841 - val_loss: 0.0012 - val_accuracy: 1.0000\n",
      "Epoch 89/600\n",
      "191/191 [==============================] - 0s 900us/step - loss: 0.0337 - accuracy: 0.9856 - val_loss: 9.1613e-04 - val_accuracy: 1.0000\n",
      "Epoch 90/600\n",
      "191/191 [==============================] - 0s 924us/step - loss: 0.0348 - accuracy: 0.9847 - val_loss: 2.9840e-04 - val_accuracy: 1.0000\n",
      "Epoch 91/600\n",
      "191/191 [==============================] - 0s 903us/step - loss: 0.0352 - accuracy: 0.9856 - val_loss: 5.7515e-04 - val_accuracy: 1.0000\n",
      "Epoch 92/600\n",
      "191/191 [==============================] - 0s 903us/step - loss: 0.0378 - accuracy: 0.9839 - val_loss: 0.0016 - val_accuracy: 1.0000\n",
      "Epoch 93/600\n",
      "191/191 [==============================] - 0s 890us/step - loss: 0.0370 - accuracy: 0.9824 - val_loss: 4.8100e-04 - val_accuracy: 1.0000\n",
      "Epoch 94/600\n",
      "191/191 [==============================] - 0s 895us/step - loss: 0.0383 - accuracy: 0.9834 - val_loss: 8.5817e-04 - val_accuracy: 1.0000\n",
      "Epoch 95/600\n",
      "191/191 [==============================] - 0s 892us/step - loss: 0.0324 - accuracy: 0.9875 - val_loss: 8.2158e-04 - val_accuracy: 1.0000\n",
      "Epoch 96/600\n",
      "191/191 [==============================] - 0s 908us/step - loss: 0.0350 - accuracy: 0.9865 - val_loss: 1.3027e-04 - val_accuracy: 1.0000\n",
      "Epoch 97/600\n",
      "191/191 [==============================] - 0s 908us/step - loss: 0.0321 - accuracy: 0.9874 - val_loss: 2.8693e-04 - val_accuracy: 1.0000\n",
      "Epoch 98/600\n",
      "191/191 [==============================] - 0s 895us/step - loss: 0.0325 - accuracy: 0.9857 - val_loss: 6.5403e-04 - val_accuracy: 1.0000\n",
      "Epoch 99/600\n",
      "191/191 [==============================] - 0s 903us/step - loss: 0.0333 - accuracy: 0.9857 - val_loss: 3.4796e-04 - val_accuracy: 1.0000\n",
      "Epoch 100/600\n",
      "191/191 [==============================] - 0s 900us/step - loss: 0.0351 - accuracy: 0.9844 - val_loss: 9.8632e-04 - val_accuracy: 1.0000\n",
      "Epoch 101/600\n",
      "191/191 [==============================] - 0s 887us/step - loss: 0.0345 - accuracy: 0.9847 - val_loss: 6.8603e-04 - val_accuracy: 1.0000\n",
      "Epoch 102/600\n",
      "191/191 [==============================] - 0s 887us/step - loss: 0.0366 - accuracy: 0.9838 - val_loss: 8.5454e-04 - val_accuracy: 1.0000\n",
      "Epoch 103/600\n",
      "191/191 [==============================] - 0s 898us/step - loss: 0.0343 - accuracy: 0.9854 - val_loss: 5.5349e-04 - val_accuracy: 0.9995\n",
      "Epoch 104/600\n",
      "191/191 [==============================] - 0s 913us/step - loss: 0.0311 - accuracy: 0.9872 - val_loss: 5.1573e-04 - val_accuracy: 1.0000\n",
      "Epoch 105/600\n",
      "191/191 [==============================] - 0s 890us/step - loss: 0.0326 - accuracy: 0.9854 - val_loss: 0.0010 - val_accuracy: 1.0000\n",
      "Epoch 106/600\n",
      "191/191 [==============================] - 0s 884us/step - loss: 0.0313 - accuracy: 0.9870 - val_loss: 4.9722e-04 - val_accuracy: 1.0000\n",
      "Epoch 107/600\n",
      "191/191 [==============================] - 0s 895us/step - loss: 0.0337 - accuracy: 0.9856 - val_loss: 6.4696e-04 - val_accuracy: 0.9995\n",
      "Epoch 108/600\n",
      "191/191 [==============================] - 0s 884us/step - loss: 0.0360 - accuracy: 0.9859 - val_loss: 8.3692e-04 - val_accuracy: 1.0000\n",
      "Epoch 109/600\n",
      "191/191 [==============================] - 0s 913us/step - loss: 0.0296 - accuracy: 0.9874 - val_loss: 3.3477e-04 - val_accuracy: 1.0000\n",
      "Epoch 110/600\n",
      "191/191 [==============================] - 0s 900us/step - loss: 0.0316 - accuracy: 0.9856 - val_loss: 2.7637e-04 - val_accuracy: 1.0000\n",
      "Epoch 111/600\n",
      "191/191 [==============================] - 0s 900us/step - loss: 0.0342 - accuracy: 0.9859 - val_loss: 3.5802e-04 - val_accuracy: 1.0000\n",
      "Epoch 112/600\n"
     ]
    },
    {
     "name": "stdout",
     "output_type": "stream",
     "text": [
      "191/191 [==============================] - 0s 892us/step - loss: 0.0356 - accuracy: 0.9838 - val_loss: 4.9729e-04 - val_accuracy: 1.0000\n",
      "Epoch 113/600\n",
      "191/191 [==============================] - 0s 879us/step - loss: 0.0283 - accuracy: 0.9880 - val_loss: 3.8984e-04 - val_accuracy: 1.0000\n",
      "Epoch 114/600\n",
      "191/191 [==============================] - 0s 882us/step - loss: 0.0326 - accuracy: 0.9856 - val_loss: 1.2389e-04 - val_accuracy: 1.0000\n",
      "Epoch 115/600\n",
      "191/191 [==============================] - 0s 913us/step - loss: 0.0349 - accuracy: 0.9846 - val_loss: 4.1216e-04 - val_accuracy: 1.0000\n",
      "Epoch 116/600\n",
      "191/191 [==============================] - 0s 903us/step - loss: 0.0374 - accuracy: 0.9833 - val_loss: 5.3122e-04 - val_accuracy: 1.0000\n",
      "Epoch 117/600\n",
      "191/191 [==============================] - 0s 903us/step - loss: 0.0331 - accuracy: 0.9867 - val_loss: 3.4139e-04 - val_accuracy: 1.0000\n",
      "Epoch 118/600\n",
      "191/191 [==============================] - 0s 898us/step - loss: 0.0351 - accuracy: 0.9841 - val_loss: 4.1387e-04 - val_accuracy: 1.0000\n",
      "Epoch 119/600\n",
      "191/191 [==============================] - 0s 895us/step - loss: 0.0314 - accuracy: 0.9870 - val_loss: 3.9837e-04 - val_accuracy: 1.0000\n",
      "Epoch 120/600\n",
      "191/191 [==============================] - 0s 853us/step - loss: 0.0341 - accuracy: 0.9854 - val_loss: 8.4901e-04 - val_accuracy: 1.0000\n",
      "Epoch 121/600\n",
      "191/191 [==============================] - 0s 850us/step - loss: 0.0389 - accuracy: 0.9819 - val_loss: 1.1439e-04 - val_accuracy: 1.0000\n",
      "Epoch 122/600\n",
      "191/191 [==============================] - 0s 829us/step - loss: 0.0337 - accuracy: 0.9849 - val_loss: 2.1708e-04 - val_accuracy: 1.0000\n",
      "Epoch 123/600\n",
      "191/191 [==============================] - 0s 892us/step - loss: 0.0333 - accuracy: 0.9852 - val_loss: 1.3023e-04 - val_accuracy: 1.0000\n",
      "Epoch 124/600\n",
      "191/191 [==============================] - 0s 898us/step - loss: 0.0368 - accuracy: 0.9824 - val_loss: 1.1301e-04 - val_accuracy: 1.0000\n",
      "Epoch 125/600\n",
      "191/191 [==============================] - 0s 890us/step - loss: 0.0344 - accuracy: 0.9851 - val_loss: 7.5469e-04 - val_accuracy: 1.0000\n",
      "Epoch 126/600\n",
      "191/191 [==============================] - 0s 919us/step - loss: 0.0390 - accuracy: 0.9818 - val_loss: 5.1171e-04 - val_accuracy: 1.0000\n",
      "Epoch 127/600\n",
      "191/191 [==============================] - 0s 887us/step - loss: 0.0347 - accuracy: 0.9859 - val_loss: 1.7934e-04 - val_accuracy: 1.0000\n",
      "Epoch 128/600\n",
      "191/191 [==============================] - 0s 884us/step - loss: 0.0322 - accuracy: 0.9879 - val_loss: 2.4604e-04 - val_accuracy: 1.0000\n",
      "Epoch 129/600\n",
      "191/191 [==============================] - 0s 884us/step - loss: 0.0284 - accuracy: 0.9883 - val_loss: 7.3842e-05 - val_accuracy: 1.0000\n",
      "Epoch 130/600\n",
      "191/191 [==============================] - 0s 874us/step - loss: 0.0287 - accuracy: 0.9880 - val_loss: 4.5646e-04 - val_accuracy: 1.0000\n",
      "Epoch 131/600\n",
      "191/191 [==============================] - 0s 882us/step - loss: 0.0329 - accuracy: 0.9867 - val_loss: 2.7852e-04 - val_accuracy: 1.0000\n",
      "Epoch 132/600\n",
      "191/191 [==============================] - 0s 911us/step - loss: 0.0339 - accuracy: 0.9849 - val_loss: 1.9398e-04 - val_accuracy: 1.0000\n",
      "Epoch 133/600\n",
      "191/191 [==============================] - 0s 911us/step - loss: 0.0382 - accuracy: 0.9824 - val_loss: 2.9848e-04 - val_accuracy: 1.0000\n",
      "Epoch 134/600\n",
      "191/191 [==============================] - 0s 911us/step - loss: 0.0376 - accuracy: 0.9819 - val_loss: 0.0010 - val_accuracy: 1.0000\n",
      "Epoch 135/600\n",
      "191/191 [==============================] - 0s 895us/step - loss: 0.0351 - accuracy: 0.9838 - val_loss: 1.4377e-04 - val_accuracy: 1.0000\n",
      "Epoch 136/600\n",
      "191/191 [==============================] - 0s 871us/step - loss: 0.0353 - accuracy: 0.9844 - val_loss: 2.1360e-04 - val_accuracy: 1.0000\n",
      "Epoch 137/600\n",
      "191/191 [==============================] - 0s 834us/step - loss: 0.0383 - accuracy: 0.9828 - val_loss: 5.3839e-04 - val_accuracy: 1.0000\n",
      "Epoch 138/600\n",
      "191/191 [==============================] - 0s 840us/step - loss: 0.0315 - accuracy: 0.9872 - val_loss: 6.8851e-04 - val_accuracy: 1.0000\n",
      "Epoch 139/600\n",
      "191/191 [==============================] - 0s 834us/step - loss: 0.0294 - accuracy: 0.9870 - val_loss: 2.4522e-04 - val_accuracy: 1.0000\n",
      "Epoch 140/600\n",
      "191/191 [==============================] - 0s 834us/step - loss: 0.0312 - accuracy: 0.9865 - val_loss: 8.7115e-05 - val_accuracy: 1.0000\n",
      "Epoch 141/600\n",
      "191/191 [==============================] - 0s 834us/step - loss: 0.0353 - accuracy: 0.9833 - val_loss: 1.1724e-04 - val_accuracy: 1.0000\n",
      "Epoch 142/600\n",
      "191/191 [==============================] - 0s 832us/step - loss: 0.0329 - accuracy: 0.9856 - val_loss: 1.5312e-04 - val_accuracy: 1.0000\n",
      "Epoch 143/600\n",
      "191/191 [==============================] - 0s 832us/step - loss: 0.0292 - accuracy: 0.9875 - val_loss: 9.5744e-05 - val_accuracy: 1.0000\n",
      "Epoch 144/600\n",
      "191/191 [==============================] - 0s 840us/step - loss: 0.0344 - accuracy: 0.9851 - val_loss: 9.5702e-05 - val_accuracy: 1.0000\n",
      "Epoch 145/600\n",
      "191/191 [==============================] - 0s 826us/step - loss: 0.0352 - accuracy: 0.9851 - val_loss: 5.2594e-04 - val_accuracy: 1.0000\n",
      "Epoch 146/600\n",
      "191/191 [==============================] - 0s 829us/step - loss: 0.0337 - accuracy: 0.9857 - val_loss: 1.0564e-04 - val_accuracy: 1.0000\n",
      "Epoch 147/600\n",
      "191/191 [==============================] - 0s 853us/step - loss: 0.0328 - accuracy: 0.9851 - val_loss: 1.9880e-04 - val_accuracy: 1.0000\n",
      "Epoch 148/600\n",
      "191/191 [==============================] - 0s 829us/step - loss: 0.0349 - accuracy: 0.9849 - val_loss: 6.4269e-04 - val_accuracy: 1.0000\n",
      "Epoch 149/600\n",
      "191/191 [==============================] - 0s 821us/step - loss: 0.0371 - accuracy: 0.9833 - val_loss: 1.5009e-04 - val_accuracy: 1.0000\n",
      "Epoch 150/600\n",
      "191/191 [==============================] - 0s 826us/step - loss: 0.0309 - accuracy: 0.9879 - val_loss: 0.0015 - val_accuracy: 0.9990\n",
      "Epoch 151/600\n",
      "191/191 [==============================] - 0s 840us/step - loss: 0.0338 - accuracy: 0.9852 - val_loss: 2.0998e-04 - val_accuracy: 1.0000\n",
      "Epoch 152/600\n",
      "191/191 [==============================] - 0s 824us/step - loss: 0.0357 - accuracy: 0.9844 - val_loss: 3.6880e-04 - val_accuracy: 1.0000\n",
      "Epoch 153/600\n",
      "191/191 [==============================] - 0s 895us/step - loss: 0.0347 - accuracy: 0.9836 - val_loss: 1.3660e-04 - val_accuracy: 1.0000\n",
      "Epoch 154/600\n",
      "191/191 [==============================] - 0s 884us/step - loss: 0.0310 - accuracy: 0.9856 - val_loss: 2.4114e-04 - val_accuracy: 1.0000\n",
      "Epoch 154: early stopping\n"
     ]
    },
    {
     "data": {
      "text/plain": [
       "<keras.callbacks.History at 0x26dff732550>"
      ]
     },
     "execution_count": 112,
     "metadata": {},
     "output_type": "execute_result"
    }
   ],
   "source": [
    "model.fit(x=X_train, \n",
    "          y=y_train, \n",
    "          epochs=600,\n",
    "          validation_data=(X_test, y_test), verbose=1,\n",
    "          callbacks=[early_stop]\n",
    "          )"
   ]
  },
  {
   "cell_type": "code",
   "execution_count": 113,
   "id": "e49acb68",
   "metadata": {},
   "outputs": [
    {
     "data": {
      "text/plain": [
       "<AxesSubplot:>"
      ]
     },
     "execution_count": 113,
     "metadata": {},
     "output_type": "execute_result"
    },
    {
     "data": {
      "image/png": "[encoded data removed]",
      "text/plain": [
       "<Figure size 432x288 with 1 Axes>"
      ]
     },
     "metadata": {
      "needs_background": "light"
     },
     "output_type": "display_data"
    }
   ],
   "source": [
    "model_loss = pd.DataFrame(model.history.history)\n",
    "model_loss.plot()"
   ]
  },
  {
   "cell_type": "code",
   "execution_count": 114,
   "id": "bab86771",
   "metadata": {},
   "outputs": [
    {
     "name": "stdout",
     "output_type": "stream",
     "text": [
      "64/64 [==============================] - 0s 460us/step\n"
     ]
    }
   ],
   "source": [
    "predictions = model.predict(X_test)\n",
    "predictions = (predictions > 0.5)"
   ]
  },
  {
   "cell_type": "code",
   "execution_count": 115,
   "id": "b94dd9d1",
   "metadata": {},
   "outputs": [
    {
     "name": "stdout",
     "output_type": "stream",
     "text": [
      "              precision    recall  f1-score   support\n",
      "\n",
      "           0       1.00      1.00      1.00      1044\n",
      "           1       1.00      1.00      1.00       987\n",
      "\n",
      "    accuracy                           1.00      2031\n",
      "   macro avg       1.00      1.00      1.00      2031\n",
      "weighted avg       1.00      1.00      1.00      2031\n",
      "\n",
      "[[1044    0]\n",
      " [   0  987]]\n"
     ]
    }
   ],
   "source": [
    "print(classification_report(y_test,predictions))\n",
    "print(confusion_matrix(y_test, predictions))"
   ]
  },
  {
   "cell_type": "code",
   "execution_count": null,
   "id": "46796501",
   "metadata": {},
   "outputs": [],
   "source": []
  },
  {
   "cell_type": "code",
   "execution_count": 116,
   "id": "233b61b5",
   "metadata": {},
   "outputs": [],
   "source": [
    "# SAVING MODEL TO BE DEPLOYED\n",
    "model.save('models\\model.h5')\n",
    "model_final = load_model('models\\model.h5')"
   ]
  }
 ],
 "metadata": {
  "kernelspec": {
   "display_name": "Python 3 (ipykernel)",
   "language": "python",
   "name": "python3"
  },
  "language_info": {
   "codemirror_mode": {
    "name": "ipython",
    "version": 3
   },
   "file_extension": ".py",
   "mimetype": "text/x-python",
   "name": "python",
   "nbconvert_exporter": "python",
   "pygments_lexer": "ipython3",
   "version": "3.9.12"
  },
  "vscode": {
   "interpreter": {
    "hash": "624741679a3ae5d99cecf49b8df5d516a7a937e6e7328e129d1fa121c8592e26"
   }
  }
 },
 "nbformat": 4,
 "nbformat_minor": 5
}
