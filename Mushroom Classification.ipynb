{
 "cells": [
  {
   "cell_type": "code",
   "execution_count": 191,
   "id": "4488819e",
   "metadata": {},
   "outputs": [
    {
     "data": {
      "text/plain": [
       "'\\nMUSHROOM CLASSIFICATION\\nCreated by: Andrew Nguyen\\n\\nThis notebook was created with python3 under Windows OS.\\n'"
      ]
     },
     "execution_count": 191,
     "metadata": {},
     "output_type": "execute_result"
    }
   ],
   "source": [
    "'''\n",
    "MUSHROOM CLASSIFICATION\n",
    "Created by: Andrew Nguyen\n",
    "\n",
    "This notebook was created with python3 under Windows OS.\n",
    "'''"
   ]
  },
  {
   "cell_type": "code",
   "execution_count": 192,
   "id": "c129732f",
   "metadata": {},
   "outputs": [],
   "source": [
    "#importing libraries\n",
    "\n",
    "import pandas as pd\n",
    "import numpy as np\n",
    "import matplotlib.pyplot as plt\n",
    "import seaborn as sns\n",
    "from keras.models import load_model\n",
    "%matplotlib inline"
   ]
  },
  {
   "cell_type": "code",
   "execution_count": 193,
   "id": "f913106e",
   "metadata": {
    "scrolled": true
   },
   "outputs": [
    {
     "data": {
      "text/html": [
       "<div>\n",
       "<style scoped>\n",
       "    .dataframe tbody tr th:only-of-type {\n",
       "        vertical-align: middle;\n",
       "    }\n",
       "\n",
       "    .dataframe tbody tr th {\n",
       "        vertical-align: top;\n",
       "    }\n",
       "\n",
       "    .dataframe thead th {\n",
       "        text-align: right;\n",
       "    }\n",
       "</style>\n",
       "<table border=\"1\" class=\"dataframe\">\n",
       "  <thead>\n",
       "    <tr style=\"text-align: right;\">\n",
       "      <th></th>\n",
       "      <th>class</th>\n",
       "      <th>cap-shape</th>\n",
       "      <th>cap-surface</th>\n",
       "      <th>cap-color</th>\n",
       "      <th>bruises</th>\n",
       "      <th>odor</th>\n",
       "      <th>gill-attachment</th>\n",
       "      <th>gill-spacing</th>\n",
       "      <th>gill-size</th>\n",
       "      <th>gill-color</th>\n",
       "      <th>...</th>\n",
       "      <th>stalk-surface-below-ring</th>\n",
       "      <th>stalk-color-above-ring</th>\n",
       "      <th>stalk-color-below-ring</th>\n",
       "      <th>veil-type</th>\n",
       "      <th>veil-color</th>\n",
       "      <th>ring-number</th>\n",
       "      <th>ring-type</th>\n",
       "      <th>spore-print-color</th>\n",
       "      <th>population</th>\n",
       "      <th>habitat</th>\n",
       "    </tr>\n",
       "  </thead>\n",
       "  <tbody>\n",
       "    <tr>\n",
       "      <th>0</th>\n",
       "      <td>p</td>\n",
       "      <td>x</td>\n",
       "      <td>s</td>\n",
       "      <td>n</td>\n",
       "      <td>t</td>\n",
       "      <td>p</td>\n",
       "      <td>f</td>\n",
       "      <td>c</td>\n",
       "      <td>n</td>\n",
       "      <td>k</td>\n",
       "      <td>...</td>\n",
       "      <td>s</td>\n",
       "      <td>w</td>\n",
       "      <td>w</td>\n",
       "      <td>p</td>\n",
       "      <td>w</td>\n",
       "      <td>o</td>\n",
       "      <td>p</td>\n",
       "      <td>k</td>\n",
       "      <td>s</td>\n",
       "      <td>u</td>\n",
       "    </tr>\n",
       "    <tr>\n",
       "      <th>1</th>\n",
       "      <td>e</td>\n",
       "      <td>x</td>\n",
       "      <td>s</td>\n",
       "      <td>y</td>\n",
       "      <td>t</td>\n",
       "      <td>a</td>\n",
       "      <td>f</td>\n",
       "      <td>c</td>\n",
       "      <td>b</td>\n",
       "      <td>k</td>\n",
       "      <td>...</td>\n",
       "      <td>s</td>\n",
       "      <td>w</td>\n",
       "      <td>w</td>\n",
       "      <td>p</td>\n",
       "      <td>w</td>\n",
       "      <td>o</td>\n",
       "      <td>p</td>\n",
       "      <td>n</td>\n",
       "      <td>n</td>\n",
       "      <td>g</td>\n",
       "    </tr>\n",
       "    <tr>\n",
       "      <th>2</th>\n",
       "      <td>e</td>\n",
       "      <td>b</td>\n",
       "      <td>s</td>\n",
       "      <td>w</td>\n",
       "      <td>t</td>\n",
       "      <td>l</td>\n",
       "      <td>f</td>\n",
       "      <td>c</td>\n",
       "      <td>b</td>\n",
       "      <td>n</td>\n",
       "      <td>...</td>\n",
       "      <td>s</td>\n",
       "      <td>w</td>\n",
       "      <td>w</td>\n",
       "      <td>p</td>\n",
       "      <td>w</td>\n",
       "      <td>o</td>\n",
       "      <td>p</td>\n",
       "      <td>n</td>\n",
       "      <td>n</td>\n",
       "      <td>m</td>\n",
       "    </tr>\n",
       "    <tr>\n",
       "      <th>3</th>\n",
       "      <td>p</td>\n",
       "      <td>x</td>\n",
       "      <td>y</td>\n",
       "      <td>w</td>\n",
       "      <td>t</td>\n",
       "      <td>p</td>\n",
       "      <td>f</td>\n",
       "      <td>c</td>\n",
       "      <td>n</td>\n",
       "      <td>n</td>\n",
       "      <td>...</td>\n",
       "      <td>s</td>\n",
       "      <td>w</td>\n",
       "      <td>w</td>\n",
       "      <td>p</td>\n",
       "      <td>w</td>\n",
       "      <td>o</td>\n",
       "      <td>p</td>\n",
       "      <td>k</td>\n",
       "      <td>s</td>\n",
       "      <td>u</td>\n",
       "    </tr>\n",
       "    <tr>\n",
       "      <th>4</th>\n",
       "      <td>e</td>\n",
       "      <td>x</td>\n",
       "      <td>s</td>\n",
       "      <td>g</td>\n",
       "      <td>f</td>\n",
       "      <td>n</td>\n",
       "      <td>f</td>\n",
       "      <td>w</td>\n",
       "      <td>b</td>\n",
       "      <td>k</td>\n",
       "      <td>...</td>\n",
       "      <td>s</td>\n",
       "      <td>w</td>\n",
       "      <td>w</td>\n",
       "      <td>p</td>\n",
       "      <td>w</td>\n",
       "      <td>o</td>\n",
       "      <td>e</td>\n",
       "      <td>n</td>\n",
       "      <td>a</td>\n",
       "      <td>g</td>\n",
       "    </tr>\n",
       "  </tbody>\n",
       "</table>\n",
       "<p>5 rows × 23 columns</p>\n",
       "</div>"
      ],
      "text/plain": [
       "  class cap-shape cap-surface cap-color bruises odor gill-attachment  \\\n",
       "0     p         x           s         n       t    p               f   \n",
       "1     e         x           s         y       t    a               f   \n",
       "2     e         b           s         w       t    l               f   \n",
       "3     p         x           y         w       t    p               f   \n",
       "4     e         x           s         g       f    n               f   \n",
       "\n",
       "  gill-spacing gill-size gill-color  ... stalk-surface-below-ring  \\\n",
       "0            c         n          k  ...                        s   \n",
       "1            c         b          k  ...                        s   \n",
       "2            c         b          n  ...                        s   \n",
       "3            c         n          n  ...                        s   \n",
       "4            w         b          k  ...                        s   \n",
       "\n",
       "  stalk-color-above-ring stalk-color-below-ring veil-type veil-color  \\\n",
       "0                      w                      w         p          w   \n",
       "1                      w                      w         p          w   \n",
       "2                      w                      w         p          w   \n",
       "3                      w                      w         p          w   \n",
       "4                      w                      w         p          w   \n",
       "\n",
       "  ring-number ring-type spore-print-color population habitat  \n",
       "0           o         p                 k          s       u  \n",
       "1           o         p                 n          n       g  \n",
       "2           o         p                 n          n       m  \n",
       "3           o         p                 k          s       u  \n",
       "4           o         e                 n          a       g  \n",
       "\n",
       "[5 rows x 23 columns]"
      ]
     },
     "execution_count": 193,
     "metadata": {},
     "output_type": "execute_result"
    }
   ],
   "source": [
    "data = pd.read_csv(\"data_csvs/mushrooms.csv\")\n",
    "data.head()"
   ]
  },
  {
   "cell_type": "code",
   "execution_count": 194,
   "id": "ecf11c56",
   "metadata": {},
   "outputs": [
    {
     "name": "stdout",
     "output_type": "stream",
     "text": [
      "<class 'pandas.core.frame.DataFrame'>\n",
      "RangeIndex: 8124 entries, 0 to 8123\n",
      "Data columns (total 23 columns):\n",
      " #   Column                    Non-Null Count  Dtype \n",
      "---  ------                    --------------  ----- \n",
      " 0   class                     8124 non-null   object\n",
      " 1   cap-shape                 8124 non-null   object\n",
      " 2   cap-surface               8124 non-null   object\n",
      " 3   cap-color                 8124 non-null   object\n",
      " 4   bruises                   8124 non-null   object\n",
      " 5   odor                      8124 non-null   object\n",
      " 6   gill-attachment           8124 non-null   object\n",
      " 7   gill-spacing              8124 non-null   object\n",
      " 8   gill-size                 8124 non-null   object\n",
      " 9   gill-color                8124 non-null   object\n",
      " 10  stalk-shape               8124 non-null   object\n",
      " 11  stalk-root                8124 non-null   object\n",
      " 12  stalk-surface-above-ring  8124 non-null   object\n",
      " 13  stalk-surface-below-ring  8124 non-null   object\n",
      " 14  stalk-color-above-ring    8124 non-null   object\n",
      " 15  stalk-color-below-ring    8124 non-null   object\n",
      " 16  veil-type                 8124 non-null   object\n",
      " 17  veil-color                8124 non-null   object\n",
      " 18  ring-number               8124 non-null   object\n",
      " 19  ring-type                 8124 non-null   object\n",
      " 20  spore-print-color         8124 non-null   object\n",
      " 21  population                8124 non-null   object\n",
      " 22  habitat                   8124 non-null   object\n",
      "dtypes: object(23)\n",
      "memory usage: 1.4+ MB\n"
     ]
    }
   ],
   "source": [
    "data.info()"
   ]
  },
  {
   "cell_type": "code",
   "execution_count": 195,
   "id": "f5527811",
   "metadata": {},
   "outputs": [
    {
     "name": "stdout",
     "output_type": "stream",
     "text": [
      "['edible' 'convex' 'smooth' 'yellow' 'bruises' 'almond' 'free' 'close'\n",
      " 'broad' 'black' 'enlarging' 'club' 'smooth' 'smooth' 'white' 'white'\n",
      " 'partial' 'white' 'one' 'pendant' 'brown' 'numerous' 'grasses']\n"
     ]
    }
   ],
   "source": [
    "# in order to better understand data during EDA, we should convert letter values to full words\n",
    "cap_shape={\"b\":\"bell\",\"c\":\"conical\",\"x\":\"convex\",\"f\":\"flat\",\"k\":\"knobbed\",\"s\":\"sunken\"}\n",
    "data[\"cap-shape\"]=data[\"cap-shape\"].replace(cap_shape)\n",
    "\n",
    "cap_surface={\"f\": \"fibrous\", \"g\": \"grooves\",\"y\":\"scaly\",\"s\": \"smooth\"}\n",
    "data[\"cap-surface\"]=data[\"cap-surface\"].replace(cap_surface)\n",
    "\n",
    "cap_color={\"n\":\"brown\",\"b\":\"buff\",\"c\":\"cinnamon\",\"g\":\"gray\",\"r\":\"green\",\"p\":\"pink\",\"u\":\"purple\",\"e\":\"red\",\"w\":\"white\",\"y\":\"yellow\"}\n",
    "data[\"cap-color\"]=data[\"cap-color\"].replace(cap_color)\n",
    "\n",
    "odor={\"a\":\"almond\",\"l\":\"anise\",\"c\":\"creosote\",\"y\":\"fishy\",\"f\":\"foul\",\"m\":\"musty\",\"n\":\"none\",\"p\":\"pungent\",\"s\":\"spicy\"}\n",
    "data[\"odor\"]=data[\"odor\"].replace(odor)\n",
    "\n",
    "gill_attachment={\"a\":\"attached\",\"f\":\"free\", \"d\":\"descending\", \"n\":\"notched\"}\n",
    "data[\"gill-attachment\"]=data[\"gill-attachment\"].replace(gill_attachment)\n",
    "\n",
    "gill_spacing={\"c\":\"close\",\"w\":\"crowded\", \"d\":\"distant\"}\n",
    "data[\"gill-spacing\"]=data[\"gill-spacing\"].replace(gill_spacing)\n",
    "\n",
    "gill_size={\"b\":\"broad\",\"n\":\"narrow\"}\n",
    "data[\"gill-size\"]=data[\"gill-size\"].replace(gill_size)\n",
    "\n",
    "gill_color={\"k\":\"black\",\"b\":\"buff\",\"n\":\"brown\",\"h\":\"chocolate\",\"g\":\"gray\",\"r\":\"green\",\"o\":\"orange\",\"p\":\"pink\",\"u\":\"purple\",\"e\":\"red\",\"w\":\"white\",\"y\":\"yellow\"}\n",
    "data[\"gill-color\"]=data[\"gill-color\"].replace(gill_color)\n",
    "\n",
    "stalk_shape={\"t\":\"tapering\",\"e\":\"enlarging\"}\n",
    "data[\"stalk-shape\"]=data[\"stalk-shape\"].replace(stalk_shape)\n",
    "\n",
    "stalk_root={\"b\":\"bulbous\",\"c\":\"club\",\"e\":\"equal\",\"z\":\"rhizomorphs\",\"r\":\"rooted\",\"?\":\"missing\"}\n",
    "data[\"stalk-root\"]=data[\"stalk-root\"].replace(stalk_root)\n",
    "\n",
    "stalk_surface_above_ring={\"s\":\"smooth\",\"k\":\"silky\",\"f\":\"fibrous\",\"y\":\"scaly\"}\n",
    "data[\"stalk-surface-above-ring\"]=data[\"stalk-surface-above-ring\"].replace(stalk_surface_above_ring)\n",
    "data[\"stalk-surface-below-ring\"]=data[\"stalk-surface-below-ring\"].replace(stalk_surface_above_ring)\n",
    "\n",
    "stalk_color_above_ring={\"n\":\"brown\",\"b\":\"buff\",\"c\":\"cinnamon\",\"g\":\"gray\",\"p\":\"pink\",\"e\":\"red\",\"w\":\"white\",\"y\":\"yellow\",\"o\":\"orange\"}\n",
    "data[\"stalk-color-above-ring\"]=data[\"stalk-color-above-ring\"].replace(stalk_color_above_ring)\n",
    "data[\"stalk-color-below-ring\"]=data[\"stalk-color-below-ring\"].replace(stalk_color_above_ring)\n",
    "\n",
    "veil_type={\"p\":\"partial\",\"u\":\"universal\"} \n",
    "data[\"veil-type\"]=data[\"veil-type\"].replace(veil_type)\n",
    "\n",
    "veil_color={\"n\":\"brown\",\"o\":\"orange\",\"w\":\"white\",\"y\":\"yellow\"} \n",
    "data[\"veil-color\"]=data[\"veil-color\"].replace(veil_color)\n",
    "\n",
    "ring_number= {\"n\":\"none\",\"o\":\"one\",\"t\":\"two\"}\n",
    "data[\"ring-number\"]=data[\"ring-number\"].replace(ring_number)\n",
    "\n",
    "ring_type={\"c\":\"cobwebby\",\"e\":\"evanescent\",\"f\":\"flaring\",\"l\":\"large\",\"n\":\"none\",\"p\":\"pendant\",\"s\":\"sheathing\",\"z\":\"zone\"}\n",
    "data[\"ring-type\"]=data[\"ring-type\"].replace(ring_type)\n",
    "\n",
    "spore_print_color= {\"k\":\"black\",\"n\":\"brown\",\"b\":\"buff\",\"h\":\"chocolate\",\"r\":\"green\",\"o\":\"orange\",\"u\":\"purple\",\"w\":\"white\",\"y\":\"yellow\"}\n",
    "data[\"spore-print-color\"]=data[\"spore-print-color\"].replace(spore_print_color)\n",
    "\n",
    "population={\"a\":\"abundant\",\"c\":\"clustered\",\"n\":\"numerous\",\"s\":\"scattered\",\"v\":\"several\",\"y\":\"solitary\"}\n",
    "data[\"population\"]=data[\"population\"].replace(population)\n",
    "\n",
    "habitat={\"g\":\"grasses\",\"l\":\"leaves\",\"m\":\"meadows\",\"p\":\"paths\",\"u\":\"urban\",\"w\":\"waste\",\"d\":\"woods\"}\n",
    "data[\"habitat\"]=data[\"habitat\"].replace(habitat)\n",
    "\n",
    "bruises={\"t\":\"bruises\",\"f\":\"no\"}\n",
    "data[\"bruises\"]=data[\"bruises\"].replace(bruises)\n",
    "\n",
    "classification={\"e\":\"edible\",\"p\":\"poisonous\"}\n",
    "data[\"class\"]=data[\"class\"].replace(classification)\n",
    "\n",
    "print(data.iloc[1].values)"
   ]
  },
  {
   "cell_type": "code",
   "execution_count": 196,
   "id": "f653599b",
   "metadata": {
    "scrolled": false
   },
   "outputs": [
    {
     "data": {
      "image/png": "[encoded data removed]",
      "text/plain": [
       "<Figure size 864x504 with 1 Axes>"
      ]
     },
     "metadata": {
      "needs_background": "light"
     },
     "output_type": "display_data"
    }
   ],
   "source": [
    "plt.figure(figsize=(12,7))\n",
    "class_plt = sns.countplot(x = 'class', data = data, saturation = 0.5).set(title=\"Poisonous vs. Edible Mushrooms\")"
   ]
  },
  {
   "cell_type": "code",
   "execution_count": 197,
   "id": "8718f358",
   "metadata": {},
   "outputs": [
    {
     "data": {
      "image/png": "[encoded data removed]",
      "text/plain": [
       "<Figure size 864x504 with 1 Axes>"
      ]
     },
     "metadata": {
      "needs_background": "light"
     },
     "output_type": "display_data"
    }
   ],
   "source": [
    "plt.figure(figsize=(12,7))\n",
    "color_class_plt = sns.countplot(x = 'cap-color', data = data, hue = 'class', order = data['cap-color'].value_counts().index, saturation = 0.5).set(title = \"Mushroom Cap Color vs. Edibility\")"
   ]
  },
  {
   "cell_type": "code",
   "execution_count": 198,
   "id": "c48ff5a9",
   "metadata": {},
   "outputs": [
    {
     "data": {
      "image/png": "[encoded data removed]",
      "text/plain": [
       "<Figure size 864x504 with 1 Axes>"
      ]
     },
     "metadata": {
      "needs_background": "light"
     },
     "output_type": "display_data"
    }
   ],
   "source": [
    "plt.figure(figsize=(12,7))\n",
    "odor_class_plt = sns.countplot(x = 'odor', data = data, hue = 'class', order = data['odor'].value_counts().index, saturation = 0.5).set(title = \"Mushroom Odor vs. Edibility\")"
   ]
  },
  {
   "cell_type": "code",
   "execution_count": 199,
   "id": "b210f351",
   "metadata": {},
   "outputs": [
    {
     "data": {
      "image/png": "[encoded data removed]",
      "text/plain": [
       "<Figure size 864x504 with 1 Axes>"
      ]
     },
     "metadata": {
      "needs_background": "light"
     },
     "output_type": "display_data"
    }
   ],
   "source": [
    "plt.figure(figsize=(12,7))\n",
    "odor_class_plt = sns.countplot(x = 'habitat', data = data, hue = 'class', order = data['habitat'].value_counts().index, saturation = 0.5).set(title = \"Mushroom Habitat vs. Edibility\")"
   ]
  },
  {
   "cell_type": "code",
   "execution_count": 200,
   "id": "1afe6a1c",
   "metadata": {
    "scrolled": true
   },
   "outputs": [
    {
     "data": {
      "image/png": "[encoded data removed]",
      "text/plain": [
       "<Figure size 864x504 with 1 Axes>"
      ]
     },
     "metadata": {
      "needs_background": "light"
     },
     "output_type": "display_data"
    }
   ],
   "source": [
    "plt.figure(figsize=(12,7))\n",
    "odor_class_plt = sns.countplot(x = 'population', data = data, hue = 'class', order = data['population'].value_counts().index, saturation = 0.5).set(title = \"Mushroom Population vs. Edibility\")"
   ]
  },
  {
   "cell_type": "code",
   "execution_count": 201,
   "id": "1bba1899",
   "metadata": {
    "scrolled": false
   },
   "outputs": [],
   "source": [
    "data = data[[\"class\", \"cap-color\", \"odor\", \"gill-color\", \"population\", \"habitat\"]]"
   ]
  },
  {
   "cell_type": "code",
   "execution_count": 202,
   "id": "84d83f56",
   "metadata": {},
   "outputs": [
    {
     "data": {
      "text/html": [
       "<div>\n",
       "<style scoped>\n",
       "    .dataframe tbody tr th:only-of-type {\n",
       "        vertical-align: middle;\n",
       "    }\n",
       "\n",
       "    .dataframe tbody tr th {\n",
       "        vertical-align: top;\n",
       "    }\n",
       "\n",
       "    .dataframe thead th {\n",
       "        text-align: right;\n",
       "    }\n",
       "</style>\n",
       "<table border=\"1\" class=\"dataframe\">\n",
       "  <thead>\n",
       "    <tr style=\"text-align: right;\">\n",
       "      <th></th>\n",
       "      <th>class</th>\n",
       "      <th>cap-color</th>\n",
       "      <th>odor</th>\n",
       "      <th>gill-color</th>\n",
       "      <th>population</th>\n",
       "      <th>habitat</th>\n",
       "    </tr>\n",
       "  </thead>\n",
       "  <tbody>\n",
       "    <tr>\n",
       "      <th>0</th>\n",
       "      <td>poisonous</td>\n",
       "      <td>brown</td>\n",
       "      <td>pungent</td>\n",
       "      <td>black</td>\n",
       "      <td>scattered</td>\n",
       "      <td>urban</td>\n",
       "    </tr>\n",
       "    <tr>\n",
       "      <th>1</th>\n",
       "      <td>edible</td>\n",
       "      <td>yellow</td>\n",
       "      <td>almond</td>\n",
       "      <td>black</td>\n",
       "      <td>numerous</td>\n",
       "      <td>grasses</td>\n",
       "    </tr>\n",
       "    <tr>\n",
       "      <th>2</th>\n",
       "      <td>edible</td>\n",
       "      <td>white</td>\n",
       "      <td>anise</td>\n",
       "      <td>brown</td>\n",
       "      <td>numerous</td>\n",
       "      <td>meadows</td>\n",
       "    </tr>\n",
       "    <tr>\n",
       "      <th>3</th>\n",
       "      <td>poisonous</td>\n",
       "      <td>white</td>\n",
       "      <td>pungent</td>\n",
       "      <td>brown</td>\n",
       "      <td>scattered</td>\n",
       "      <td>urban</td>\n",
       "    </tr>\n",
       "    <tr>\n",
       "      <th>4</th>\n",
       "      <td>edible</td>\n",
       "      <td>gray</td>\n",
       "      <td>none</td>\n",
       "      <td>black</td>\n",
       "      <td>abundant</td>\n",
       "      <td>grasses</td>\n",
       "    </tr>\n",
       "    <tr>\n",
       "      <th>...</th>\n",
       "      <td>...</td>\n",
       "      <td>...</td>\n",
       "      <td>...</td>\n",
       "      <td>...</td>\n",
       "      <td>...</td>\n",
       "      <td>...</td>\n",
       "    </tr>\n",
       "    <tr>\n",
       "      <th>8119</th>\n",
       "      <td>edible</td>\n",
       "      <td>brown</td>\n",
       "      <td>none</td>\n",
       "      <td>yellow</td>\n",
       "      <td>clustered</td>\n",
       "      <td>leaves</td>\n",
       "    </tr>\n",
       "    <tr>\n",
       "      <th>8120</th>\n",
       "      <td>edible</td>\n",
       "      <td>brown</td>\n",
       "      <td>none</td>\n",
       "      <td>yellow</td>\n",
       "      <td>several</td>\n",
       "      <td>leaves</td>\n",
       "    </tr>\n",
       "    <tr>\n",
       "      <th>8121</th>\n",
       "      <td>edible</td>\n",
       "      <td>brown</td>\n",
       "      <td>none</td>\n",
       "      <td>brown</td>\n",
       "      <td>clustered</td>\n",
       "      <td>leaves</td>\n",
       "    </tr>\n",
       "    <tr>\n",
       "      <th>8122</th>\n",
       "      <td>poisonous</td>\n",
       "      <td>brown</td>\n",
       "      <td>fishy</td>\n",
       "      <td>buff</td>\n",
       "      <td>several</td>\n",
       "      <td>leaves</td>\n",
       "    </tr>\n",
       "    <tr>\n",
       "      <th>8123</th>\n",
       "      <td>edible</td>\n",
       "      <td>brown</td>\n",
       "      <td>none</td>\n",
       "      <td>yellow</td>\n",
       "      <td>clustered</td>\n",
       "      <td>leaves</td>\n",
       "    </tr>\n",
       "  </tbody>\n",
       "</table>\n",
       "<p>8124 rows × 6 columns</p>\n",
       "</div>"
      ],
      "text/plain": [
       "          class cap-color     odor gill-color population  habitat\n",
       "0     poisonous     brown  pungent      black  scattered    urban\n",
       "1        edible    yellow   almond      black   numerous  grasses\n",
       "2        edible     white    anise      brown   numerous  meadows\n",
       "3     poisonous     white  pungent      brown  scattered    urban\n",
       "4        edible      gray     none      black   abundant  grasses\n",
       "...         ...       ...      ...        ...        ...      ...\n",
       "8119     edible     brown     none     yellow  clustered   leaves\n",
       "8120     edible     brown     none     yellow    several   leaves\n",
       "8121     edible     brown     none      brown  clustered   leaves\n",
       "8122  poisonous     brown    fishy       buff    several   leaves\n",
       "8123     edible     brown     none     yellow  clustered   leaves\n",
       "\n",
       "[8124 rows x 6 columns]"
      ]
     },
     "execution_count": 202,
     "metadata": {},
     "output_type": "execute_result"
    }
   ],
   "source": [
    "data"
   ]
  },
  {
   "cell_type": "code",
   "execution_count": 203,
   "id": "4579b295",
   "metadata": {},
   "outputs": [
    {
     "name": "stdout",
     "output_type": "stream",
     "text": [
      "class           edible\n",
      "cap-color       yellow\n",
      "odor            almond\n",
      "gill-color       black\n",
      "population    numerous\n",
      "habitat        grasses\n",
      "Name: 1, dtype: object\n",
      "class         0\n",
      "cap-color     9\n",
      "odor          0\n",
      "gill-color    0\n",
      "population    2\n",
      "habitat       0\n",
      "Name: 1, dtype: int32\n"
     ]
    }
   ],
   "source": [
    "# Turn data from categorical to numerical data for model training. \n",
    "from sklearn.preprocessing import LabelEncoder\n",
    "label_encoder = LabelEncoder()\n",
    "print(data.iloc[1])\n",
    "for col in data.columns:\n",
    "    data[col] = label_encoder.fit_transform(data[col])\n",
    "#     label_encoder.fit(data[col])\n",
    "#     data[col] = label_encoder.transform(data[col])\n",
    "x = data.drop('class', axis = 1)\n",
    "y = data[\"class\"].values\n",
    "\n",
    "print(data.iloc[1])"
   ]
  },
  {
   "cell_type": "code",
   "execution_count": 204,
   "id": "ab496423",
   "metadata": {},
   "outputs": [
    {
     "name": "stdout",
     "output_type": "stream",
     "text": [
      "2031\n",
      "2031\n"
     ]
    }
   ],
   "source": [
    "# Split data to prepare for training with models\n",
    "from sklearn.model_selection import train_test_split\n",
    "X_train, X_test, y_train, y_test = train_test_split(x, y, test_size = 0.25, random_state= 100)\n",
    "print(len(X_test))\n",
    "print(len(y_test))"
   ]
  },
  {
   "cell_type": "code",
   "execution_count": 205,
   "id": "fce6d516",
   "metadata": {},
   "outputs": [],
   "source": [
    "# After splitting our datasets, we must scale the data in accordance to the training data to keep training consistent \n",
    "from sklearn.preprocessing import MinMaxScaler\n",
    "\n",
    "scaled = MinMaxScaler()\n",
    "scaled.fit(X_train)\n",
    "\n",
    "X_train = scaled.transform(X_train)\n",
    "X_test = scaled.transform(X_test)"
   ]
  },
  {
   "cell_type": "code",
   "execution_count": 206,
   "id": "2caabab1",
   "metadata": {
    "scrolled": true
   },
   "outputs": [
    {
     "name": "stdout",
     "output_type": "stream",
     "text": [
      "[[0.33333333 0.5        0.63636364 0.8        1.        ]\n",
      " [0.         0.5        0.18181818 0.8        0.5       ]\n",
      " [0.33333333 0.75       0.63636364 1.         1.        ]\n",
      " ...\n",
      " [0.         0.75       0.90909091 0.8        1.        ]\n",
      " [0.         0.5        0.18181818 0.8        1.        ]\n",
      " [0.         0.75       0.81818182 0.2        0.83333333]]\n"
     ]
    }
   ],
   "source": [
    "print(X_train)\n",
    "np.savetxt(\"data_csvs\\X_train.csv\", X_train)\n",
    "np.savetxt(\"data_csvs\\X_test.csv\", X_test)\n",
    "np.savetxt(\"data_csvs\\y_train.csv\", y_train)\n",
    "np.savetxt(\"data_csvs\\y_test.csv\", y_test)"
   ]
  },
  {
   "cell_type": "code",
   "execution_count": 207,
   "id": "16cf696d",
   "metadata": {},
   "outputs": [
    {
     "data": {
      "text/plain": [
       "['models\\\\scaled.save']"
      ]
     },
     "execution_count": 207,
     "metadata": {},
     "output_type": "execute_result"
    }
   ],
   "source": [
    "## We now want to save this scaling model to apply to input data\n",
    "import joblib\n",
    "joblib.dump(scaled, 'models\\scaled.save')"
   ]
  },
  {
   "cell_type": "code",
   "execution_count": 208,
   "id": "38a234a8",
   "metadata": {},
   "outputs": [],
   "source": [
    "# Now that our data has successfully been scaled, we can now begin training ML models to our data. "
   ]
  },
  {
   "cell_type": "code",
   "execution_count": 209,
   "id": "b2653fc7",
   "metadata": {},
   "outputs": [
    {
     "data": {
      "text/plain": [
       "RandomForestClassifier(n_estimators=400)"
      ]
     },
     "execution_count": 209,
     "metadata": {},
     "output_type": "execute_result"
    }
   ],
   "source": [
    "# MODEL 1: DECISION TREES AND RANDOM FORESTS\n",
    "from sklearn.ensemble import RandomForestClassifier\n",
    "rfc = RandomForestClassifier(n_estimators=400)\n",
    "rfc.fit(X_train,y_train)"
   ]
  },
  {
   "cell_type": "code",
   "execution_count": 210,
   "id": "ab5ace44",
   "metadata": {},
   "outputs": [],
   "source": [
    "predictions = rfc.predict(X_test)"
   ]
  },
  {
   "cell_type": "code",
   "execution_count": 211,
   "id": "ae305deb",
   "metadata": {},
   "outputs": [
    {
     "name": "stdout",
     "output_type": "stream",
     "text": [
      "              precision    recall  f1-score   support\n",
      "\n",
      "           0       0.99      1.00      1.00      1044\n",
      "           1       1.00      0.99      1.00       987\n",
      "\n",
      "    accuracy                           1.00      2031\n",
      "   macro avg       1.00      1.00      1.00      2031\n",
      "weighted avg       1.00      1.00      1.00      2031\n",
      "\n",
      "[[1044    0]\n",
      " [   6  981]]\n"
     ]
    }
   ],
   "source": [
    "# Performance Analysis\n",
    "from sklearn.metrics import classification_report,confusion_matrix\n",
    "print(classification_report(y_test,predictions))\n",
    "print(confusion_matrix(y_test, predictions))"
   ]
  },
  {
   "cell_type": "code",
   "execution_count": 212,
   "id": "1e96ebb3",
   "metadata": {},
   "outputs": [],
   "source": [
    "#MODEL 2: ANN VIA KERAS\n",
    "import tensorflow as tf\n",
    "from tensorflow.keras.models import Sequential\n",
    "from tensorflow.keras.layers import Dense, Activation,Dropout\n",
    "from tensorflow.keras.layers import Dropout\n",
    "from tensorflow.keras.callbacks import EarlyStopping"
   ]
  },
  {
   "cell_type": "code",
   "execution_count": 213,
   "id": "adc72453",
   "metadata": {},
   "outputs": [],
   "source": [
    "early_stop = EarlyStopping(monitor='val_loss', mode='min', verbose=1, patience=25)"
   ]
  },
  {
   "cell_type": "code",
   "execution_count": 214,
   "id": "c16d7c61",
   "metadata": {},
   "outputs": [],
   "source": [
    "model = Sequential()\n",
    "\n",
    "model.add(Dense(units=22,activation='relu'))\n",
    "model.add(Dropout(0.5))\n",
    "\n",
    "model.add(Dense(units=11,activation='relu'))\n",
    "model.add(Dropout(0.5))\n",
    "\n",
    "model.add(Dense(units=1,activation='sigmoid'))\n",
    "model.compile(loss='binary_crossentropy', optimizer='adam', metrics = ['accuracy'])"
   ]
  },
  {
   "cell_type": "code",
   "execution_count": 215,
   "id": "63ff87d4",
   "metadata": {},
   "outputs": [
    {
     "name": "stdout",
     "output_type": "stream",
     "text": [
      "Epoch 1/60\n",
      "191/191 [==============================] - 1s 1ms/step - loss: 0.6923 - accuracy: 0.5291 - val_loss: 0.6708 - val_accuracy: 0.6947\n",
      "Epoch 2/60\n",
      "191/191 [==============================] - 0s 967us/step - loss: 0.6664 - accuracy: 0.5902 - val_loss: 0.6280 - val_accuracy: 0.7484\n",
      "Epoch 3/60\n",
      "191/191 [==============================] - 0s 939us/step - loss: 0.6354 - accuracy: 0.6366 - val_loss: 0.5852 - val_accuracy: 0.7755\n",
      "Epoch 4/60\n",
      "191/191 [==============================] - 0s 952us/step - loss: 0.5996 - accuracy: 0.6788 - val_loss: 0.5464 - val_accuracy: 0.8035\n",
      "Epoch 5/60\n",
      "191/191 [==============================] - 0s 948us/step - loss: 0.5852 - accuracy: 0.6949 - val_loss: 0.5198 - val_accuracy: 0.8163\n",
      "Epoch 6/60\n",
      "191/191 [==============================] - 0s 974us/step - loss: 0.5629 - accuracy: 0.7228 - val_loss: 0.4989 - val_accuracy: 0.8208\n",
      "Epoch 7/60\n",
      "191/191 [==============================] - 0s 955us/step - loss: 0.5507 - accuracy: 0.7344 - val_loss: 0.4759 - val_accuracy: 0.8365\n",
      "Epoch 8/60\n",
      "191/191 [==============================] - 0s 961us/step - loss: 0.5321 - accuracy: 0.7430 - val_loss: 0.4552 - val_accuracy: 0.8419\n",
      "Epoch 9/60\n",
      "191/191 [==============================] - 0s 963us/step - loss: 0.5184 - accuracy: 0.7620 - val_loss: 0.4416 - val_accuracy: 0.8385\n",
      "Epoch 10/60\n",
      "191/191 [==============================] - 0s 953us/step - loss: 0.5095 - accuracy: 0.7663 - val_loss: 0.4260 - val_accuracy: 0.8326\n",
      "Epoch 11/60\n",
      "191/191 [==============================] - 0s 942us/step - loss: 0.4966 - accuracy: 0.7773 - val_loss: 0.4106 - val_accuracy: 0.8503\n",
      "Epoch 12/60\n",
      "191/191 [==============================] - 0s 947us/step - loss: 0.4900 - accuracy: 0.7791 - val_loss: 0.3955 - val_accuracy: 0.8621\n",
      "Epoch 13/60\n",
      "191/191 [==============================] - 0s 968us/step - loss: 0.4823 - accuracy: 0.7899 - val_loss: 0.3873 - val_accuracy: 0.8518\n",
      "Epoch 14/60\n",
      "191/191 [==============================] - 0s 976us/step - loss: 0.4700 - accuracy: 0.7916 - val_loss: 0.3800 - val_accuracy: 0.8513\n",
      "Epoch 15/60\n",
      "191/191 [==============================] - 0s 960us/step - loss: 0.4633 - accuracy: 0.7968 - val_loss: 0.3658 - val_accuracy: 0.8572\n",
      "Epoch 16/60\n",
      "191/191 [==============================] - 0s 958us/step - loss: 0.4514 - accuracy: 0.7988 - val_loss: 0.3568 - val_accuracy: 0.8582\n",
      "Epoch 17/60\n",
      "191/191 [==============================] - 0s 974us/step - loss: 0.4460 - accuracy: 0.8078 - val_loss: 0.3452 - val_accuracy: 0.8661\n",
      "Epoch 18/60\n",
      "191/191 [==============================] - 0s 953us/step - loss: 0.4406 - accuracy: 0.8122 - val_loss: 0.3400 - val_accuracy: 0.8685\n",
      "Epoch 19/60\n",
      "191/191 [==============================] - 0s 955us/step - loss: 0.4269 - accuracy: 0.8221 - val_loss: 0.3299 - val_accuracy: 0.8735\n",
      "Epoch 20/60\n",
      "191/191 [==============================] - 0s 964us/step - loss: 0.4186 - accuracy: 0.8223 - val_loss: 0.3193 - val_accuracy: 0.8749\n",
      "Epoch 21/60\n",
      "191/191 [==============================] - 0s 955us/step - loss: 0.4210 - accuracy: 0.8234 - val_loss: 0.3162 - val_accuracy: 0.8740\n",
      "Epoch 22/60\n",
      "191/191 [==============================] - 0s 939us/step - loss: 0.4111 - accuracy: 0.8255 - val_loss: 0.3090 - val_accuracy: 0.8656\n",
      "Epoch 23/60\n",
      "191/191 [==============================] - 0s 953us/step - loss: 0.4058 - accuracy: 0.8342 - val_loss: 0.2965 - val_accuracy: 0.8858\n",
      "Epoch 24/60\n",
      "191/191 [==============================] - 0s 950us/step - loss: 0.3942 - accuracy: 0.8378 - val_loss: 0.2880 - val_accuracy: 0.8804\n",
      "Epoch 25/60\n",
      "191/191 [==============================] - 0s 958us/step - loss: 0.3946 - accuracy: 0.8403 - val_loss: 0.2835 - val_accuracy: 0.8922\n",
      "Epoch 26/60\n",
      "191/191 [==============================] - 0s 962us/step - loss: 0.3919 - accuracy: 0.8385 - val_loss: 0.2755 - val_accuracy: 0.8897\n",
      "Epoch 27/60\n",
      "191/191 [==============================] - 0s 958us/step - loss: 0.3751 - accuracy: 0.8523 - val_loss: 0.2687 - val_accuracy: 0.8917\n",
      "Epoch 28/60\n",
      "191/191 [==============================] - 0s 934us/step - loss: 0.3793 - accuracy: 0.8482 - val_loss: 0.2642 - val_accuracy: 0.8991\n",
      "Epoch 29/60\n",
      "191/191 [==============================] - 0s 982us/step - loss: 0.3692 - accuracy: 0.8498 - val_loss: 0.2578 - val_accuracy: 0.9133\n",
      "Epoch 30/60\n",
      "191/191 [==============================] - 0s 976us/step - loss: 0.3662 - accuracy: 0.8567 - val_loss: 0.2532 - val_accuracy: 0.9207\n",
      "Epoch 31/60\n",
      "191/191 [==============================] - 0s 979us/step - loss: 0.3635 - accuracy: 0.8634 - val_loss: 0.2523 - val_accuracy: 0.9197\n",
      "Epoch 32/60\n",
      "191/191 [==============================] - 0s 964us/step - loss: 0.3521 - accuracy: 0.8620 - val_loss: 0.2417 - val_accuracy: 0.9276\n",
      "Epoch 33/60\n",
      "191/191 [==============================] - 0s 945us/step - loss: 0.3392 - accuracy: 0.8656 - val_loss: 0.2371 - val_accuracy: 0.9178\n",
      "Epoch 34/60\n",
      "191/191 [==============================] - 0s 959us/step - loss: 0.3611 - accuracy: 0.8566 - val_loss: 0.2358 - val_accuracy: 0.9257\n",
      "Epoch 35/60\n",
      "191/191 [==============================] - 0s 936us/step - loss: 0.3478 - accuracy: 0.8666 - val_loss: 0.2264 - val_accuracy: 0.9291\n",
      "Epoch 36/60\n",
      "191/191 [==============================] - 0s 965us/step - loss: 0.3397 - accuracy: 0.8733 - val_loss: 0.2246 - val_accuracy: 0.9296\n",
      "Epoch 37/60\n",
      "191/191 [==============================] - 0s 976us/step - loss: 0.3376 - accuracy: 0.8648 - val_loss: 0.2215 - val_accuracy: 0.9306\n",
      "Epoch 38/60\n",
      "191/191 [==============================] - 0s 926us/step - loss: 0.3323 - accuracy: 0.8733 - val_loss: 0.2159 - val_accuracy: 0.9291\n",
      "Epoch 39/60\n",
      "191/191 [==============================] - 0s 1ms/step - loss: 0.3309 - accuracy: 0.8718 - val_loss: 0.2115 - val_accuracy: 0.9281\n",
      "Epoch 40/60\n",
      "191/191 [==============================] - 0s 987us/step - loss: 0.3387 - accuracy: 0.8676 - val_loss: 0.2110 - val_accuracy: 0.9281\n",
      "Epoch 41/60\n",
      "191/191 [==============================] - 0s 974us/step - loss: 0.3270 - accuracy: 0.8707 - val_loss: 0.2082 - val_accuracy: 0.9311\n",
      "Epoch 42/60\n",
      "191/191 [==============================] - 0s 982us/step - loss: 0.3229 - accuracy: 0.8754 - val_loss: 0.2045 - val_accuracy: 0.9281\n",
      "Epoch 43/60\n",
      "191/191 [==============================] - 0s 966us/step - loss: 0.3214 - accuracy: 0.8769 - val_loss: 0.1988 - val_accuracy: 0.9311\n",
      "Epoch 44/60\n",
      "191/191 [==============================] - 0s 988us/step - loss: 0.3047 - accuracy: 0.8825 - val_loss: 0.1926 - val_accuracy: 0.9316\n",
      "Epoch 45/60\n",
      "191/191 [==============================] - 0s 989us/step - loss: 0.3162 - accuracy: 0.8761 - val_loss: 0.1893 - val_accuracy: 0.9316\n",
      "Epoch 46/60\n",
      "191/191 [==============================] - 0s 977us/step - loss: 0.3041 - accuracy: 0.8820 - val_loss: 0.1787 - val_accuracy: 0.9478\n",
      "Epoch 47/60\n",
      "191/191 [==============================] - 0s 976us/step - loss: 0.3040 - accuracy: 0.8881 - val_loss: 0.1804 - val_accuracy: 0.9321\n",
      "Epoch 48/60\n",
      "191/191 [==============================] - 0s 971us/step - loss: 0.3029 - accuracy: 0.8864 - val_loss: 0.1722 - val_accuracy: 0.9478\n",
      "Epoch 49/60\n",
      "191/191 [==============================] - 0s 984us/step - loss: 0.3107 - accuracy: 0.8830 - val_loss: 0.1711 - val_accuracy: 0.9488\n",
      "Epoch 50/60\n",
      "191/191 [==============================] - 0s 979us/step - loss: 0.2935 - accuracy: 0.8907 - val_loss: 0.1609 - val_accuracy: 0.9601\n",
      "Epoch 51/60\n",
      "191/191 [==============================] - 0s 1ms/step - loss: 0.2943 - accuracy: 0.8877 - val_loss: 0.1600 - val_accuracy: 0.9596\n",
      "Epoch 52/60\n",
      "191/191 [==============================] - 0s 987us/step - loss: 0.3011 - accuracy: 0.8895 - val_loss: 0.1555 - val_accuracy: 0.9601\n",
      "Epoch 53/60\n",
      "191/191 [==============================] - 0s 1ms/step - loss: 0.2880 - accuracy: 0.8904 - val_loss: 0.1559 - val_accuracy: 0.9601\n",
      "Epoch 54/60\n",
      "191/191 [==============================] - 0s 992us/step - loss: 0.2812 - accuracy: 0.8959 - val_loss: 0.1443 - val_accuracy: 0.9621\n",
      "Epoch 55/60\n",
      "191/191 [==============================] - 0s 995us/step - loss: 0.2818 - accuracy: 0.8938 - val_loss: 0.1449 - val_accuracy: 0.9606\n",
      "Epoch 56/60\n",
      "191/191 [==============================] - 0s 1ms/step - loss: 0.2783 - accuracy: 0.8996 - val_loss: 0.1393 - val_accuracy: 0.9606\n",
      "Epoch 57/60\n"
     ]
    },
    {
     "name": "stdout",
     "output_type": "stream",
     "text": [
      "191/191 [==============================] - 0s 984us/step - loss: 0.2803 - accuracy: 0.8966 - val_loss: 0.1392 - val_accuracy: 0.9626\n",
      "Epoch 58/60\n",
      "191/191 [==============================] - 0s 977us/step - loss: 0.2789 - accuracy: 0.8958 - val_loss: 0.1352 - val_accuracy: 0.9611\n",
      "Epoch 59/60\n",
      "191/191 [==============================] - 0s 971us/step - loss: 0.2816 - accuracy: 0.8932 - val_loss: 0.1371 - val_accuracy: 0.9621\n",
      "Epoch 60/60\n",
      "191/191 [==============================] - 0s 947us/step - loss: 0.2821 - accuracy: 0.9007 - val_loss: 0.1382 - val_accuracy: 0.9621\n"
     ]
    },
    {
     "data": {
      "text/plain": [
       "<keras.callbacks.History at 0x228178f2970>"
      ]
     },
     "execution_count": 215,
     "metadata": {},
     "output_type": "execute_result"
    }
   ],
   "source": [
    "model.fit(x=X_train, \n",
    "          y=y_train, \n",
    "          epochs=60,\n",
    "          validation_data=(X_test, y_test), verbose=1,\n",
    "          callbacks=[early_stop]\n",
    "          )"
   ]
  },
  {
   "cell_type": "code",
   "execution_count": 216,
   "id": "e49acb68",
   "metadata": {},
   "outputs": [
    {
     "data": {
      "image/png": "[encoded data removed]",
      "text/plain": [
       "<Figure size 432x288 with 1 Axes>"
      ]
     },
     "metadata": {
      "needs_background": "light"
     },
     "output_type": "display_data"
    }
   ],
   "source": [
    "plt.plot(model.history.history['loss'])\n",
    "plt.plot(model.history.history['val_loss'])\n",
    "plt.title('Model loss')\n",
    "plt.ylabel('Loss')\n",
    "plt.xlabel('Epoch')\n",
    "plt.legend(['Train', 'Test'], loc='upper left')\n",
    "plt.show()"
   ]
  },
  {
   "cell_type": "code",
   "execution_count": 217,
   "id": "bab86771",
   "metadata": {},
   "outputs": [
    {
     "name": "stdout",
     "output_type": "stream",
     "text": [
      "64/64 [==============================] - 0s 502us/step\n"
     ]
    }
   ],
   "source": [
    "predictions = model.predict(X_test)\n",
    "predictions = (predictions > 0.5)"
   ]
  },
  {
   "cell_type": "code",
   "execution_count": 218,
   "id": "b94dd9d1",
   "metadata": {},
   "outputs": [
    {
     "name": "stdout",
     "output_type": "stream",
     "text": [
      "              precision    recall  f1-score   support\n",
      "\n",
      "           0       0.94      0.99      0.96      1044\n",
      "           1       0.99      0.94      0.96       987\n",
      "\n",
      "    accuracy                           0.96      2031\n",
      "   macro avg       0.96      0.96      0.96      2031\n",
      "weighted avg       0.96      0.96      0.96      2031\n",
      "\n",
      "[[1030   14]\n",
      " [  63  924]]\n"
     ]
    }
   ],
   "source": [
    "print(classification_report(y_test,predictions))\n",
    "print(confusion_matrix(y_test, predictions))"
   ]
  },
  {
   "cell_type": "code",
   "execution_count": 219,
   "id": "233b61b5",
   "metadata": {},
   "outputs": [],
   "source": [
    "# SAVING MODEL TO BE DEPLOYED\n",
    "model.save('models\\model.h5')\n",
    "model_final = load_model('models\\model.h5')"
   ]
  },
  {
   "cell_type": "code",
   "execution_count": null,
   "id": "87879711",
   "metadata": {},
   "outputs": [],
   "source": []
  }
 ],
 "metadata": {
  "kernelspec": {
   "display_name": "Python 3 (ipykernel)",
   "language": "python",
   "name": "python3"
  },
  "language_info": {
   "codemirror_mode": {
    "name": "ipython",
    "version": 3
   },
   "file_extension": ".py",
   "mimetype": "text/x-python",
   "name": "python",
   "nbconvert_exporter": "python",
   "pygments_lexer": "ipython3",
   "version": "3.9.12"
  },
  "vscode": {
   "interpreter": {
    "hash": "916dbcbb3f70747c44a77c7bcd40155683ae19c65e1c03b4aa3499c5328201f1"
   }
  }
 },
 "nbformat": 4,
 "nbformat_minor": 5
}
