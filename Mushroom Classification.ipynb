{
 "cells": [
  {
   "cell_type": "code",
   "execution_count": 4,
   "id": "c129732f",
   "metadata": {},
   "outputs": [],
   "source": [
    "#importing libraries\n",
    "\n",
    "import pandas as pd\n",
    "import numpy as np\n",
    "import matplotlib.pyplot as plt\n",
    "import seaborn as sns\n",
    "from keras.models import load_model\n",
    "%matplotlib inline"
   ]
  },
  {
   "cell_type": "code",
   "execution_count": 5,
   "id": "f913106e",
   "metadata": {
    "scrolled": true
   },
   "outputs": [
    {
     "data": {
      "text/html": [
       "<div>\n",
       "<style scoped>\n",
       "    .dataframe tbody tr th:only-of-type {\n",
       "        vertical-align: middle;\n",
       "    }\n",
       "\n",
       "    .dataframe tbody tr th {\n",
       "        vertical-align: top;\n",
       "    }\n",
       "\n",
       "    .dataframe thead th {\n",
       "        text-align: right;\n",
       "    }\n",
       "</style>\n",
       "<table border=\"1\" class=\"dataframe\">\n",
       "  <thead>\n",
       "    <tr style=\"text-align: right;\">\n",
       "      <th></th>\n",
       "      <th>class</th>\n",
       "      <th>cap-shape</th>\n",
       "      <th>cap-surface</th>\n",
       "      <th>cap-color</th>\n",
       "      <th>bruises</th>\n",
       "      <th>odor</th>\n",
       "      <th>gill-attachment</th>\n",
       "      <th>gill-spacing</th>\n",
       "      <th>gill-size</th>\n",
       "      <th>gill-color</th>\n",
       "      <th>...</th>\n",
       "      <th>stalk-surface-below-ring</th>\n",
       "      <th>stalk-color-above-ring</th>\n",
       "      <th>stalk-color-below-ring</th>\n",
       "      <th>veil-type</th>\n",
       "      <th>veil-color</th>\n",
       "      <th>ring-number</th>\n",
       "      <th>ring-type</th>\n",
       "      <th>spore-print-color</th>\n",
       "      <th>population</th>\n",
       "      <th>habitat</th>\n",
       "    </tr>\n",
       "  </thead>\n",
       "  <tbody>\n",
       "    <tr>\n",
       "      <th>0</th>\n",
       "      <td>p</td>\n",
       "      <td>x</td>\n",
       "      <td>s</td>\n",
       "      <td>n</td>\n",
       "      <td>t</td>\n",
       "      <td>p</td>\n",
       "      <td>f</td>\n",
       "      <td>c</td>\n",
       "      <td>n</td>\n",
       "      <td>k</td>\n",
       "      <td>...</td>\n",
       "      <td>s</td>\n",
       "      <td>w</td>\n",
       "      <td>w</td>\n",
       "      <td>p</td>\n",
       "      <td>w</td>\n",
       "      <td>o</td>\n",
       "      <td>p</td>\n",
       "      <td>k</td>\n",
       "      <td>s</td>\n",
       "      <td>u</td>\n",
       "    </tr>\n",
       "    <tr>\n",
       "      <th>1</th>\n",
       "      <td>e</td>\n",
       "      <td>x</td>\n",
       "      <td>s</td>\n",
       "      <td>y</td>\n",
       "      <td>t</td>\n",
       "      <td>a</td>\n",
       "      <td>f</td>\n",
       "      <td>c</td>\n",
       "      <td>b</td>\n",
       "      <td>k</td>\n",
       "      <td>...</td>\n",
       "      <td>s</td>\n",
       "      <td>w</td>\n",
       "      <td>w</td>\n",
       "      <td>p</td>\n",
       "      <td>w</td>\n",
       "      <td>o</td>\n",
       "      <td>p</td>\n",
       "      <td>n</td>\n",
       "      <td>n</td>\n",
       "      <td>g</td>\n",
       "    </tr>\n",
       "    <tr>\n",
       "      <th>2</th>\n",
       "      <td>e</td>\n",
       "      <td>b</td>\n",
       "      <td>s</td>\n",
       "      <td>w</td>\n",
       "      <td>t</td>\n",
       "      <td>l</td>\n",
       "      <td>f</td>\n",
       "      <td>c</td>\n",
       "      <td>b</td>\n",
       "      <td>n</td>\n",
       "      <td>...</td>\n",
       "      <td>s</td>\n",
       "      <td>w</td>\n",
       "      <td>w</td>\n",
       "      <td>p</td>\n",
       "      <td>w</td>\n",
       "      <td>o</td>\n",
       "      <td>p</td>\n",
       "      <td>n</td>\n",
       "      <td>n</td>\n",
       "      <td>m</td>\n",
       "    </tr>\n",
       "    <tr>\n",
       "      <th>3</th>\n",
       "      <td>p</td>\n",
       "      <td>x</td>\n",
       "      <td>y</td>\n",
       "      <td>w</td>\n",
       "      <td>t</td>\n",
       "      <td>p</td>\n",
       "      <td>f</td>\n",
       "      <td>c</td>\n",
       "      <td>n</td>\n",
       "      <td>n</td>\n",
       "      <td>...</td>\n",
       "      <td>s</td>\n",
       "      <td>w</td>\n",
       "      <td>w</td>\n",
       "      <td>p</td>\n",
       "      <td>w</td>\n",
       "      <td>o</td>\n",
       "      <td>p</td>\n",
       "      <td>k</td>\n",
       "      <td>s</td>\n",
       "      <td>u</td>\n",
       "    </tr>\n",
       "    <tr>\n",
       "      <th>4</th>\n",
       "      <td>e</td>\n",
       "      <td>x</td>\n",
       "      <td>s</td>\n",
       "      <td>g</td>\n",
       "      <td>f</td>\n",
       "      <td>n</td>\n",
       "      <td>f</td>\n",
       "      <td>w</td>\n",
       "      <td>b</td>\n",
       "      <td>k</td>\n",
       "      <td>...</td>\n",
       "      <td>s</td>\n",
       "      <td>w</td>\n",
       "      <td>w</td>\n",
       "      <td>p</td>\n",
       "      <td>w</td>\n",
       "      <td>o</td>\n",
       "      <td>e</td>\n",
       "      <td>n</td>\n",
       "      <td>a</td>\n",
       "      <td>g</td>\n",
       "    </tr>\n",
       "  </tbody>\n",
       "</table>\n",
       "<p>5 rows × 23 columns</p>\n",
       "</div>"
      ],
      "text/plain": [
       "  class cap-shape cap-surface cap-color bruises odor gill-attachment  \\\n",
       "0     p         x           s         n       t    p               f   \n",
       "1     e         x           s         y       t    a               f   \n",
       "2     e         b           s         w       t    l               f   \n",
       "3     p         x           y         w       t    p               f   \n",
       "4     e         x           s         g       f    n               f   \n",
       "\n",
       "  gill-spacing gill-size gill-color  ... stalk-surface-below-ring  \\\n",
       "0            c         n          k  ...                        s   \n",
       "1            c         b          k  ...                        s   \n",
       "2            c         b          n  ...                        s   \n",
       "3            c         n          n  ...                        s   \n",
       "4            w         b          k  ...                        s   \n",
       "\n",
       "  stalk-color-above-ring stalk-color-below-ring veil-type veil-color  \\\n",
       "0                      w                      w         p          w   \n",
       "1                      w                      w         p          w   \n",
       "2                      w                      w         p          w   \n",
       "3                      w                      w         p          w   \n",
       "4                      w                      w         p          w   \n",
       "\n",
       "  ring-number ring-type spore-print-color population habitat  \n",
       "0           o         p                 k          s       u  \n",
       "1           o         p                 n          n       g  \n",
       "2           o         p                 n          n       m  \n",
       "3           o         p                 k          s       u  \n",
       "4           o         e                 n          a       g  \n",
       "\n",
       "[5 rows x 23 columns]"
      ]
     },
     "execution_count": 5,
     "metadata": {},
     "output_type": "execute_result"
    }
   ],
   "source": [
    "data = pd.read_csv(\"data_csvs/mushrooms.csv\")\n",
    "data.head()"
   ]
  },
  {
   "cell_type": "code",
   "execution_count": 6,
   "id": "ecf11c56",
   "metadata": {},
   "outputs": [
    {
     "name": "stdout",
     "output_type": "stream",
     "text": [
      "<class 'pandas.core.frame.DataFrame'>\n",
      "RangeIndex: 8124 entries, 0 to 8123\n",
      "Data columns (total 23 columns):\n",
      " #   Column                    Non-Null Count  Dtype \n",
      "---  ------                    --------------  ----- \n",
      " 0   class                     8124 non-null   object\n",
      " 1   cap-shape                 8124 non-null   object\n",
      " 2   cap-surface               8124 non-null   object\n",
      " 3   cap-color                 8124 non-null   object\n",
      " 4   bruises                   8124 non-null   object\n",
      " 5   odor                      8124 non-null   object\n",
      " 6   gill-attachment           8124 non-null   object\n",
      " 7   gill-spacing              8124 non-null   object\n",
      " 8   gill-size                 8124 non-null   object\n",
      " 9   gill-color                8124 non-null   object\n",
      " 10  stalk-shape               8124 non-null   object\n",
      " 11  stalk-root                8124 non-null   object\n",
      " 12  stalk-surface-above-ring  8124 non-null   object\n",
      " 13  stalk-surface-below-ring  8124 non-null   object\n",
      " 14  stalk-color-above-ring    8124 non-null   object\n",
      " 15  stalk-color-below-ring    8124 non-null   object\n",
      " 16  veil-type                 8124 non-null   object\n",
      " 17  veil-color                8124 non-null   object\n",
      " 18  ring-number               8124 non-null   object\n",
      " 19  ring-type                 8124 non-null   object\n",
      " 20  spore-print-color         8124 non-null   object\n",
      " 21  population                8124 non-null   object\n",
      " 22  habitat                   8124 non-null   object\n",
      "dtypes: object(23)\n",
      "memory usage: 1.4+ MB\n"
     ]
    }
   ],
   "source": [
    "data.info()"
   ]
  },
  {
   "cell_type": "code",
   "execution_count": 7,
   "id": "f5527811",
   "metadata": {},
   "outputs": [
    {
     "name": "stdout",
     "output_type": "stream",
     "text": [
      "['edible' 'convex' 'smooth' 'yellow' 'bruises' 'almond' 'free' 'close'\n",
      " 'broad' 'black' 'enlarging' 'club' 'smooth' 'smooth' 'white' 'white'\n",
      " 'partial' 'white' 'one' 'pendant' 'brown' 'numerous' 'grasses']\n"
     ]
    }
   ],
   "source": [
    "# in order to better understand data during EDA, we should convert letter values to full words\n",
    "cap_shape={\"b\":\"bell\",\"c\":\"conical\",\"x\":\"convex\",\"f\":\"flat\",\"k\":\"knobbed\",\"s\":\"sunken\"}\n",
    "data[\"cap-shape\"]=data[\"cap-shape\"].replace(cap_shape)\n",
    "\n",
    "cap_surface={\"f\": \"fibrous\", \"g\": \"grooves\",\"y\":\"scaly\",\"s\": \"smooth\"}\n",
    "data[\"cap-surface\"]=data[\"cap-surface\"].replace(cap_surface)\n",
    "\n",
    "cap_color={\"n\":\"brown\",\"b\":\"buff\",\"c\":\"cinnamon\",\"g\":\"gray\",\"r\":\"green\",\"p\":\"pink\",\"u\":\"purple\",\"e\":\"red\",\"w\":\"white\",\"y\":\"yellow\"}\n",
    "data[\"cap-color\"]=data[\"cap-color\"].replace(cap_color)\n",
    "\n",
    "odor={\"a\":\"almond\",\"l\":\"anise\",\"c\":\"creosote\",\"y\":\"fishy\",\"f\":\"foul\",\"m\":\"musty\",\"n\":\"none\",\"p\":\"pungent\",\"s\":\"spicy\"}\n",
    "data[\"odor\"]=data[\"odor\"].replace(odor)\n",
    "\n",
    "gill_attachment={\"a\":\"attached\",\"f\":\"free\", \"d\":\"descending\", \"n\":\"notched\"}\n",
    "data[\"gill-attachment\"]=data[\"gill-attachment\"].replace(gill_attachment)\n",
    "\n",
    "gill_spacing={\"c\":\"close\",\"w\":\"crowded\", \"d\":\"distant\"}\n",
    "data[\"gill-spacing\"]=data[\"gill-spacing\"].replace(gill_spacing)\n",
    "\n",
    "gill_size={\"b\":\"broad\",\"n\":\"narrow\"}\n",
    "data[\"gill-size\"]=data[\"gill-size\"].replace(gill_size)\n",
    "\n",
    "gill_color={\"k\":\"black\",\"b\":\"buff\",\"n\":\"brown\",\"h\":\"chocolate\",\"g\":\"gray\",\"r\":\"green\",\"o\":\"orange\",\"p\":\"pink\",\"u\":\"purple\",\"e\":\"red\",\"w\":\"white\",\"y\":\"yellow\"}\n",
    "data[\"gill-color\"]=data[\"gill-color\"].replace(gill_color)\n",
    "\n",
    "stalk_shape={\"t\":\"tapering\",\"e\":\"enlarging\"}\n",
    "data[\"stalk-shape\"]=data[\"stalk-shape\"].replace(stalk_shape)\n",
    "\n",
    "stalk_root={\"b\":\"bulbous\",\"c\":\"club\",\"e\":\"equal\",\"z\":\"rhizomorphs\",\"r\":\"rooted\",\"?\":\"missing\"}\n",
    "data[\"stalk-root\"]=data[\"stalk-root\"].replace(stalk_root)\n",
    "\n",
    "stalk_surface_above_ring={\"s\":\"smooth\",\"k\":\"silky\",\"f\":\"fibrous\",\"y\":\"scaly\"}\n",
    "data[\"stalk-surface-above-ring\"]=data[\"stalk-surface-above-ring\"].replace(stalk_surface_above_ring)\n",
    "data[\"stalk-surface-below-ring\"]=data[\"stalk-surface-below-ring\"].replace(stalk_surface_above_ring)\n",
    "\n",
    "stalk_color_above_ring={\"n\":\"brown\",\"b\":\"buff\",\"c\":\"cinnamon\",\"g\":\"gray\",\"p\":\"pink\",\"e\":\"red\",\"w\":\"white\",\"y\":\"yellow\",\"o\":\"orange\"}\n",
    "data[\"stalk-color-above-ring\"]=data[\"stalk-color-above-ring\"].replace(stalk_color_above_ring)\n",
    "data[\"stalk-color-below-ring\"]=data[\"stalk-color-below-ring\"].replace(stalk_color_above_ring)\n",
    "\n",
    "veil_type={\"p\":\"partial\",\"u\":\"universal\"} \n",
    "data[\"veil-type\"]=data[\"veil-type\"].replace(veil_type)\n",
    "\n",
    "veil_color={\"n\":\"brown\",\"o\":\"orange\",\"w\":\"white\",\"y\":\"yellow\"} \n",
    "data[\"veil-color\"]=data[\"veil-color\"].replace(veil_color)\n",
    "\n",
    "ring_number= {\"n\":\"none\",\"o\":\"one\",\"t\":\"two\"}\n",
    "data[\"ring-number\"]=data[\"ring-number\"].replace(ring_number)\n",
    "\n",
    "ring_type={\"c\":\"cobwebby\",\"e\":\"evanescent\",\"f\":\"flaring\",\"l\":\"large\",\"n\":\"none\",\"p\":\"pendant\",\"s\":\"sheathing\",\"z\":\"zone\"}\n",
    "data[\"ring-type\"]=data[\"ring-type\"].replace(ring_type)\n",
    "\n",
    "spore_print_color= {\"k\":\"black\",\"n\":\"brown\",\"b\":\"buff\",\"h\":\"chocolate\",\"r\":\"green\",\"o\":\"orange\",\"u\":\"purple\",\"w\":\"white\",\"y\":\"yellow\"}\n",
    "data[\"spore-print-color\"]=data[\"spore-print-color\"].replace(spore_print_color)\n",
    "\n",
    "population={\"a\":\"abundant\",\"c\":\"clustered\",\"n\":\"numerous\",\"s\":\"scattered\",\"v\":\"several\",\"y\":\"solitary\"}\n",
    "data[\"population\"]=data[\"population\"].replace(population)\n",
    "\n",
    "habitat={\"g\":\"grasses\",\"l\":\"leaves\",\"m\":\"meadows\",\"p\":\"paths\",\"u\":\"urban\",\"w\":\"waste\",\"d\":\"woods\"}\n",
    "data[\"habitat\"]=data[\"habitat\"].replace(habitat)\n",
    "\n",
    "bruises={\"t\":\"bruises\",\"f\":\"no\"}\n",
    "data[\"bruises\"]=data[\"bruises\"].replace(bruises)\n",
    "\n",
    "classification={\"e\":\"edible\",\"p\":\"poisonous\"}\n",
    "data[\"class\"]=data[\"class\"].replace(classification)\n",
    "\n",
    "print(data.iloc[1].values)"
   ]
  },
  {
   "cell_type": "code",
   "execution_count": 8,
   "id": "f653599b",
   "metadata": {
    "scrolled": false
   },
   "outputs": [
    {
     "data": {
      "image/png": "[encoded data removed]",
      "text/plain": [
       "<Figure size 864x504 with 1 Axes>"
      ]
     },
     "metadata": {
      "needs_background": "light"
     },
     "output_type": "display_data"
    }
   ],
   "source": [
    "plt.figure(figsize=(12,7))\n",
    "class_plt = sns.countplot(x = 'class', data = data, saturation = 0.5).set(title=\"Poisonous vs. Edible Mushrooms\")"
   ]
  },
  {
   "cell_type": "code",
   "execution_count": 9,
   "id": "8718f358",
   "metadata": {},
   "outputs": [
    {
     "data": {
      "image/png": "[encoded data removed]",
      "text/plain": [
       "<Figure size 864x504 with 1 Axes>"
      ]
     },
     "metadata": {
      "needs_background": "light"
     },
     "output_type": "display_data"
    }
   ],
   "source": [
    "plt.figure(figsize=(12,7))\n",
    "color_class_plt = sns.countplot(x = 'cap-color', data = data, hue = 'class', order = data['cap-color'].value_counts().index, saturation = 0.5).set(title = \"Mushroom Cap Color vs. Edibility\")"
   ]
  },
  {
   "cell_type": "code",
   "execution_count": 10,
   "id": "c48ff5a9",
   "metadata": {},
   "outputs": [
    {
     "data": {
      "image/png": "[encoded data removed]",
      "text/plain": [
       "<Figure size 864x504 with 1 Axes>"
      ]
     },
     "metadata": {
      "needs_background": "light"
     },
     "output_type": "display_data"
    }
   ],
   "source": [
    "plt.figure(figsize=(12,7))\n",
    "odor_class_plt = sns.countplot(x = 'odor', data = data, hue = 'class', order = data['odor'].value_counts().index, saturation = 0.5).set(title = \"Mushroom Odor vs. Edibility\")"
   ]
  },
  {
   "cell_type": "code",
   "execution_count": 11,
   "id": "b210f351",
   "metadata": {},
   "outputs": [
    {
     "data": {
      "image/png": "[encoded data removed]",
      "text/plain": [
       "<Figure size 864x504 with 1 Axes>"
      ]
     },
     "metadata": {
      "needs_background": "light"
     },
     "output_type": "display_data"
    }
   ],
   "source": [
    "plt.figure(figsize=(12,7))\n",
    "odor_class_plt = sns.countplot(x = 'habitat', data = data, hue = 'class', order = data['habitat'].value_counts().index, saturation = 0.5).set(title = \"Mushroom Habitat vs. Edibility\")"
   ]
  },
  {
   "cell_type": "code",
   "execution_count": 12,
   "id": "1afe6a1c",
   "metadata": {
    "scrolled": true
   },
   "outputs": [
    {
     "data": {
      "image/png": "[encoded data removed]",
      "text/plain": [
       "<Figure size 864x504 with 1 Axes>"
      ]
     },
     "metadata": {
      "needs_background": "light"
     },
     "output_type": "display_data"
    }
   ],
   "source": [
    "plt.figure(figsize=(12,7))\n",
    "odor_class_plt = sns.countplot(x = 'population', data = data, hue = 'class', order = data['population'].value_counts().index, saturation = 0.5).set(title = \"Mushroom Population vs. Edibility\")"
   ]
  },
  {
   "cell_type": "code",
   "execution_count": 13,
   "id": "4579b295",
   "metadata": {},
   "outputs": [
    {
     "name": "stdout",
     "output_type": "stream",
     "text": [
      "class                          edible\n",
      "cap-shape                      convex\n",
      "cap-surface                    smooth\n",
      "cap-color                      yellow\n",
      "bruises                       bruises\n",
      "odor                           almond\n",
      "gill-attachment                  free\n",
      "gill-spacing                    close\n",
      "gill-size                       broad\n",
      "gill-color                      black\n",
      "stalk-shape                 enlarging\n",
      "stalk-root                       club\n",
      "stalk-surface-above-ring       smooth\n",
      "stalk-surface-below-ring       smooth\n",
      "stalk-color-above-ring          white\n",
      "stalk-color-below-ring          white\n",
      "veil-type                     partial\n",
      "veil-color                      white\n",
      "ring-number                       one\n",
      "ring-type                     pendant\n",
      "spore-print-color               brown\n",
      "population                   numerous\n",
      "habitat                       grasses\n",
      "Name: 1, dtype: object\n",
      "class                       0\n",
      "cap-shape                   2\n",
      "cap-surface                 3\n",
      "cap-color                   9\n",
      "bruises                     0\n",
      "odor                        0\n",
      "gill-attachment             1\n",
      "gill-spacing                0\n",
      "gill-size                   0\n",
      "gill-color                  0\n",
      "stalk-shape                 0\n",
      "stalk-root                  1\n",
      "stalk-surface-above-ring    3\n",
      "stalk-surface-below-ring    3\n",
      "stalk-color-above-ring      7\n",
      "stalk-color-below-ring      7\n",
      "veil-type                   0\n",
      "veil-color                  2\n",
      "ring-number                 1\n",
      "ring-type                   4\n",
      "spore-print-color           1\n",
      "population                  2\n",
      "habitat                     0\n",
      "Name: 1, dtype: int32\n"
     ]
    }
   ],
   "source": [
    "# Turn data from categorical to numerical data for model training. \n",
    "from sklearn.preprocessing import LabelEncoder\n",
    "label_encoder = LabelEncoder()\n",
    "print(data.iloc[1])\n",
    "for col in data.columns:\n",
    "    data[col] = label_encoder.fit_transform(data[col])\n",
    "#     label_encoder.fit(data[col])\n",
    "#     data[col] = label_encoder.transform(data[col])\n",
    "x = data.drop('class', axis = 1)\n",
    "y = data[\"class\"].values\n",
    "\n",
    "print(data.iloc[1])"
   ]
  },
  {
   "cell_type": "code",
   "execution_count": 14,
   "id": "ab496423",
   "metadata": {},
   "outputs": [
    {
     "name": "stdout",
     "output_type": "stream",
     "text": [
      "2031\n",
      "2031\n"
     ]
    }
   ],
   "source": [
    "# Split data to prepare for training with models\n",
    "from sklearn.model_selection import train_test_split\n",
    "X_train, X_test, y_train, y_test = train_test_split(x, y, test_size = 0.25, random_state= 100)\n",
    "print(len(X_test))\n",
    "print(len(y_test))"
   ]
  },
  {
   "cell_type": "code",
   "execution_count": 15,
   "id": "fce6d516",
   "metadata": {},
   "outputs": [],
   "source": [
    "# After splitting our datasets, we must scale the data in accordance to the training data to keep training consistent \n",
    "from sklearn.preprocessing import MinMaxScaler\n",
    "\n",
    "scaled = MinMaxScaler()\n",
    "scaled.fit(X_train)\n",
    "\n",
    "X_train = scaled.transform(X_train)\n",
    "X_test = scaled.transform(X_test)"
   ]
  },
  {
   "cell_type": "code",
   "execution_count": 16,
   "id": "2caabab1",
   "metadata": {
    "scrolled": true
   },
   "outputs": [
    {
     "name": "stdout",
     "output_type": "stream",
     "text": [
      "[[0.4        0.         0.33333333 ... 0.375      0.8        1.        ]\n",
      " [0.4        0.66666667 0.         ... 0.875      0.8        0.5       ]\n",
      " [0.6        0.66666667 0.33333333 ... 0.         1.         1.        ]\n",
      " ...\n",
      " [0.         0.         0.         ... 0.875      0.8        1.        ]\n",
      " [0.8        0.66666667 0.         ... 0.875      0.8        1.        ]\n",
      " [0.8        1.         0.         ... 0.875      0.2        0.83333333]]\n"
     ]
    }
   ],
   "source": [
    "print(X_train)\n",
    "np.savetxt(\"data_csvs\\X_train.csv\", X_train)\n",
    "np.savetxt(\"data_csvs\\X_test.csv\", X_test)\n",
    "np.savetxt(\"data_csvs\\y_train.csv\", y_train)\n",
    "np.savetxt(\"data_csvs\\y_test.csv\", y_test)"
   ]
  },
  {
   "cell_type": "code",
   "execution_count": 17,
   "id": "16cf696d",
   "metadata": {},
   "outputs": [
    {
     "data": {
      "text/plain": [
       "['models\\\\scaled.save']"
      ]
     },
     "execution_count": 17,
     "metadata": {},
     "output_type": "execute_result"
    }
   ],
   "source": [
    "## We now want to save this scaling model to apply to input data\n",
    "import joblib\n",
    "joblib.dump(scaled, 'models\\scaled.save')"
   ]
  },
  {
   "cell_type": "code",
   "execution_count": 18,
   "id": "38a234a8",
   "metadata": {},
   "outputs": [],
   "source": [
    "# Now that our data has successfully been scaled, we can now begin training ML models to our data. "
   ]
  },
  {
   "cell_type": "code",
   "execution_count": 19,
   "id": "b2653fc7",
   "metadata": {},
   "outputs": [
    {
     "data": {
      "text/plain": [
       "RandomForestClassifier(n_estimators=600)"
      ]
     },
     "execution_count": 19,
     "metadata": {},
     "output_type": "execute_result"
    }
   ],
   "source": [
    "# MODEL 1: DECISION TREES AND RANDOM FORESTS\n",
    "from sklearn.ensemble import RandomForestClassifier\n",
    "rfc = RandomForestClassifier(n_estimators=600)\n",
    "rfc.fit(X_train,y_train)"
   ]
  },
  {
   "cell_type": "code",
   "execution_count": 20,
   "id": "ab5ace44",
   "metadata": {},
   "outputs": [],
   "source": [
    "predictions = rfc.predict(X_test)"
   ]
  },
  {
   "cell_type": "code",
   "execution_count": 21,
   "id": "ae305deb",
   "metadata": {},
   "outputs": [
    {
     "name": "stdout",
     "output_type": "stream",
     "text": [
      "              precision    recall  f1-score   support\n",
      "\n",
      "           0       1.00      1.00      1.00      1044\n",
      "           1       1.00      1.00      1.00       987\n",
      "\n",
      "    accuracy                           1.00      2031\n",
      "   macro avg       1.00      1.00      1.00      2031\n",
      "weighted avg       1.00      1.00      1.00      2031\n",
      "\n",
      "[[1044    0]\n",
      " [   0  987]]\n"
     ]
    }
   ],
   "source": [
    "# Performance Analysis\n",
    "from sklearn.metrics import classification_report,confusion_matrix\n",
    "print(classification_report(y_test,predictions))\n",
    "print(confusion_matrix(y_test, predictions))"
   ]
  },
  {
   "cell_type": "code",
   "execution_count": 22,
   "id": "1e96ebb3",
   "metadata": {},
   "outputs": [],
   "source": [
    "#MODEL 2: ANN VIA KERAS\n",
    "import tensorflow as tf\n",
    "from tensorflow.keras.models import Sequential\n",
    "from tensorflow.keras.layers import Dense, Activation,Dropout\n",
    "from tensorflow.keras.layers import Dropout\n",
    "from tensorflow.keras.callbacks import EarlyStopping"
   ]
  },
  {
   "cell_type": "code",
   "execution_count": 23,
   "id": "adc72453",
   "metadata": {},
   "outputs": [],
   "source": [
    "early_stop = EarlyStopping(monitor='val_loss', mode='min', verbose=1, patience=25)"
   ]
  },
  {
   "cell_type": "code",
   "execution_count": 24,
   "id": "c16d7c61",
   "metadata": {},
   "outputs": [],
   "source": [
    "model = Sequential()\n",
    "\n",
    "model.add(Dense(units=22,activation='relu'))\n",
    "model.add(Dropout(0.5))\n",
    "\n",
    "model.add(Dense(units=11,activation='relu'))\n",
    "model.add(Dropout(0.5))\n",
    "\n",
    "model.add(Dense(units=1,activation='sigmoid'))\n",
    "model.compile(loss='binary_crossentropy', optimizer='adam', metrics = ['accuracy'])"
   ]
  },
  {
   "cell_type": "code",
   "execution_count": 25,
   "id": "63ff87d4",
   "metadata": {},
   "outputs": [
    {
     "name": "stdout",
     "output_type": "stream",
     "text": [
      "Epoch 1/600\n",
      "191/191 [==============================] - 1s 2ms/step - loss: 0.6504 - accuracy: 0.6199 - val_loss: 0.4816 - val_accuracy: 0.9143\n",
      "Epoch 2/600\n",
      "191/191 [==============================] - 0s 1ms/step - loss: 0.4894 - accuracy: 0.8032 - val_loss: 0.3079 - val_accuracy: 0.9296\n",
      "Epoch 3/600\n",
      "191/191 [==============================] - 0s 987us/step - loss: 0.3816 - accuracy: 0.8608 - val_loss: 0.2145 - val_accuracy: 0.9444\n",
      "Epoch 4/600\n",
      "191/191 [==============================] - 0s 992us/step - loss: 0.3077 - accuracy: 0.8905 - val_loss: 0.1544 - val_accuracy: 0.9621\n",
      "Epoch 5/600\n",
      "191/191 [==============================] - 0s 963us/step - loss: 0.2546 - accuracy: 0.9186 - val_loss: 0.1139 - val_accuracy: 0.9631\n",
      "Epoch 6/600\n",
      "191/191 [==============================] - 0s 1ms/step - loss: 0.2223 - accuracy: 0.9286 - val_loss: 0.0907 - val_accuracy: 0.9675\n",
      "Epoch 7/600\n",
      "191/191 [==============================] - 0s 971us/step - loss: 0.1958 - accuracy: 0.9380 - val_loss: 0.0796 - val_accuracy: 0.9710\n",
      "Epoch 8/600\n",
      "191/191 [==============================] - 0s 990us/step - loss: 0.1719 - accuracy: 0.9437 - val_loss: 0.0693 - val_accuracy: 0.9719\n",
      "Epoch 9/600\n",
      "191/191 [==============================] - 0s 982us/step - loss: 0.1750 - accuracy: 0.9445 - val_loss: 0.0573 - val_accuracy: 0.9862\n",
      "Epoch 10/600\n",
      "191/191 [==============================] - 0s 987us/step - loss: 0.1559 - accuracy: 0.9514 - val_loss: 0.0511 - val_accuracy: 0.9877\n",
      "Epoch 11/600\n",
      "191/191 [==============================] - 0s 995us/step - loss: 0.1477 - accuracy: 0.9539 - val_loss: 0.0466 - val_accuracy: 0.9882\n",
      "Epoch 12/600\n",
      "191/191 [==============================] - 0s 990us/step - loss: 0.1439 - accuracy: 0.9577 - val_loss: 0.0420 - val_accuracy: 0.9902\n",
      "Epoch 13/600\n",
      "191/191 [==============================] - 0s 979us/step - loss: 0.1239 - accuracy: 0.9644 - val_loss: 0.0374 - val_accuracy: 0.9897\n",
      "Epoch 14/600\n",
      "191/191 [==============================] - 0s 998us/step - loss: 0.1207 - accuracy: 0.9645 - val_loss: 0.0346 - val_accuracy: 0.9906\n",
      "Epoch 15/600\n",
      "191/191 [==============================] - 0s 982us/step - loss: 0.1204 - accuracy: 0.9619 - val_loss: 0.0319 - val_accuracy: 0.9911\n",
      "Epoch 16/600\n",
      "191/191 [==============================] - 0s 979us/step - loss: 0.1149 - accuracy: 0.9654 - val_loss: 0.0292 - val_accuracy: 0.9916\n",
      "Epoch 17/600\n",
      "191/191 [==============================] - 0s 992us/step - loss: 0.1081 - accuracy: 0.9667 - val_loss: 0.0262 - val_accuracy: 0.9931\n",
      "Epoch 18/600\n",
      "191/191 [==============================] - 0s 992us/step - loss: 0.0954 - accuracy: 0.9708 - val_loss: 0.0220 - val_accuracy: 0.9911\n",
      "Epoch 19/600\n",
      "191/191 [==============================] - 0s 987us/step - loss: 0.1002 - accuracy: 0.9683 - val_loss: 0.0202 - val_accuracy: 0.9931\n",
      "Epoch 20/600\n",
      "191/191 [==============================] - 0s 971us/step - loss: 0.0954 - accuracy: 0.9695 - val_loss: 0.0200 - val_accuracy: 0.9966\n",
      "Epoch 21/600\n",
      "191/191 [==============================] - 0s 992us/step - loss: 0.0909 - accuracy: 0.9706 - val_loss: 0.0169 - val_accuracy: 0.9936\n",
      "Epoch 22/600\n",
      "191/191 [==============================] - 0s 1ms/step - loss: 0.0917 - accuracy: 0.9691 - val_loss: 0.0165 - val_accuracy: 0.9961\n",
      "Epoch 23/600\n",
      "191/191 [==============================] - 0s 979us/step - loss: 0.0803 - accuracy: 0.9737 - val_loss: 0.0157 - val_accuracy: 0.9956\n",
      "Epoch 24/600\n",
      "191/191 [==============================] - 0s 990us/step - loss: 0.0852 - accuracy: 0.9708 - val_loss: 0.0130 - val_accuracy: 0.9985\n",
      "Epoch 25/600\n",
      "191/191 [==============================] - 0s 982us/step - loss: 0.0780 - accuracy: 0.9751 - val_loss: 0.0122 - val_accuracy: 0.9980\n",
      "Epoch 26/600\n",
      "191/191 [==============================] - 0s 979us/step - loss: 0.0779 - accuracy: 0.9747 - val_loss: 0.0105 - val_accuracy: 0.9990\n",
      "Epoch 27/600\n",
      "191/191 [==============================] - 0s 998us/step - loss: 0.0750 - accuracy: 0.9746 - val_loss: 0.0125 - val_accuracy: 0.9980\n",
      "Epoch 28/600\n",
      "191/191 [==============================] - 0s 998us/step - loss: 0.0766 - accuracy: 0.9710 - val_loss: 0.0109 - val_accuracy: 0.9980\n",
      "Epoch 29/600\n",
      "191/191 [==============================] - 0s 982us/step - loss: 0.0691 - accuracy: 0.9759 - val_loss: 0.0084 - val_accuracy: 0.9995\n",
      "Epoch 30/600\n",
      "191/191 [==============================] - 0s 987us/step - loss: 0.0713 - accuracy: 0.9755 - val_loss: 0.0095 - val_accuracy: 0.9985\n",
      "Epoch 31/600\n",
      "191/191 [==============================] - 0s 971us/step - loss: 0.0663 - accuracy: 0.9770 - val_loss: 0.0097 - val_accuracy: 0.9966\n",
      "Epoch 32/600\n",
      "191/191 [==============================] - 0s 969us/step - loss: 0.0715 - accuracy: 0.9741 - val_loss: 0.0092 - val_accuracy: 0.9980\n",
      "Epoch 33/600\n",
      "191/191 [==============================] - 0s 998us/step - loss: 0.0691 - accuracy: 0.9755 - val_loss: 0.0069 - val_accuracy: 0.9985\n",
      "Epoch 34/600\n",
      "191/191 [==============================] - 0s 984us/step - loss: 0.0706 - accuracy: 0.9747 - val_loss: 0.0077 - val_accuracy: 0.9990\n",
      "Epoch 35/600\n",
      "191/191 [==============================] - 0s 987us/step - loss: 0.0645 - accuracy: 0.9774 - val_loss: 0.0087 - val_accuracy: 0.9980\n",
      "Epoch 36/600\n",
      "191/191 [==============================] - 0s 961us/step - loss: 0.0676 - accuracy: 0.9746 - val_loss: 0.0069 - val_accuracy: 0.9985\n",
      "Epoch 37/600\n",
      "191/191 [==============================] - 0s 974us/step - loss: 0.0674 - accuracy: 0.9747 - val_loss: 0.0063 - val_accuracy: 0.9990\n",
      "Epoch 38/600\n",
      "191/191 [==============================] - 0s 969us/step - loss: 0.0626 - accuracy: 0.9777 - val_loss: 0.0064 - val_accuracy: 0.9995\n",
      "Epoch 39/600\n",
      "191/191 [==============================] - 0s 969us/step - loss: 0.0657 - accuracy: 0.9775 - val_loss: 0.0065 - val_accuracy: 1.0000\n",
      "Epoch 40/600\n",
      "191/191 [==============================] - 0s 969us/step - loss: 0.0581 - accuracy: 0.9810 - val_loss: 0.0051 - val_accuracy: 0.9995\n",
      "Epoch 41/600\n",
      "191/191 [==============================] - 0s 976us/step - loss: 0.0618 - accuracy: 0.9787 - val_loss: 0.0057 - val_accuracy: 0.9990\n",
      "Epoch 42/600\n",
      "191/191 [==============================] - 0s 984us/step - loss: 0.0601 - accuracy: 0.9780 - val_loss: 0.0060 - val_accuracy: 0.9990\n",
      "Epoch 43/600\n",
      "191/191 [==============================] - 0s 976us/step - loss: 0.0629 - accuracy: 0.9780 - val_loss: 0.0060 - val_accuracy: 0.9995\n",
      "Epoch 44/600\n",
      "191/191 [==============================] - 0s 1ms/step - loss: 0.0614 - accuracy: 0.9769 - val_loss: 0.0050 - val_accuracy: 0.9995\n",
      "Epoch 45/600\n",
      "191/191 [==============================] - 0s 1ms/step - loss: 0.0580 - accuracy: 0.9783 - val_loss: 0.0040 - val_accuracy: 0.9995\n",
      "Epoch 46/600\n",
      "191/191 [==============================] - 0s 992us/step - loss: 0.0600 - accuracy: 0.9783 - val_loss: 0.0043 - val_accuracy: 0.9990\n",
      "Epoch 47/600\n",
      "191/191 [==============================] - 0s 971us/step - loss: 0.0569 - accuracy: 0.9795 - val_loss: 0.0040 - val_accuracy: 0.9995\n",
      "Epoch 48/600\n",
      "191/191 [==============================] - 0s 966us/step - loss: 0.0572 - accuracy: 0.9788 - val_loss: 0.0048 - val_accuracy: 0.9990\n",
      "Epoch 49/600\n",
      "191/191 [==============================] - 0s 963us/step - loss: 0.0611 - accuracy: 0.9774 - val_loss: 0.0058 - val_accuracy: 0.9995\n",
      "Epoch 50/600\n",
      "191/191 [==============================] - 0s 984us/step - loss: 0.0550 - accuracy: 0.9796 - val_loss: 0.0042 - val_accuracy: 1.0000\n",
      "Epoch 51/600\n",
      "191/191 [==============================] - 0s 966us/step - loss: 0.0571 - accuracy: 0.9780 - val_loss: 0.0033 - val_accuracy: 1.0000\n",
      "Epoch 52/600\n",
      "191/191 [==============================] - 0s 974us/step - loss: 0.0537 - accuracy: 0.9793 - val_loss: 0.0038 - val_accuracy: 1.0000\n",
      "Epoch 53/600\n",
      "191/191 [==============================] - 0s 1ms/step - loss: 0.0589 - accuracy: 0.9759 - val_loss: 0.0037 - val_accuracy: 0.9995\n",
      "Epoch 54/600\n",
      "191/191 [==============================] - 0s 998us/step - loss: 0.0526 - accuracy: 0.9805 - val_loss: 0.0035 - val_accuracy: 1.0000\n",
      "Epoch 55/600\n",
      "191/191 [==============================] - 0s 971us/step - loss: 0.0584 - accuracy: 0.9760 - val_loss: 0.0030 - val_accuracy: 0.9995\n",
      "Epoch 56/600\n",
      "191/191 [==============================] - 0s 963us/step - loss: 0.0563 - accuracy: 0.9783 - val_loss: 0.0040 - val_accuracy: 0.9995\n",
      "Epoch 57/600\n"
     ]
    },
    {
     "name": "stdout",
     "output_type": "stream",
     "text": [
      "191/191 [==============================] - 0s 974us/step - loss: 0.0508 - accuracy: 0.9816 - val_loss: 0.0036 - val_accuracy: 1.0000\n",
      "Epoch 58/600\n",
      "191/191 [==============================] - 0s 984us/step - loss: 0.0503 - accuracy: 0.9813 - val_loss: 0.0035 - val_accuracy: 0.9990\n",
      "Epoch 59/600\n",
      "191/191 [==============================] - 0s 982us/step - loss: 0.0496 - accuracy: 0.9826 - val_loss: 0.0029 - val_accuracy: 0.9995\n",
      "Epoch 60/600\n",
      "191/191 [==============================] - 0s 976us/step - loss: 0.0512 - accuracy: 0.9810 - val_loss: 0.0029 - val_accuracy: 1.0000\n",
      "Epoch 61/600\n",
      "191/191 [==============================] - 0s 984us/step - loss: 0.0575 - accuracy: 0.9759 - val_loss: 0.0036 - val_accuracy: 0.9995\n",
      "Epoch 62/600\n",
      "191/191 [==============================] - 0s 963us/step - loss: 0.0538 - accuracy: 0.9793 - val_loss: 0.0026 - val_accuracy: 1.0000\n",
      "Epoch 63/600\n",
      "191/191 [==============================] - 0s 966us/step - loss: 0.0552 - accuracy: 0.9782 - val_loss: 0.0029 - val_accuracy: 1.0000\n",
      "Epoch 64/600\n",
      "191/191 [==============================] - 0s 974us/step - loss: 0.0522 - accuracy: 0.9796 - val_loss: 0.0037 - val_accuracy: 0.9995\n",
      "Epoch 65/600\n",
      "191/191 [==============================] - 0s 987us/step - loss: 0.0520 - accuracy: 0.9810 - val_loss: 0.0030 - val_accuracy: 1.0000\n",
      "Epoch 66/600\n",
      "191/191 [==============================] - 0s 971us/step - loss: 0.0555 - accuracy: 0.9780 - val_loss: 0.0035 - val_accuracy: 0.9990\n",
      "Epoch 67/600\n",
      "191/191 [==============================] - 0s 971us/step - loss: 0.0534 - accuracy: 0.9795 - val_loss: 0.0026 - val_accuracy: 0.9995\n",
      "Epoch 68/600\n",
      "191/191 [==============================] - 0s 961us/step - loss: 0.0512 - accuracy: 0.9800 - val_loss: 0.0025 - val_accuracy: 0.9995\n",
      "Epoch 69/600\n",
      "191/191 [==============================] - 0s 974us/step - loss: 0.0518 - accuracy: 0.9796 - val_loss: 0.0018 - val_accuracy: 0.9995\n",
      "Epoch 70/600\n",
      "191/191 [==============================] - 0s 982us/step - loss: 0.0475 - accuracy: 0.9823 - val_loss: 0.0021 - val_accuracy: 1.0000\n",
      "Epoch 71/600\n",
      "191/191 [==============================] - 0s 987us/step - loss: 0.0545 - accuracy: 0.9785 - val_loss: 0.0032 - val_accuracy: 0.9995\n",
      "Epoch 72/600\n",
      "191/191 [==============================] - 0s 976us/step - loss: 0.0473 - accuracy: 0.9824 - val_loss: 0.0024 - val_accuracy: 1.0000\n",
      "Epoch 73/600\n",
      "191/191 [==============================] - 0s 969us/step - loss: 0.0512 - accuracy: 0.9792 - val_loss: 0.0016 - val_accuracy: 1.0000\n",
      "Epoch 74/600\n",
      "191/191 [==============================] - 0s 969us/step - loss: 0.0456 - accuracy: 0.9839 - val_loss: 0.0025 - val_accuracy: 1.0000\n",
      "Epoch 75/600\n",
      "191/191 [==============================] - 0s 992us/step - loss: 0.0509 - accuracy: 0.9796 - val_loss: 0.0020 - val_accuracy: 1.0000\n",
      "Epoch 76/600\n",
      "191/191 [==============================] - 0s 976us/step - loss: 0.0515 - accuracy: 0.9793 - val_loss: 0.0019 - val_accuracy: 1.0000\n",
      "Epoch 77/600\n",
      "191/191 [==============================] - 0s 979us/step - loss: 0.0458 - accuracy: 0.9834 - val_loss: 0.0019 - val_accuracy: 1.0000\n",
      "Epoch 78/600\n",
      "191/191 [==============================] - 0s 990us/step - loss: 0.0509 - accuracy: 0.9800 - val_loss: 0.0026 - val_accuracy: 0.9995\n",
      "Epoch 79/600\n",
      "191/191 [==============================] - 0s 1ms/step - loss: 0.0505 - accuracy: 0.9801 - val_loss: 0.0017 - val_accuracy: 1.0000\n",
      "Epoch 80/600\n",
      "191/191 [==============================] - 0s 1ms/step - loss: 0.0518 - accuracy: 0.9793 - val_loss: 0.0020 - val_accuracy: 1.0000\n",
      "Epoch 81/600\n",
      "191/191 [==============================] - 0s 1ms/step - loss: 0.0503 - accuracy: 0.9795 - val_loss: 0.0016 - val_accuracy: 1.0000\n",
      "Epoch 82/600\n",
      "191/191 [==============================] - 0s 1ms/step - loss: 0.0457 - accuracy: 0.9818 - val_loss: 0.0020 - val_accuracy: 1.0000\n",
      "Epoch 83/600\n",
      "191/191 [==============================] - 0s 1ms/step - loss: 0.0450 - accuracy: 0.9826 - val_loss: 0.0013 - val_accuracy: 1.0000\n",
      "Epoch 84/600\n",
      "191/191 [==============================] - 0s 1ms/step - loss: 0.0549 - accuracy: 0.9785 - val_loss: 0.0033 - val_accuracy: 0.9990\n",
      "Epoch 85/600\n",
      "191/191 [==============================] - 0s 1ms/step - loss: 0.0510 - accuracy: 0.9793 - val_loss: 0.0021 - val_accuracy: 0.9995\n",
      "Epoch 86/600\n",
      "191/191 [==============================] - 0s 1ms/step - loss: 0.0540 - accuracy: 0.9777 - val_loss: 0.0024 - val_accuracy: 1.0000\n",
      "Epoch 87/600\n",
      "191/191 [==============================] - 0s 1ms/step - loss: 0.0463 - accuracy: 0.9826 - val_loss: 0.0018 - val_accuracy: 1.0000\n",
      "Epoch 88/600\n",
      "191/191 [==============================] - 0s 1ms/step - loss: 0.0485 - accuracy: 0.9808 - val_loss: 0.0017 - val_accuracy: 1.0000\n",
      "Epoch 89/600\n",
      "191/191 [==============================] - 0s 1ms/step - loss: 0.0459 - accuracy: 0.9828 - val_loss: 0.0019 - val_accuracy: 1.0000\n",
      "Epoch 90/600\n",
      "191/191 [==============================] - 0s 1ms/step - loss: 0.0457 - accuracy: 0.9838 - val_loss: 0.0020 - val_accuracy: 1.0000\n",
      "Epoch 91/600\n",
      "191/191 [==============================] - 0s 1ms/step - loss: 0.0490 - accuracy: 0.9813 - val_loss: 0.0029 - val_accuracy: 0.9990\n",
      "Epoch 92/600\n",
      "191/191 [==============================] - 0s 1ms/step - loss: 0.0462 - accuracy: 0.9818 - val_loss: 0.0017 - val_accuracy: 1.0000\n",
      "Epoch 93/600\n",
      "191/191 [==============================] - 0s 1ms/step - loss: 0.0507 - accuracy: 0.9806 - val_loss: 0.0022 - val_accuracy: 0.9995\n",
      "Epoch 94/600\n",
      "191/191 [==============================] - 0s 1ms/step - loss: 0.0486 - accuracy: 0.9810 - val_loss: 0.0019 - val_accuracy: 1.0000\n",
      "Epoch 95/600\n",
      "191/191 [==============================] - 0s 1ms/step - loss: 0.0469 - accuracy: 0.9824 - val_loss: 0.0022 - val_accuracy: 0.9995\n",
      "Epoch 96/600\n",
      "191/191 [==============================] - 0s 1ms/step - loss: 0.0448 - accuracy: 0.9831 - val_loss: 0.0018 - val_accuracy: 1.0000\n",
      "Epoch 97/600\n",
      "191/191 [==============================] - 0s 1ms/step - loss: 0.0435 - accuracy: 0.9841 - val_loss: 0.0014 - val_accuracy: 1.0000\n",
      "Epoch 98/600\n",
      "191/191 [==============================] - 0s 1ms/step - loss: 0.0387 - accuracy: 0.9865 - val_loss: 0.0013 - val_accuracy: 1.0000\n",
      "Epoch 99/600\n",
      "191/191 [==============================] - 0s 1ms/step - loss: 0.0420 - accuracy: 0.9846 - val_loss: 0.0011 - val_accuracy: 1.0000\n",
      "Epoch 100/600\n",
      "191/191 [==============================] - 0s 1ms/step - loss: 0.0470 - accuracy: 0.9823 - val_loss: 0.0013 - val_accuracy: 1.0000\n",
      "Epoch 101/600\n",
      "191/191 [==============================] - 0s 1ms/step - loss: 0.0471 - accuracy: 0.9823 - val_loss: 0.0017 - val_accuracy: 1.0000\n",
      "Epoch 102/600\n",
      "191/191 [==============================] - 0s 1ms/step - loss: 0.0424 - accuracy: 0.9849 - val_loss: 0.0018 - val_accuracy: 1.0000\n",
      "Epoch 103/600\n",
      "191/191 [==============================] - 0s 1ms/step - loss: 0.0455 - accuracy: 0.9836 - val_loss: 0.0011 - val_accuracy: 1.0000\n",
      "Epoch 104/600\n",
      "191/191 [==============================] - 0s 1ms/step - loss: 0.0454 - accuracy: 0.9826 - val_loss: 0.0041 - val_accuracy: 0.9966\n",
      "Epoch 105/600\n",
      "191/191 [==============================] - 0s 1ms/step - loss: 0.0409 - accuracy: 0.9865 - val_loss: 0.0027 - val_accuracy: 1.0000\n",
      "Epoch 106/600\n",
      "191/191 [==============================] - 0s 1ms/step - loss: 0.0370 - accuracy: 0.9870 - val_loss: 0.0016 - val_accuracy: 1.0000\n",
      "Epoch 107/600\n",
      "191/191 [==============================] - 0s 1ms/step - loss: 0.0442 - accuracy: 0.9841 - val_loss: 0.0013 - val_accuracy: 1.0000\n",
      "Epoch 108/600\n",
      "191/191 [==============================] - 0s 1ms/step - loss: 0.0398 - accuracy: 0.9872 - val_loss: 0.0017 - val_accuracy: 1.0000\n",
      "Epoch 109/600\n",
      "191/191 [==============================] - 0s 1ms/step - loss: 0.0415 - accuracy: 0.9862 - val_loss: 0.0019 - val_accuracy: 1.0000\n",
      "Epoch 110/600\n",
      "191/191 [==============================] - 0s 1ms/step - loss: 0.0522 - accuracy: 0.9800 - val_loss: 0.0017 - val_accuracy: 1.0000\n",
      "Epoch 111/600\n",
      "191/191 [==============================] - 0s 1ms/step - loss: 0.0443 - accuracy: 0.9834 - val_loss: 0.0028 - val_accuracy: 1.0000\n",
      "Epoch 112/600\n",
      "191/191 [==============================] - 0s 1ms/step - loss: 0.0506 - accuracy: 0.9811 - val_loss: 0.0018 - val_accuracy: 1.0000\n",
      "Epoch 113/600\n"
     ]
    },
    {
     "name": "stdout",
     "output_type": "stream",
     "text": [
      "191/191 [==============================] - 0s 1ms/step - loss: 0.0367 - accuracy: 0.9874 - val_loss: 0.0017 - val_accuracy: 1.0000\n",
      "Epoch 114/600\n",
      "191/191 [==============================] - 0s 998us/step - loss: 0.0456 - accuracy: 0.9834 - val_loss: 0.0010 - val_accuracy: 1.0000\n",
      "Epoch 115/600\n",
      "191/191 [==============================] - 0s 990us/step - loss: 0.0440 - accuracy: 0.9839 - val_loss: 6.5239e-04 - val_accuracy: 1.0000\n",
      "Epoch 116/600\n",
      "191/191 [==============================] - 0s 1ms/step - loss: 0.0385 - accuracy: 0.9860 - val_loss: 0.0015 - val_accuracy: 1.0000\n",
      "Epoch 117/600\n",
      "191/191 [==============================] - 0s 1ms/step - loss: 0.0399 - accuracy: 0.9856 - val_loss: 0.0012 - val_accuracy: 1.0000\n",
      "Epoch 118/600\n",
      "191/191 [==============================] - 0s 1ms/step - loss: 0.0430 - accuracy: 0.9841 - val_loss: 0.0012 - val_accuracy: 1.0000\n",
      "Epoch 119/600\n",
      "191/191 [==============================] - 0s 1ms/step - loss: 0.0428 - accuracy: 0.9826 - val_loss: 0.0012 - val_accuracy: 1.0000\n",
      "Epoch 120/600\n",
      "191/191 [==============================] - 0s 995us/step - loss: 0.0472 - accuracy: 0.9819 - val_loss: 0.0019 - val_accuracy: 1.0000\n",
      "Epoch 121/600\n",
      "191/191 [==============================] - 0s 990us/step - loss: 0.0412 - accuracy: 0.9842 - val_loss: 0.0013 - val_accuracy: 1.0000\n",
      "Epoch 122/600\n",
      "191/191 [==============================] - 0s 998us/step - loss: 0.0404 - accuracy: 0.9860 - val_loss: 0.0013 - val_accuracy: 1.0000\n",
      "Epoch 123/600\n",
      "191/191 [==============================] - 0s 955us/step - loss: 0.0408 - accuracy: 0.9854 - val_loss: 0.0012 - val_accuracy: 1.0000\n",
      "Epoch 124/600\n",
      "191/191 [==============================] - 0s 971us/step - loss: 0.0420 - accuracy: 0.9838 - val_loss: 0.0015 - val_accuracy: 1.0000\n",
      "Epoch 125/600\n",
      "191/191 [==============================] - 0s 966us/step - loss: 0.0406 - accuracy: 0.9847 - val_loss: 7.9732e-04 - val_accuracy: 1.0000\n",
      "Epoch 126/600\n",
      "191/191 [==============================] - 0s 971us/step - loss: 0.0388 - accuracy: 0.9852 - val_loss: 0.0013 - val_accuracy: 1.0000\n",
      "Epoch 127/600\n",
      "191/191 [==============================] - 0s 976us/step - loss: 0.0358 - accuracy: 0.9874 - val_loss: 0.0017 - val_accuracy: 1.0000\n",
      "Epoch 128/600\n",
      "191/191 [==============================] - 0s 1ms/step - loss: 0.0408 - accuracy: 0.9849 - val_loss: 0.0042 - val_accuracy: 0.9975\n",
      "Epoch 129/600\n",
      "191/191 [==============================] - 0s 987us/step - loss: 0.0421 - accuracy: 0.9841 - val_loss: 0.0010 - val_accuracy: 1.0000\n",
      "Epoch 130/600\n",
      "191/191 [==============================] - 0s 961us/step - loss: 0.0430 - accuracy: 0.9841 - val_loss: 0.0015 - val_accuracy: 1.0000\n",
      "Epoch 131/600\n",
      "191/191 [==============================] - 0s 979us/step - loss: 0.0373 - accuracy: 0.9867 - val_loss: 5.4356e-04 - val_accuracy: 1.0000\n",
      "Epoch 132/600\n",
      "191/191 [==============================] - 0s 982us/step - loss: 0.0455 - accuracy: 0.9828 - val_loss: 9.2295e-04 - val_accuracy: 1.0000\n",
      "Epoch 133/600\n",
      "191/191 [==============================] - 0s 982us/step - loss: 0.0497 - accuracy: 0.9826 - val_loss: 0.0013 - val_accuracy: 1.0000\n",
      "Epoch 134/600\n",
      "191/191 [==============================] - 0s 976us/step - loss: 0.0438 - accuracy: 0.9826 - val_loss: 9.6954e-04 - val_accuracy: 1.0000\n",
      "Epoch 135/600\n",
      "191/191 [==============================] - 0s 982us/step - loss: 0.0467 - accuracy: 0.9819 - val_loss: 0.0015 - val_accuracy: 1.0000\n",
      "Epoch 136/600\n",
      "191/191 [==============================] - 0s 984us/step - loss: 0.0413 - accuracy: 0.9841 - val_loss: 0.0012 - val_accuracy: 1.0000\n",
      "Epoch 137/600\n",
      "191/191 [==============================] - 0s 969us/step - loss: 0.0394 - accuracy: 0.9860 - val_loss: 0.0016 - val_accuracy: 1.0000\n",
      "Epoch 138/600\n",
      "191/191 [==============================] - 0s 995us/step - loss: 0.0395 - accuracy: 0.9864 - val_loss: 0.0012 - val_accuracy: 1.0000\n",
      "Epoch 139/600\n",
      "191/191 [==============================] - 0s 979us/step - loss: 0.0424 - accuracy: 0.9839 - val_loss: 0.0011 - val_accuracy: 1.0000\n",
      "Epoch 140/600\n",
      "191/191 [==============================] - 0s 979us/step - loss: 0.0364 - accuracy: 0.9870 - val_loss: 0.0013 - val_accuracy: 1.0000\n",
      "Epoch 141/600\n",
      "191/191 [==============================] - 0s 974us/step - loss: 0.0484 - accuracy: 0.9813 - val_loss: 0.0014 - val_accuracy: 1.0000\n",
      "Epoch 142/600\n",
      "191/191 [==============================] - 0s 990us/step - loss: 0.0450 - accuracy: 0.9821 - val_loss: 0.0013 - val_accuracy: 1.0000\n",
      "Epoch 143/600\n",
      "191/191 [==============================] - 0s 984us/step - loss: 0.0401 - accuracy: 0.9867 - val_loss: 0.0010 - val_accuracy: 1.0000\n",
      "Epoch 144/600\n",
      "191/191 [==============================] - 0s 976us/step - loss: 0.0451 - accuracy: 0.9836 - val_loss: 0.0014 - val_accuracy: 1.0000\n",
      "Epoch 145/600\n",
      "191/191 [==============================] - 0s 974us/step - loss: 0.0390 - accuracy: 0.9859 - val_loss: 8.8542e-04 - val_accuracy: 1.0000\n",
      "Epoch 146/600\n",
      "191/191 [==============================] - 0s 976us/step - loss: 0.0419 - accuracy: 0.9846 - val_loss: 0.0011 - val_accuracy: 1.0000\n",
      "Epoch 147/600\n",
      "191/191 [==============================] - 0s 958us/step - loss: 0.0510 - accuracy: 0.9805 - val_loss: 0.0021 - val_accuracy: 1.0000\n",
      "Epoch 148/600\n",
      "191/191 [==============================] - 0s 984us/step - loss: 0.0429 - accuracy: 0.9856 - val_loss: 0.0027 - val_accuracy: 1.0000\n",
      "Epoch 149/600\n",
      "191/191 [==============================] - 0s 982us/step - loss: 0.0445 - accuracy: 0.9831 - val_loss: 0.0012 - val_accuracy: 1.0000\n",
      "Epoch 150/600\n",
      "191/191 [==============================] - 0s 963us/step - loss: 0.0472 - accuracy: 0.9816 - val_loss: 8.1437e-04 - val_accuracy: 1.0000\n",
      "Epoch 151/600\n",
      "191/191 [==============================] - 0s 984us/step - loss: 0.0479 - accuracy: 0.9819 - val_loss: 0.0019 - val_accuracy: 1.0000\n",
      "Epoch 152/600\n",
      "191/191 [==============================] - 0s 987us/step - loss: 0.0357 - accuracy: 0.9874 - val_loss: 0.0013 - val_accuracy: 1.0000\n",
      "Epoch 153/600\n",
      "191/191 [==============================] - 0s 1ms/step - loss: 0.0378 - accuracy: 0.9874 - val_loss: 0.0020 - val_accuracy: 1.0000\n",
      "Epoch 154/600\n",
      "191/191 [==============================] - 0s 982us/step - loss: 0.0430 - accuracy: 0.9839 - val_loss: 7.6018e-04 - val_accuracy: 1.0000\n",
      "Epoch 155/600\n",
      "191/191 [==============================] - 0s 982us/step - loss: 0.0393 - accuracy: 0.9860 - val_loss: 0.0012 - val_accuracy: 1.0000\n",
      "Epoch 156/600\n",
      "191/191 [==============================] - 0s 1ms/step - loss: 0.0420 - accuracy: 0.9844 - val_loss: 6.4439e-04 - val_accuracy: 1.0000\n",
      "Epoch 156: early stopping\n"
     ]
    },
    {
     "data": {
      "text/plain": [
       "<keras.callbacks.History at 0x2d0edb69880>"
      ]
     },
     "execution_count": 25,
     "metadata": {},
     "output_type": "execute_result"
    }
   ],
   "source": [
    "model.fit(x=X_train, \n",
    "          y=y_train, \n",
    "          epochs=600,\n",
    "          validation_data=(X_test, y_test), verbose=1,\n",
    "          callbacks=[early_stop]\n",
    "          )"
   ]
  },
  {
   "cell_type": "code",
   "execution_count": 26,
   "id": "e49acb68",
   "metadata": {},
   "outputs": [
    {
     "data": {
      "text/plain": [
       "<AxesSubplot:>"
      ]
     },
     "execution_count": 26,
     "metadata": {},
     "output_type": "execute_result"
    },
    {
     "data": {
      "image/png": "[encoded data removed]",
      "text/plain": [
       "<Figure size 432x288 with 1 Axes>"
      ]
     },
     "metadata": {
      "needs_background": "light"
     },
     "output_type": "display_data"
    }
   ],
   "source": [
    "model_loss = pd.DataFrame(model.history.history)\n",
    "model_loss.plot()"
   ]
  },
  {
   "cell_type": "code",
   "execution_count": 27,
   "id": "bab86771",
   "metadata": {},
   "outputs": [
    {
     "name": "stdout",
     "output_type": "stream",
     "text": [
      "64/64 [==============================] - 0s 564us/step\n"
     ]
    }
   ],
   "source": [
    "predictions = model.predict(X_test)\n",
    "predictions = (predictions > 0.5)"
   ]
  },
  {
   "cell_type": "code",
   "execution_count": 28,
   "id": "b94dd9d1",
   "metadata": {},
   "outputs": [
    {
     "name": "stdout",
     "output_type": "stream",
     "text": [
      "              precision    recall  f1-score   support\n",
      "\n",
      "           0       1.00      1.00      1.00      1044\n",
      "           1       1.00      1.00      1.00       987\n",
      "\n",
      "    accuracy                           1.00      2031\n",
      "   macro avg       1.00      1.00      1.00      2031\n",
      "weighted avg       1.00      1.00      1.00      2031\n",
      "\n",
      "[[1044    0]\n",
      " [   0  987]]\n"
     ]
    }
   ],
   "source": [
    "print(classification_report(y_test,predictions))\n",
    "print(confusion_matrix(y_test, predictions))"
   ]
  },
  {
   "cell_type": "code",
   "execution_count": null,
   "id": "46796501",
   "metadata": {},
   "outputs": [],
   "source": []
  },
  {
   "cell_type": "code",
   "execution_count": 29,
   "id": "233b61b5",
   "metadata": {},
   "outputs": [],
   "source": [
    "# SAVING MODEL TO BE DEPLOYED\n",
    "model.save('models\\model.h5')\n",
    "model_final = load_model('models\\model.h5')"
   ]
  }
 ],
 "metadata": {
  "kernelspec": {
   "display_name": "Python 3 (ipykernel)",
   "language": "python",
   "name": "python3"
  },
  "language_info": {
   "codemirror_mode": {
    "name": "ipython",
    "version": 3
   },
   "file_extension": ".py",
   "mimetype": "text/x-python",
   "name": "python",
   "nbconvert_exporter": "python",
   "pygments_lexer": "ipython3",
   "version": "3.9.12"
  },
  "vscode": {
   "interpreter": {
    "hash": "624741679a3ae5d99cecf49b8df5d516a7a937e6e7328e129d1fa121c8592e26"
   }
  }
 },
 "nbformat": 4,
 "nbformat_minor": 5
}
