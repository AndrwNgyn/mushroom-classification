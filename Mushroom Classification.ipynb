{
 "cells": [
  {
   "cell_type": "code",
   "execution_count": 77,
   "id": "c129732f",
   "metadata": {},
   "outputs": [],
   "source": [
    "#importing libraries\n",
    "\n",
    "import pandas as pd\n",
    "import numpy as np\n",
    "import matplotlib.pyplot as plt\n",
    "import seaborn as sns\n",
    "%matplotlib inline"
   ]
  },
  {
   "cell_type": "code",
   "execution_count": 78,
   "id": "f913106e",
   "metadata": {},
   "outputs": [
    {
     "data": {
      "text/html": [
       "<div>\n",
       "<style scoped>\n",
       "    .dataframe tbody tr th:only-of-type {\n",
       "        vertical-align: middle;\n",
       "    }\n",
       "\n",
       "    .dataframe tbody tr th {\n",
       "        vertical-align: top;\n",
       "    }\n",
       "\n",
       "    .dataframe thead th {\n",
       "        text-align: right;\n",
       "    }\n",
       "</style>\n",
       "<table border=\"1\" class=\"dataframe\">\n",
       "  <thead>\n",
       "    <tr style=\"text-align: right;\">\n",
       "      <th></th>\n",
       "      <th>class</th>\n",
       "      <th>cap-shape</th>\n",
       "      <th>cap-surface</th>\n",
       "      <th>cap-color</th>\n",
       "      <th>bruises</th>\n",
       "      <th>odor</th>\n",
       "      <th>gill-attachment</th>\n",
       "      <th>gill-spacing</th>\n",
       "      <th>gill-size</th>\n",
       "      <th>gill-color</th>\n",
       "      <th>...</th>\n",
       "      <th>stalk-surface-below-ring</th>\n",
       "      <th>stalk-color-above-ring</th>\n",
       "      <th>stalk-color-below-ring</th>\n",
       "      <th>veil-type</th>\n",
       "      <th>veil-color</th>\n",
       "      <th>ring-number</th>\n",
       "      <th>ring-type</th>\n",
       "      <th>spore-print-color</th>\n",
       "      <th>population</th>\n",
       "      <th>habitat</th>\n",
       "    </tr>\n",
       "  </thead>\n",
       "  <tbody>\n",
       "    <tr>\n",
       "      <th>0</th>\n",
       "      <td>p</td>\n",
       "      <td>x</td>\n",
       "      <td>s</td>\n",
       "      <td>n</td>\n",
       "      <td>t</td>\n",
       "      <td>p</td>\n",
       "      <td>f</td>\n",
       "      <td>c</td>\n",
       "      <td>n</td>\n",
       "      <td>k</td>\n",
       "      <td>...</td>\n",
       "      <td>s</td>\n",
       "      <td>w</td>\n",
       "      <td>w</td>\n",
       "      <td>p</td>\n",
       "      <td>w</td>\n",
       "      <td>o</td>\n",
       "      <td>p</td>\n",
       "      <td>k</td>\n",
       "      <td>s</td>\n",
       "      <td>u</td>\n",
       "    </tr>\n",
       "    <tr>\n",
       "      <th>1</th>\n",
       "      <td>e</td>\n",
       "      <td>x</td>\n",
       "      <td>s</td>\n",
       "      <td>y</td>\n",
       "      <td>t</td>\n",
       "      <td>a</td>\n",
       "      <td>f</td>\n",
       "      <td>c</td>\n",
       "      <td>b</td>\n",
       "      <td>k</td>\n",
       "      <td>...</td>\n",
       "      <td>s</td>\n",
       "      <td>w</td>\n",
       "      <td>w</td>\n",
       "      <td>p</td>\n",
       "      <td>w</td>\n",
       "      <td>o</td>\n",
       "      <td>p</td>\n",
       "      <td>n</td>\n",
       "      <td>n</td>\n",
       "      <td>g</td>\n",
       "    </tr>\n",
       "    <tr>\n",
       "      <th>2</th>\n",
       "      <td>e</td>\n",
       "      <td>b</td>\n",
       "      <td>s</td>\n",
       "      <td>w</td>\n",
       "      <td>t</td>\n",
       "      <td>l</td>\n",
       "      <td>f</td>\n",
       "      <td>c</td>\n",
       "      <td>b</td>\n",
       "      <td>n</td>\n",
       "      <td>...</td>\n",
       "      <td>s</td>\n",
       "      <td>w</td>\n",
       "      <td>w</td>\n",
       "      <td>p</td>\n",
       "      <td>w</td>\n",
       "      <td>o</td>\n",
       "      <td>p</td>\n",
       "      <td>n</td>\n",
       "      <td>n</td>\n",
       "      <td>m</td>\n",
       "    </tr>\n",
       "    <tr>\n",
       "      <th>3</th>\n",
       "      <td>p</td>\n",
       "      <td>x</td>\n",
       "      <td>y</td>\n",
       "      <td>w</td>\n",
       "      <td>t</td>\n",
       "      <td>p</td>\n",
       "      <td>f</td>\n",
       "      <td>c</td>\n",
       "      <td>n</td>\n",
       "      <td>n</td>\n",
       "      <td>...</td>\n",
       "      <td>s</td>\n",
       "      <td>w</td>\n",
       "      <td>w</td>\n",
       "      <td>p</td>\n",
       "      <td>w</td>\n",
       "      <td>o</td>\n",
       "      <td>p</td>\n",
       "      <td>k</td>\n",
       "      <td>s</td>\n",
       "      <td>u</td>\n",
       "    </tr>\n",
       "    <tr>\n",
       "      <th>4</th>\n",
       "      <td>e</td>\n",
       "      <td>x</td>\n",
       "      <td>s</td>\n",
       "      <td>g</td>\n",
       "      <td>f</td>\n",
       "      <td>n</td>\n",
       "      <td>f</td>\n",
       "      <td>w</td>\n",
       "      <td>b</td>\n",
       "      <td>k</td>\n",
       "      <td>...</td>\n",
       "      <td>s</td>\n",
       "      <td>w</td>\n",
       "      <td>w</td>\n",
       "      <td>p</td>\n",
       "      <td>w</td>\n",
       "      <td>o</td>\n",
       "      <td>e</td>\n",
       "      <td>n</td>\n",
       "      <td>a</td>\n",
       "      <td>g</td>\n",
       "    </tr>\n",
       "  </tbody>\n",
       "</table>\n",
       "<p>5 rows × 23 columns</p>\n",
       "</div>"
      ],
      "text/plain": [
       "  class cap-shape cap-surface cap-color bruises odor gill-attachment  \\\n",
       "0     p         x           s         n       t    p               f   \n",
       "1     e         x           s         y       t    a               f   \n",
       "2     e         b           s         w       t    l               f   \n",
       "3     p         x           y         w       t    p               f   \n",
       "4     e         x           s         g       f    n               f   \n",
       "\n",
       "  gill-spacing gill-size gill-color  ... stalk-surface-below-ring  \\\n",
       "0            c         n          k  ...                        s   \n",
       "1            c         b          k  ...                        s   \n",
       "2            c         b          n  ...                        s   \n",
       "3            c         n          n  ...                        s   \n",
       "4            w         b          k  ...                        s   \n",
       "\n",
       "  stalk-color-above-ring stalk-color-below-ring veil-type veil-color  \\\n",
       "0                      w                      w         p          w   \n",
       "1                      w                      w         p          w   \n",
       "2                      w                      w         p          w   \n",
       "3                      w                      w         p          w   \n",
       "4                      w                      w         p          w   \n",
       "\n",
       "  ring-number ring-type spore-print-color population habitat  \n",
       "0           o         p                 k          s       u  \n",
       "1           o         p                 n          n       g  \n",
       "2           o         p                 n          n       m  \n",
       "3           o         p                 k          s       u  \n",
       "4           o         e                 n          a       g  \n",
       "\n",
       "[5 rows x 23 columns]"
      ]
     },
     "execution_count": 78,
     "metadata": {},
     "output_type": "execute_result"
    }
   ],
   "source": [
    "data = pd.read_csv(\"mushrooms.csv\")\n",
    "data.head()"
   ]
  },
  {
   "cell_type": "code",
   "execution_count": 79,
   "id": "ecf11c56",
   "metadata": {},
   "outputs": [
    {
     "name": "stdout",
     "output_type": "stream",
     "text": [
      "<class 'pandas.core.frame.DataFrame'>\n",
      "RangeIndex: 8124 entries, 0 to 8123\n",
      "Data columns (total 23 columns):\n",
      " #   Column                    Non-Null Count  Dtype \n",
      "---  ------                    --------------  ----- \n",
      " 0   class                     8124 non-null   object\n",
      " 1   cap-shape                 8124 non-null   object\n",
      " 2   cap-surface               8124 non-null   object\n",
      " 3   cap-color                 8124 non-null   object\n",
      " 4   bruises                   8124 non-null   object\n",
      " 5   odor                      8124 non-null   object\n",
      " 6   gill-attachment           8124 non-null   object\n",
      " 7   gill-spacing              8124 non-null   object\n",
      " 8   gill-size                 8124 non-null   object\n",
      " 9   gill-color                8124 non-null   object\n",
      " 10  stalk-shape               8124 non-null   object\n",
      " 11  stalk-root                8124 non-null   object\n",
      " 12  stalk-surface-above-ring  8124 non-null   object\n",
      " 13  stalk-surface-below-ring  8124 non-null   object\n",
      " 14  stalk-color-above-ring    8124 non-null   object\n",
      " 15  stalk-color-below-ring    8124 non-null   object\n",
      " 16  veil-type                 8124 non-null   object\n",
      " 17  veil-color                8124 non-null   object\n",
      " 18  ring-number               8124 non-null   object\n",
      " 19  ring-type                 8124 non-null   object\n",
      " 20  spore-print-color         8124 non-null   object\n",
      " 21  population                8124 non-null   object\n",
      " 22  habitat                   8124 non-null   object\n",
      "dtypes: object(23)\n",
      "memory usage: 1.4+ MB\n"
     ]
    }
   ],
   "source": [
    "data.info()"
   ]
  },
  {
   "cell_type": "code",
   "execution_count": 80,
   "id": "f5527811",
   "metadata": {},
   "outputs": [],
   "source": [
    "# in order to better understand data during EDA, we should convert letter values to full words\n",
    "cap_shape={\"b\":\"bell\",\"c\":\"conical\",\"x\":\"convex\",\"f\":\"flat\",\"k\":\"knobbed\",\"s\":\"sunken\"}\n",
    "data[\"cap-shape\"]=data[\"cap-shape\"].replace(cap_shape)\n",
    "\n",
    "cap_surface={\"f\": \"fibrous\", \"g\": \"grooves\",\"y\":\"scaly\",\"s\": \"smooth\"}\n",
    "data[\"cap-surface\"]=data[\"cap-surface\"].replace(cap_surface)\n",
    "\n",
    "cap_color={\"n\":\"brown\",\"b\":\"buff\",\"c\":\"cinnamon\",\"g\":\"gray\",\"r\":\"green\",\"p\":\"pink\",\"u\":\"purple\",\"e\":\"red\",\"w\":\"white\",\"y\":\"yellow\"}\n",
    "data[\"cap-color\"]=data[\"cap-color\"].replace(cap_color)\n",
    "\n",
    "odor={\"a\":\"almond\",\"l\":\"anise\",\"c\":\"creosote\",\"y\":\"fishy\",\"f\":\"foul\",\"m\":\"musty\",\"n\":\"none\",\"p\":\"pungent\",\"s\":\"spicy\"}\n",
    "data[\"odor\"]=data[\"odor\"].replace(odor)\n",
    "\n",
    "gill_attachment={\"a\":\"attached\",\"f\":\"free\", \"d\":\"descending\", \"n\":\"notched\"}\n",
    "data[\"gill-attachment\"]=data[\"gill-attachment\"].replace(gill_attachment)\n",
    "\n",
    "gill_spacing={\"c\":\"close\",\"w\":\"crowded\", \"d\":\"distant\"}\n",
    "data[\"gill-spacing\"]=data[\"gill-spacing\"].replace(gill_spacing)\n",
    "\n",
    "gill_size={\"b\":\"broad\",\"n\":\"narrow\"}\n",
    "data[\"gill-size\"]=data[\"gill-size\"].replace(gill_size)\n",
    "\n",
    "gill_color={\"k\":\"black\",\"b\":\"buff\",\"n\":\"brown\",\"h\":\"chocolate\",\"g\":\"gray\",\"r\":\"green\",\"o\":\"orange\",\"p\":\"pink\",\"u\":\"purple\",\"e\":\"red\",\"w\":\"white\",\"y\":\"yellow\"}\n",
    "data[\"gill-color\"]=data[\"gill-color\"].replace(gill_color)\n",
    "\n",
    "stalk_shape={\"t\":\"tapering\",\"e\":\"enlarging\"}\n",
    "data[\"stalk-shape\"]=data[\"stalk-shape\"].replace(stalk_shape)\n",
    "\n",
    "stalk_root={\"b\":\"bulbous\",\"c\":\"club\",\"e\":\"equal\",\"z\":\"rhizomorphs\",\"r\":\"rooted\",\"?\":\"missing\"}\n",
    "data[\"stalk-root\"]=data[\"stalk-root\"].replace(stalk_root)\n",
    "\n",
    "stalk_surface_above_ring={\"s\":\"smooth\",\"k\":\"silky\",\"f\":\"fibrous\",\"y\":\"scaly\"}\n",
    "data[\"stalk-surface-above-ring\"]=data[\"stalk-surface-above-ring\"].replace(stalk_surface_above_ring)\n",
    "data[\"stalk-surface-below-ring\"]=data[\"stalk-surface-below-ring\"].replace(stalk_surface_above_ring)\n",
    "\n",
    "stalk_color_above_ring={\"n\":\"brown\",\"b\":\"buff\",\"c\":\"cinnamon\",\"g\":\"gray\",\"p\":\"pink\",\"e\":\"red\",\"w\":\"white\",\"y\":\"yellow\",\"o\":\"orange\"}\n",
    "data[\"stalk-color-above-ring\"]=data[\"stalk-color-above-ring\"].replace(stalk_color_above_ring)\n",
    "data[\"stalk-color-below-ring\"]=data[\"stalk-color-below-ring\"].replace(stalk_color_above_ring)\n",
    "\n",
    "veil_type={\"p\":\"partial\",\"u\":\"universal\"} \n",
    "data[\"veil-type\"]=data[\"veil-type\"].replace(veil_type)\n",
    "\n",
    "veil_color={\"n\":\"brown\",\"o\":\"orange\",\"w\":\"white\",\"y\":\"yellow\"} \n",
    "data[\"veil-color\"]=data[\"veil-color\"].replace(veil_color)\n",
    "\n",
    "ring_number= {\"n\":\"none\",\"o\":\"one\",\"t\":\"two\"}\n",
    "data[\"ring-number\"]=data[\"ring-number\"].replace(ring_number)\n",
    "\n",
    "ring_type={\"c\":\"cobwebby\",\"e\":\"evanescent\",\"f\":\"flaring\",\"l\":\"large\",\"n\":\"none\",\"p\":\"pendant\",\"s\":\"sheathing\",\"z\":\"zone\"}\n",
    "data[\"ring-type\"]=data[\"ring-type\"].replace(ring_type)\n",
    "\n",
    "spore_print_color= {\"k\":\"black\",\"n\":\"brown\",\"b\":\"buff\",\"h\":\"chocolate\",\"r\":\"green\",\"o\":\"orange\",\"u\":\"purple\",\"w\":\"white\",\"y\":\"yellow\"}\n",
    "data[\"spore-print-color\"]=data[\"spore-print-color\"].replace(spore_print_color)\n",
    "\n",
    "population={\"a\":\"abundant\",\"c\":\"clustered\",\"n\":\"numerous\",\"s\":\"scattered\",\"v\":\"several\",\"y\":\"solitary\"}\n",
    "data[\"population\"]=data[\"population\"].replace(population)\n",
    "\n",
    "habitat={\"g\":\"grasses\",\"l\":\"leaves\",\"m\":\"meadows\",\"p\":\"paths\",\"u\":\"urban\",\"w\":\"waste\",\"d\":\"woods\"}\n",
    "data[\"habitat\"]=data[\"habitat\"].replace(habitat)\n",
    "\n",
    "bruises={\"t\":\"bruises\",\"f\":\"no\"}\n",
    "data[\"bruises\"]=data[\"bruises\"].replace(bruises)\n",
    "\n",
    "classification={\"e\":\"edible\",\"p\":\"poisonous\"}\n",
    "data[\"class\"]=data[\"class\"].replace(classification)\n"
   ]
  },
  {
   "cell_type": "code",
   "execution_count": 81,
   "id": "f653599b",
   "metadata": {
    "scrolled": false
   },
   "outputs": [
    {
     "data": {
      "image/png": "[encoded data removed]",
      "text/plain": [
       "<Figure size 864x504 with 1 Axes>"
      ]
     },
     "metadata": {
      "needs_background": "light"
     },
     "output_type": "display_data"
    }
   ],
   "source": [
    "plt.figure(figsize=(12,7))\n",
    "class_plt = sns.countplot(x = 'class', data = data, saturation = 0.5).set(title=\"Poisonous vs. Edible Mushrooms\")"
   ]
  },
  {
   "cell_type": "code",
   "execution_count": 93,
   "id": "8718f358",
   "metadata": {},
   "outputs": [
    {
     "data": {
      "image/png": "[encoded data removed]",
      "text/plain": [
       "<Figure size 864x504 with 1 Axes>"
      ]
     },
     "metadata": {
      "needs_background": "light"
     },
     "output_type": "display_data"
    }
   ],
   "source": [
    "plt.figure(figsize=(12,7))\n",
    "color_class_plt = sns.countplot(x = 'cap-color', data = data, hue = 'class', order = data['cap-color'].value_counts().index, saturation = 0.5).set(title = \"Mushroom Cap Color vs. Edibility\")"
   ]
  },
  {
   "cell_type": "code",
   "execution_count": 94,
   "id": "c48ff5a9",
   "metadata": {},
   "outputs": [
    {
     "data": {
      "image/png": "[encoded data removed]",
      "text/plain": [
       "<Figure size 864x504 with 1 Axes>"
      ]
     },
     "metadata": {
      "needs_background": "light"
     },
     "output_type": "display_data"
    }
   ],
   "source": [
    "plt.figure(figsize=(12,7))\n",
    "odor_class_plt = sns.countplot(x = 'odor', data = data, hue = 'class', order = data['odor'].value_counts().index, saturation = 0.5).set(title = \"Mushroom Odor vs. Edibility\")"
   ]
  },
  {
   "cell_type": "code",
   "execution_count": 95,
   "id": "b210f351",
   "metadata": {},
   "outputs": [
    {
     "data": {
      "image/png": "[encoded data removed]",
      "text/plain": [
       "<Figure size 864x504 with 1 Axes>"
      ]
     },
     "metadata": {
      "needs_background": "light"
     },
     "output_type": "display_data"
    }
   ],
   "source": [
    "plt.figure(figsize=(12,7))\n",
    "odor_class_plt = sns.countplot(x = 'habitat', data = data, hue = 'class', order = data['habitat'].value_counts().index, saturation = 0.5).set(title = \"Mushroom Odor vs. Edibility\")"
   ]
  },
  {
   "cell_type": "code",
   "execution_count": 96,
   "id": "6f5b5b07",
   "metadata": {},
   "outputs": [
    {
     "data": {
      "image/png": "[encoded data removed]",
      "text/plain": [
       "<Figure size 864x504 with 1 Axes>"
      ]
     },
     "metadata": {
      "needs_background": "light"
     },
     "output_type": "display_data"
    }
   ],
   "source": [
    "plt.figure(figsize=(12,7))\n",
    "odor_class_plt = sns.countplot(x = 'population', data = data, hue = 'class', order = data['population'].value_counts().index, saturation = 0.5).set(title = \"Mushroom Odor vs. Edibility\")"
   ]
  }
 ],
 "metadata": {
  "kernelspec": {
   "display_name": "Python 3 (ipykernel)",
   "language": "python",
   "name": "python3"
  },
  "language_info": {
   "codemirror_mode": {
    "name": "ipython",
    "version": 3
   },
   "file_extension": ".py",
   "mimetype": "text/x-python",
   "name": "python",
   "nbconvert_exporter": "python",
   "pygments_lexer": "ipython3",
   "version": "3.9.12"
  }
 },
 "nbformat": 4,
 "nbformat_minor": 5
}
