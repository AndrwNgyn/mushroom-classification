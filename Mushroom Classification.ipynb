{
 "cells": [
  {
   "cell_type": "code",
   "execution_count": 1,
   "id": "c129732f",
   "metadata": {},
   "outputs": [],
   "source": [
    "#importing libraries\n",
    "\n",
    "import pandas as pd\n",
    "import numpy as np\n",
    "import matplotlib.pyplot as plt\n",
    "import seaborn as sns\n",
    "%matplotlib inline"
   ]
  },
  {
   "cell_type": "code",
   "execution_count": 2,
   "id": "f913106e",
   "metadata": {},
   "outputs": [
    {
     "data": {
      "text/html": [
       "<div>\n",
       "<style scoped>\n",
       "    .dataframe tbody tr th:only-of-type {\n",
       "        vertical-align: middle;\n",
       "    }\n",
       "\n",
       "    .dataframe tbody tr th {\n",
       "        vertical-align: top;\n",
       "    }\n",
       "\n",
       "    .dataframe thead th {\n",
       "        text-align: right;\n",
       "    }\n",
       "</style>\n",
       "<table border=\"1\" class=\"dataframe\">\n",
       "  <thead>\n",
       "    <tr style=\"text-align: right;\">\n",
       "      <th></th>\n",
       "      <th>class</th>\n",
       "      <th>cap-shape</th>\n",
       "      <th>cap-surface</th>\n",
       "      <th>cap-color</th>\n",
       "      <th>bruises</th>\n",
       "      <th>odor</th>\n",
       "      <th>gill-attachment</th>\n",
       "      <th>gill-spacing</th>\n",
       "      <th>gill-size</th>\n",
       "      <th>gill-color</th>\n",
       "      <th>...</th>\n",
       "      <th>stalk-surface-below-ring</th>\n",
       "      <th>stalk-color-above-ring</th>\n",
       "      <th>stalk-color-below-ring</th>\n",
       "      <th>veil-type</th>\n",
       "      <th>veil-color</th>\n",
       "      <th>ring-number</th>\n",
       "      <th>ring-type</th>\n",
       "      <th>spore-print-color</th>\n",
       "      <th>population</th>\n",
       "      <th>habitat</th>\n",
       "    </tr>\n",
       "  </thead>\n",
       "  <tbody>\n",
       "    <tr>\n",
       "      <th>0</th>\n",
       "      <td>p</td>\n",
       "      <td>x</td>\n",
       "      <td>s</td>\n",
       "      <td>n</td>\n",
       "      <td>t</td>\n",
       "      <td>p</td>\n",
       "      <td>f</td>\n",
       "      <td>c</td>\n",
       "      <td>n</td>\n",
       "      <td>k</td>\n",
       "      <td>...</td>\n",
       "      <td>s</td>\n",
       "      <td>w</td>\n",
       "      <td>w</td>\n",
       "      <td>p</td>\n",
       "      <td>w</td>\n",
       "      <td>o</td>\n",
       "      <td>p</td>\n",
       "      <td>k</td>\n",
       "      <td>s</td>\n",
       "      <td>u</td>\n",
       "    </tr>\n",
       "    <tr>\n",
       "      <th>1</th>\n",
       "      <td>e</td>\n",
       "      <td>x</td>\n",
       "      <td>s</td>\n",
       "      <td>y</td>\n",
       "      <td>t</td>\n",
       "      <td>a</td>\n",
       "      <td>f</td>\n",
       "      <td>c</td>\n",
       "      <td>b</td>\n",
       "      <td>k</td>\n",
       "      <td>...</td>\n",
       "      <td>s</td>\n",
       "      <td>w</td>\n",
       "      <td>w</td>\n",
       "      <td>p</td>\n",
       "      <td>w</td>\n",
       "      <td>o</td>\n",
       "      <td>p</td>\n",
       "      <td>n</td>\n",
       "      <td>n</td>\n",
       "      <td>g</td>\n",
       "    </tr>\n",
       "    <tr>\n",
       "      <th>2</th>\n",
       "      <td>e</td>\n",
       "      <td>b</td>\n",
       "      <td>s</td>\n",
       "      <td>w</td>\n",
       "      <td>t</td>\n",
       "      <td>l</td>\n",
       "      <td>f</td>\n",
       "      <td>c</td>\n",
       "      <td>b</td>\n",
       "      <td>n</td>\n",
       "      <td>...</td>\n",
       "      <td>s</td>\n",
       "      <td>w</td>\n",
       "      <td>w</td>\n",
       "      <td>p</td>\n",
       "      <td>w</td>\n",
       "      <td>o</td>\n",
       "      <td>p</td>\n",
       "      <td>n</td>\n",
       "      <td>n</td>\n",
       "      <td>m</td>\n",
       "    </tr>\n",
       "    <tr>\n",
       "      <th>3</th>\n",
       "      <td>p</td>\n",
       "      <td>x</td>\n",
       "      <td>y</td>\n",
       "      <td>w</td>\n",
       "      <td>t</td>\n",
       "      <td>p</td>\n",
       "      <td>f</td>\n",
       "      <td>c</td>\n",
       "      <td>n</td>\n",
       "      <td>n</td>\n",
       "      <td>...</td>\n",
       "      <td>s</td>\n",
       "      <td>w</td>\n",
       "      <td>w</td>\n",
       "      <td>p</td>\n",
       "      <td>w</td>\n",
       "      <td>o</td>\n",
       "      <td>p</td>\n",
       "      <td>k</td>\n",
       "      <td>s</td>\n",
       "      <td>u</td>\n",
       "    </tr>\n",
       "    <tr>\n",
       "      <th>4</th>\n",
       "      <td>e</td>\n",
       "      <td>x</td>\n",
       "      <td>s</td>\n",
       "      <td>g</td>\n",
       "      <td>f</td>\n",
       "      <td>n</td>\n",
       "      <td>f</td>\n",
       "      <td>w</td>\n",
       "      <td>b</td>\n",
       "      <td>k</td>\n",
       "      <td>...</td>\n",
       "      <td>s</td>\n",
       "      <td>w</td>\n",
       "      <td>w</td>\n",
       "      <td>p</td>\n",
       "      <td>w</td>\n",
       "      <td>o</td>\n",
       "      <td>e</td>\n",
       "      <td>n</td>\n",
       "      <td>a</td>\n",
       "      <td>g</td>\n",
       "    </tr>\n",
       "  </tbody>\n",
       "</table>\n",
       "<p>5 rows × 23 columns</p>\n",
       "</div>"
      ],
      "text/plain": [
       "  class cap-shape cap-surface cap-color bruises odor gill-attachment  \\\n",
       "0     p         x           s         n       t    p               f   \n",
       "1     e         x           s         y       t    a               f   \n",
       "2     e         b           s         w       t    l               f   \n",
       "3     p         x           y         w       t    p               f   \n",
       "4     e         x           s         g       f    n               f   \n",
       "\n",
       "  gill-spacing gill-size gill-color  ... stalk-surface-below-ring  \\\n",
       "0            c         n          k  ...                        s   \n",
       "1            c         b          k  ...                        s   \n",
       "2            c         b          n  ...                        s   \n",
       "3            c         n          n  ...                        s   \n",
       "4            w         b          k  ...                        s   \n",
       "\n",
       "  stalk-color-above-ring stalk-color-below-ring veil-type veil-color  \\\n",
       "0                      w                      w         p          w   \n",
       "1                      w                      w         p          w   \n",
       "2                      w                      w         p          w   \n",
       "3                      w                      w         p          w   \n",
       "4                      w                      w         p          w   \n",
       "\n",
       "  ring-number ring-type spore-print-color population habitat  \n",
       "0           o         p                 k          s       u  \n",
       "1           o         p                 n          n       g  \n",
       "2           o         p                 n          n       m  \n",
       "3           o         p                 k          s       u  \n",
       "4           o         e                 n          a       g  \n",
       "\n",
       "[5 rows x 23 columns]"
      ]
     },
     "execution_count": 2,
     "metadata": {},
     "output_type": "execute_result"
    }
   ],
   "source": [
    "data = pd.read_csv(\"mushrooms.csv\")\n",
    "data.head()"
   ]
  },
  {
   "cell_type": "code",
   "execution_count": 3,
   "id": "ecf11c56",
   "metadata": {},
   "outputs": [
    {
     "name": "stdout",
     "output_type": "stream",
     "text": [
      "<class 'pandas.core.frame.DataFrame'>\n",
      "RangeIndex: 8124 entries, 0 to 8123\n",
      "Data columns (total 23 columns):\n",
      " #   Column                    Non-Null Count  Dtype \n",
      "---  ------                    --------------  ----- \n",
      " 0   class                     8124 non-null   object\n",
      " 1   cap-shape                 8124 non-null   object\n",
      " 2   cap-surface               8124 non-null   object\n",
      " 3   cap-color                 8124 non-null   object\n",
      " 4   bruises                   8124 non-null   object\n",
      " 5   odor                      8124 non-null   object\n",
      " 6   gill-attachment           8124 non-null   object\n",
      " 7   gill-spacing              8124 non-null   object\n",
      " 8   gill-size                 8124 non-null   object\n",
      " 9   gill-color                8124 non-null   object\n",
      " 10  stalk-shape               8124 non-null   object\n",
      " 11  stalk-root                8124 non-null   object\n",
      " 12  stalk-surface-above-ring  8124 non-null   object\n",
      " 13  stalk-surface-below-ring  8124 non-null   object\n",
      " 14  stalk-color-above-ring    8124 non-null   object\n",
      " 15  stalk-color-below-ring    8124 non-null   object\n",
      " 16  veil-type                 8124 non-null   object\n",
      " 17  veil-color                8124 non-null   object\n",
      " 18  ring-number               8124 non-null   object\n",
      " 19  ring-type                 8124 non-null   object\n",
      " 20  spore-print-color         8124 non-null   object\n",
      " 21  population                8124 non-null   object\n",
      " 22  habitat                   8124 non-null   object\n",
      "dtypes: object(23)\n",
      "memory usage: 1.4+ MB\n"
     ]
    }
   ],
   "source": [
    "data.info()"
   ]
  },
  {
   "cell_type": "code",
   "execution_count": 4,
   "id": "f5527811",
   "metadata": {},
   "outputs": [],
   "source": [
    "# in order to better understand data during EDA, we should convert letter values to full words\n",
    "cap_shape={\"b\":\"bell\",\"c\":\"conical\",\"x\":\"convex\",\"f\":\"flat\",\"k\":\"knobbed\",\"s\":\"sunken\"}\n",
    "data[\"cap-shape\"]=data[\"cap-shape\"].replace(cap_shape)\n",
    "\n",
    "cap_surface={\"f\": \"fibrous\", \"g\": \"grooves\",\"y\":\"scaly\",\"s\": \"smooth\"}\n",
    "data[\"cap-surface\"]=data[\"cap-surface\"].replace(cap_surface)\n",
    "\n",
    "cap_color={\"n\":\"brown\",\"b\":\"buff\",\"c\":\"cinnamon\",\"g\":\"gray\",\"r\":\"green\",\"p\":\"pink\",\"u\":\"purple\",\"e\":\"red\",\"w\":\"white\",\"y\":\"yellow\"}\n",
    "data[\"cap-color\"]=data[\"cap-color\"].replace(cap_color)\n",
    "\n",
    "odor={\"a\":\"almond\",\"l\":\"anise\",\"c\":\"creosote\",\"y\":\"fishy\",\"f\":\"foul\",\"m\":\"musty\",\"n\":\"none\",\"p\":\"pungent\",\"s\":\"spicy\"}\n",
    "data[\"odor\"]=data[\"odor\"].replace(odor)\n",
    "\n",
    "gill_attachment={\"a\":\"attached\",\"f\":\"free\", \"d\":\"descending\", \"n\":\"notched\"}\n",
    "data[\"gill-attachment\"]=data[\"gill-attachment\"].replace(gill_attachment)\n",
    "\n",
    "gill_spacing={\"c\":\"close\",\"w\":\"crowded\", \"d\":\"distant\"}\n",
    "data[\"gill-spacing\"]=data[\"gill-spacing\"].replace(gill_spacing)\n",
    "\n",
    "gill_size={\"b\":\"broad\",\"n\":\"narrow\"}\n",
    "data[\"gill-size\"]=data[\"gill-size\"].replace(gill_size)\n",
    "\n",
    "gill_color={\"k\":\"black\",\"b\":\"buff\",\"n\":\"brown\",\"h\":\"chocolate\",\"g\":\"gray\",\"r\":\"green\",\"o\":\"orange\",\"p\":\"pink\",\"u\":\"purple\",\"e\":\"red\",\"w\":\"white\",\"y\":\"yellow\"}\n",
    "data[\"gill-color\"]=data[\"gill-color\"].replace(gill_color)\n",
    "\n",
    "stalk_shape={\"t\":\"tapering\",\"e\":\"enlarging\"}\n",
    "data[\"stalk-shape\"]=data[\"stalk-shape\"].replace(stalk_shape)\n",
    "\n",
    "stalk_root={\"b\":\"bulbous\",\"c\":\"club\",\"e\":\"equal\",\"z\":\"rhizomorphs\",\"r\":\"rooted\",\"?\":\"missing\"}\n",
    "data[\"stalk-root\"]=data[\"stalk-root\"].replace(stalk_root)\n",
    "\n",
    "stalk_surface_above_ring={\"s\":\"smooth\",\"k\":\"silky\",\"f\":\"fibrous\",\"y\":\"scaly\"}\n",
    "data[\"stalk-surface-above-ring\"]=data[\"stalk-surface-above-ring\"].replace(stalk_surface_above_ring)\n",
    "data[\"stalk-surface-below-ring\"]=data[\"stalk-surface-below-ring\"].replace(stalk_surface_above_ring)\n",
    "\n",
    "stalk_color_above_ring={\"n\":\"brown\",\"b\":\"buff\",\"c\":\"cinnamon\",\"g\":\"gray\",\"p\":\"pink\",\"e\":\"red\",\"w\":\"white\",\"y\":\"yellow\",\"o\":\"orange\"}\n",
    "data[\"stalk-color-above-ring\"]=data[\"stalk-color-above-ring\"].replace(stalk_color_above_ring)\n",
    "data[\"stalk-color-below-ring\"]=data[\"stalk-color-below-ring\"].replace(stalk_color_above_ring)\n",
    "\n",
    "veil_type={\"p\":\"partial\",\"u\":\"universal\"} \n",
    "data[\"veil-type\"]=data[\"veil-type\"].replace(veil_type)\n",
    "\n",
    "veil_color={\"n\":\"brown\",\"o\":\"orange\",\"w\":\"white\",\"y\":\"yellow\"} \n",
    "data[\"veil-color\"]=data[\"veil-color\"].replace(veil_color)\n",
    "\n",
    "ring_number= {\"n\":\"none\",\"o\":\"one\",\"t\":\"two\"}\n",
    "data[\"ring-number\"]=data[\"ring-number\"].replace(ring_number)\n",
    "\n",
    "ring_type={\"c\":\"cobwebby\",\"e\":\"evanescent\",\"f\":\"flaring\",\"l\":\"large\",\"n\":\"none\",\"p\":\"pendant\",\"s\":\"sheathing\",\"z\":\"zone\"}\n",
    "data[\"ring-type\"]=data[\"ring-type\"].replace(ring_type)\n",
    "\n",
    "spore_print_color= {\"k\":\"black\",\"n\":\"brown\",\"b\":\"buff\",\"h\":\"chocolate\",\"r\":\"green\",\"o\":\"orange\",\"u\":\"purple\",\"w\":\"white\",\"y\":\"yellow\"}\n",
    "data[\"spore-print-color\"]=data[\"spore-print-color\"].replace(spore_print_color)\n",
    "\n",
    "population={\"a\":\"abundant\",\"c\":\"clustered\",\"n\":\"numerous\",\"s\":\"scattered\",\"v\":\"several\",\"y\":\"solitary\"}\n",
    "data[\"population\"]=data[\"population\"].replace(population)\n",
    "\n",
    "habitat={\"g\":\"grasses\",\"l\":\"leaves\",\"m\":\"meadows\",\"p\":\"paths\",\"u\":\"urban\",\"w\":\"waste\",\"d\":\"woods\"}\n",
    "data[\"habitat\"]=data[\"habitat\"].replace(habitat)\n",
    "\n",
    "bruises={\"t\":\"bruises\",\"f\":\"no\"}\n",
    "data[\"bruises\"]=data[\"bruises\"].replace(bruises)\n",
    "\n",
    "classification={\"e\":\"edible\",\"p\":\"poisonous\"}\n",
    "data[\"class\"]=data[\"class\"].replace(classification)\n"
   ]
  },
  {
   "cell_type": "code",
   "execution_count": 5,
   "id": "f653599b",
   "metadata": {
    "scrolled": false
   },
   "outputs": [
    {
     "data": {
      "image/png": "[encoded data removed]",
      "text/plain": [
       "<Figure size 864x504 with 1 Axes>"
      ]
     },
     "metadata": {
      "needs_background": "light"
     },
     "output_type": "display_data"
    }
   ],
   "source": [
    "plt.figure(figsize=(12,7))\n",
    "class_plt = sns.countplot(x = 'class', data = data, saturation = 0.5).set(title=\"Poisonous vs. Edible Mushrooms\")"
   ]
  },
  {
   "cell_type": "code",
   "execution_count": 6,
   "id": "8718f358",
   "metadata": {},
   "outputs": [
    {
     "data": {
      "image/png": "[encoded data removed]",
      "text/plain": [
       "<Figure size 864x504 with 1 Axes>"
      ]
     },
     "metadata": {
      "needs_background": "light"
     },
     "output_type": "display_data"
    }
   ],
   "source": [
    "plt.figure(figsize=(12,7))\n",
    "color_class_plt = sns.countplot(x = 'cap-color', data = data, hue = 'class', order = data['cap-color'].value_counts().index, saturation = 0.5).set(title = \"Mushroom Cap Color vs. Edibility\")"
   ]
  },
  {
   "cell_type": "code",
   "execution_count": 7,
   "id": "c48ff5a9",
   "metadata": {},
   "outputs": [
    {
     "data": {
      "image/png": "[encoded data removed]",
      "text/plain": [
       "<Figure size 864x504 with 1 Axes>"
      ]
     },
     "metadata": {
      "needs_background": "light"
     },
     "output_type": "display_data"
    }
   ],
   "source": [
    "plt.figure(figsize=(12,7))\n",
    "odor_class_plt = sns.countplot(x = 'odor', data = data, hue = 'class', order = data['odor'].value_counts().index, saturation = 0.5).set(title = \"Mushroom Odor vs. Edibility\")"
   ]
  },
  {
   "cell_type": "code",
   "execution_count": 8,
   "id": "b210f351",
   "metadata": {},
   "outputs": [
    {
     "data": {
      "image/png": "[encoded data removed]",
      "text/plain": [
       "<Figure size 864x504 with 1 Axes>"
      ]
     },
     "metadata": {
      "needs_background": "light"
     },
     "output_type": "display_data"
    }
   ],
   "source": [
    "plt.figure(figsize=(12,7))\n",
    "odor_class_plt = sns.countplot(x = 'habitat', data = data, hue = 'class', order = data['habitat'].value_counts().index, saturation = 0.5).set(title = \"Mushroom Habitat vs. Edibility\")"
   ]
  },
  {
   "cell_type": "code",
   "execution_count": 9,
   "id": "dda3f5a2",
   "metadata": {
    "scrolled": false
   },
   "outputs": [
    {
     "data": {
      "image/png": "[encoded data removed]",
      "text/plain": [
       "<Figure size 864x504 with 1 Axes>"
      ]
     },
     "metadata": {
      "needs_background": "light"
     },
     "output_type": "display_data"
    }
   ],
   "source": [
    "plt.figure(figsize=(12,7))\n",
    "odor_class_plt = sns.countplot(x = 'population', data = data, hue = 'class', order = data['population'].value_counts().index, saturation = 0.5).set(title = \"Mushroom Population vs. Edibility\")"
   ]
  },
  {
   "cell_type": "code",
   "execution_count": 10,
   "id": "6be71b21",
   "metadata": {},
   "outputs": [],
   "source": [
    "# Turn data from categorical to numerical data for model training. \n",
    "from sklearn.preprocessing import LabelEncoder\n",
    "label_encoder = LabelEncoder()\n",
    "for col in data.columns:\n",
    "    data[col] = label_encoder.fit_transform(data[col])\n",
    "data\n",
    "x = data.drop('class', axis = 1)\n",
    "y = data[\"class\"].values"
   ]
  },
  {
   "cell_type": "code",
   "execution_count": 17,
   "id": "ae2ac131",
   "metadata": {},
   "outputs": [
    {
     "name": "stdout",
     "output_type": "stream",
     "text": [
      "2031\n",
      "2031\n"
     ]
    }
   ],
   "source": [
    "# Split data to prepare for training with models\n",
    "from sklearn.model_selection import train_test_split\n",
    "X_train, X_test, y_train, y_test = train_test_split(x, y, test_size = 0.25, random_state= 100)\n",
    "print(len(X_test))\n",
    "print(len(y_test))"
   ]
  },
  {
   "cell_type": "code",
   "execution_count": 18,
   "id": "d2ff4b09",
   "metadata": {},
   "outputs": [
    {
     "name": "stdout",
     "output_type": "stream",
     "text": [
      "2031\n"
     ]
    }
   ],
   "source": [
    "# After splitting our datasets, we must scale the data in accordance to the training data to keep training consistent \n",
    "from sklearn.preprocessing import MinMaxScaler\n",
    "\n",
    "scaled = MinMaxScaler()\n",
    "scaled.fit(X_train)\n",
    "\n",
    "X_train = scaled.transform(X_train)\n",
    "X_test = scaled.transform(X_test)\n",
    "print(len(X_test))"
   ]
  },
  {
   "cell_type": "code",
   "execution_count": 19,
   "id": "be595040",
   "metadata": {},
   "outputs": [],
   "source": [
    "# Now that our data has successfully been scaled, we can now begin training ML models to our data. "
   ]
  },
  {
   "cell_type": "code",
   "execution_count": 30,
   "id": "413e8e12",
   "metadata": {},
   "outputs": [
    {
     "data": {
      "text/plain": [
       "RandomForestClassifier(n_estimators=600)"
      ]
     },
     "execution_count": 30,
     "metadata": {},
     "output_type": "execute_result"
    }
   ],
   "source": [
    "# MODEL 1: DECISION TREES AND RANDOM FORESTS\n",
    "from sklearn.ensemble import RandomForestClassifier\n",
    "rfc = RandomForestClassifier(n_estimators=600)\n",
    "rfc.fit(X_train,y_train)"
   ]
  },
  {
   "cell_type": "code",
   "execution_count": 31,
   "id": "9aff6e4c",
   "metadata": {},
   "outputs": [],
   "source": [
    "predictions = rfc.predict(X_test)"
   ]
  },
  {
   "cell_type": "code",
   "execution_count": 32,
   "id": "4ab62bed",
   "metadata": {},
   "outputs": [
    {
     "name": "stdout",
     "output_type": "stream",
     "text": [
      "              precision    recall  f1-score   support\n",
      "\n",
      "           0       1.00      1.00      1.00      1044\n",
      "           1       1.00      1.00      1.00       987\n",
      "\n",
      "    accuracy                           1.00      2031\n",
      "   macro avg       1.00      1.00      1.00      2031\n",
      "weighted avg       1.00      1.00      1.00      2031\n",
      "\n",
      "[[1044    0]\n",
      " [   0  987]]\n"
     ]
    }
   ],
   "source": [
    "# Performance Analysis\n",
    "from sklearn.metrics import classification_report,confusion_matrix\n",
    "print(classification_report(y_test,predictions))\n",
    "print(confusion_matrix(y_test, predictions))"
   ]
  },
  {
   "cell_type": "code",
   "execution_count": 41,
   "id": "a8b7586f",
   "metadata": {},
   "outputs": [],
   "source": [
    "#MODEL 2: ANN VIA KERAS\n",
    "import tensorflow as tf\n",
    "from tensorflow.keras.models import Sequential\n",
    "from tensorflow.keras.layers import Dense, Activation,Dropout\n",
    "from tensorflow.keras.layers import Dropout\n",
    "from tensorflow.keras.callbacks import EarlyStopping"
   ]
  },
  {
   "cell_type": "code",
   "execution_count": 42,
   "id": "41d3a09c",
   "metadata": {},
   "outputs": [],
   "source": [
    "early_stop = EarlyStopping(monitor='val_loss', mode='min', verbose=1, patience=25)"
   ]
  },
  {
   "cell_type": "code",
   "execution_count": 61,
   "id": "71735ffc",
   "metadata": {},
   "outputs": [],
   "source": [
    "model = Sequential()\n",
    "\n",
    "model.add(Dense(units=22,activation='relu'))\n",
    "model.add(Dropout(0.5))\n",
    "\n",
    "model.add(Dense(units=11,activation='relu'))\n",
    "model.add(Dropout(0.5))\n",
    "\n",
    "model.add(Dense(units=1,activation='sigmoid'))\n",
    "model.compile(loss='binary_crossentropy', optimizer='adam', metrics = ['accuracy'])"
   ]
  },
  {
   "cell_type": "code",
   "execution_count": 62,
   "id": "729f1620",
   "metadata": {},
   "outputs": [
    {
     "name": "stdout",
     "output_type": "stream",
     "text": [
      "Epoch 1/600\n",
      "191/191 [==============================] - 1s 1ms/step - loss: 0.6039 - accuracy: 0.6763 - val_loss: 0.4119 - val_accuracy: 0.8976\n",
      "Epoch 2/600\n",
      "191/191 [==============================] - 0s 961us/step - loss: 0.3892 - accuracy: 0.8449 - val_loss: 0.2094 - val_accuracy: 0.9330\n",
      "Epoch 3/600\n",
      "191/191 [==============================] - 0s 940us/step - loss: 0.2817 - accuracy: 0.8927 - val_loss: 0.1449 - val_accuracy: 0.9488\n",
      "Epoch 4/600\n",
      "191/191 [==============================] - 0s 953us/step - loss: 0.2263 - accuracy: 0.9188 - val_loss: 0.1113 - val_accuracy: 0.9567\n",
      "Epoch 5/600\n",
      "191/191 [==============================] - 0s 1ms/step - loss: 0.2034 - accuracy: 0.9283 - val_loss: 0.0900 - val_accuracy: 0.9685\n",
      "Epoch 6/600\n",
      "191/191 [==============================] - 0s 966us/step - loss: 0.1738 - accuracy: 0.9363 - val_loss: 0.0700 - val_accuracy: 0.9749\n",
      "Epoch 7/600\n",
      "191/191 [==============================] - 0s 950us/step - loss: 0.1447 - accuracy: 0.9491 - val_loss: 0.0582 - val_accuracy: 0.9778\n",
      "Epoch 8/600\n",
      "191/191 [==============================] - 0s 924us/step - loss: 0.1325 - accuracy: 0.9540 - val_loss: 0.0461 - val_accuracy: 0.9867\n",
      "Epoch 9/600\n",
      "191/191 [==============================] - 0s 945us/step - loss: 0.1223 - accuracy: 0.9573 - val_loss: 0.0393 - val_accuracy: 0.9882\n",
      "Epoch 10/600\n",
      "191/191 [==============================] - 0s 945us/step - loss: 0.1068 - accuracy: 0.9618 - val_loss: 0.0335 - val_accuracy: 0.9897\n",
      "Epoch 11/600\n",
      "191/191 [==============================] - 0s 926us/step - loss: 0.1037 - accuracy: 0.9629 - val_loss: 0.0290 - val_accuracy: 0.9921\n",
      "Epoch 12/600\n",
      "191/191 [==============================] - 0s 924us/step - loss: 0.0990 - accuracy: 0.9637 - val_loss: 0.0275 - val_accuracy: 0.9921\n",
      "Epoch 13/600\n",
      "191/191 [==============================] - 0s 940us/step - loss: 0.0931 - accuracy: 0.9654 - val_loss: 0.0237 - val_accuracy: 0.9936\n",
      "Epoch 14/600\n",
      "191/191 [==============================] - 0s 916us/step - loss: 0.0828 - accuracy: 0.9695 - val_loss: 0.0216 - val_accuracy: 0.9916\n",
      "Epoch 15/600\n",
      "191/191 [==============================] - 0s 940us/step - loss: 0.0774 - accuracy: 0.9706 - val_loss: 0.0186 - val_accuracy: 0.9921\n",
      "Epoch 16/600\n",
      "191/191 [==============================] - 0s 924us/step - loss: 0.0668 - accuracy: 0.9774 - val_loss: 0.0168 - val_accuracy: 0.9936\n",
      "Epoch 17/600\n",
      "191/191 [==============================] - 0s 934us/step - loss: 0.0707 - accuracy: 0.9739 - val_loss: 0.0157 - val_accuracy: 0.9970\n",
      "Epoch 18/600\n",
      "191/191 [==============================] - 0s 934us/step - loss: 0.0669 - accuracy: 0.9736 - val_loss: 0.0137 - val_accuracy: 0.9961\n",
      "Epoch 19/600\n",
      "191/191 [==============================] - 0s 937us/step - loss: 0.0612 - accuracy: 0.9795 - val_loss: 0.0130 - val_accuracy: 0.9980\n",
      "Epoch 20/600\n",
      "191/191 [==============================] - 0s 934us/step - loss: 0.0614 - accuracy: 0.9783 - val_loss: 0.0111 - val_accuracy: 0.9990\n",
      "Epoch 21/600\n",
      "191/191 [==============================] - 0s 924us/step - loss: 0.0558 - accuracy: 0.9801 - val_loss: 0.0111 - val_accuracy: 0.9975\n",
      "Epoch 22/600\n",
      "191/191 [==============================] - 0s 929us/step - loss: 0.0562 - accuracy: 0.9796 - val_loss: 0.0101 - val_accuracy: 0.9990\n",
      "Epoch 23/600\n",
      "191/191 [==============================] - 0s 932us/step - loss: 0.0580 - accuracy: 0.9782 - val_loss: 0.0083 - val_accuracy: 0.9990\n",
      "Epoch 24/600\n",
      "191/191 [==============================] - 0s 950us/step - loss: 0.0546 - accuracy: 0.9800 - val_loss: 0.0095 - val_accuracy: 0.9985\n",
      "Epoch 25/600\n",
      "191/191 [==============================] - 0s 940us/step - loss: 0.0468 - accuracy: 0.9823 - val_loss: 0.0107 - val_accuracy: 0.9946\n",
      "Epoch 26/600\n",
      "191/191 [==============================] - 0s 961us/step - loss: 0.0498 - accuracy: 0.9819 - val_loss: 0.0071 - val_accuracy: 0.9990\n",
      "Epoch 27/600\n",
      "191/191 [==============================] - 0s 945us/step - loss: 0.0493 - accuracy: 0.9790 - val_loss: 0.0070 - val_accuracy: 0.9990\n",
      "Epoch 28/600\n",
      "191/191 [==============================] - 0s 942us/step - loss: 0.0505 - accuracy: 0.9801 - val_loss: 0.0063 - val_accuracy: 1.0000\n",
      "Epoch 29/600\n",
      "191/191 [==============================] - 0s 937us/step - loss: 0.0479 - accuracy: 0.9808 - val_loss: 0.0063 - val_accuracy: 0.9990\n",
      "Epoch 30/600\n",
      "191/191 [==============================] - 0s 955us/step - loss: 0.0513 - accuracy: 0.9782 - val_loss: 0.0069 - val_accuracy: 0.9980\n",
      "Epoch 31/600\n",
      "191/191 [==============================] - 0s 934us/step - loss: 0.0478 - accuracy: 0.9803 - val_loss: 0.0070 - val_accuracy: 0.9995\n",
      "Epoch 32/600\n",
      "191/191 [==============================] - 0s 940us/step - loss: 0.0477 - accuracy: 0.9810 - val_loss: 0.0065 - val_accuracy: 0.9995\n",
      "Epoch 33/600\n",
      "191/191 [==============================] - 0s 945us/step - loss: 0.0464 - accuracy: 0.9798 - val_loss: 0.0056 - val_accuracy: 0.9995\n",
      "Epoch 34/600\n",
      "191/191 [==============================] - 0s 929us/step - loss: 0.0422 - accuracy: 0.9829 - val_loss: 0.0046 - val_accuracy: 1.0000\n",
      "Epoch 35/600\n",
      "191/191 [==============================] - 0s 921us/step - loss: 0.0462 - accuracy: 0.9798 - val_loss: 0.0047 - val_accuracy: 0.9990\n",
      "Epoch 36/600\n",
      "191/191 [==============================] - 0s 932us/step - loss: 0.0391 - accuracy: 0.9839 - val_loss: 0.0040 - val_accuracy: 0.9995\n",
      "Epoch 37/600\n",
      "191/191 [==============================] - 0s 929us/step - loss: 0.0452 - accuracy: 0.9816 - val_loss: 0.0049 - val_accuracy: 0.9995\n",
      "Epoch 38/600\n",
      "191/191 [==============================] - 0s 942us/step - loss: 0.0432 - accuracy: 0.9834 - val_loss: 0.0043 - val_accuracy: 0.9995\n",
      "Epoch 39/600\n",
      "191/191 [==============================] - 0s 924us/step - loss: 0.0458 - accuracy: 0.9818 - val_loss: 0.0039 - val_accuracy: 0.9995\n",
      "Epoch 40/600\n",
      "191/191 [==============================] - 0s 932us/step - loss: 0.0428 - accuracy: 0.9831 - val_loss: 0.0035 - val_accuracy: 1.0000\n",
      "Epoch 41/600\n",
      "191/191 [==============================] - 0s 932us/step - loss: 0.0394 - accuracy: 0.9854 - val_loss: 0.0035 - val_accuracy: 1.0000\n",
      "Epoch 42/600\n",
      "191/191 [==============================] - 0s 926us/step - loss: 0.0465 - accuracy: 0.9793 - val_loss: 0.0033 - val_accuracy: 0.9995\n",
      "Epoch 43/600\n",
      "191/191 [==============================] - 0s 926us/step - loss: 0.0431 - accuracy: 0.9806 - val_loss: 0.0047 - val_accuracy: 1.0000\n",
      "Epoch 44/600\n",
      "191/191 [==============================] - 0s 934us/step - loss: 0.0455 - accuracy: 0.9828 - val_loss: 0.0032 - val_accuracy: 0.9995\n",
      "Epoch 45/600\n",
      "191/191 [==============================] - 0s 916us/step - loss: 0.0432 - accuracy: 0.9816 - val_loss: 0.0026 - val_accuracy: 1.0000\n",
      "Epoch 46/600\n",
      "191/191 [==============================] - 0s 934us/step - loss: 0.0454 - accuracy: 0.9798 - val_loss: 0.0041 - val_accuracy: 0.9995\n",
      "Epoch 47/600\n",
      "191/191 [==============================] - 0s 940us/step - loss: 0.0401 - accuracy: 0.9841 - val_loss: 0.0029 - val_accuracy: 1.0000\n",
      "Epoch 48/600\n",
      "191/191 [==============================] - 0s 926us/step - loss: 0.0340 - accuracy: 0.9859 - val_loss: 0.0026 - val_accuracy: 1.0000\n",
      "Epoch 49/600\n",
      "191/191 [==============================] - 0s 950us/step - loss: 0.0385 - accuracy: 0.9846 - val_loss: 0.0019 - val_accuracy: 1.0000\n",
      "Epoch 50/600\n",
      "191/191 [==============================] - 0s 926us/step - loss: 0.0338 - accuracy: 0.9862 - val_loss: 0.0022 - val_accuracy: 1.0000\n",
      "Epoch 51/600\n",
      "191/191 [==============================] - 0s 913us/step - loss: 0.0380 - accuracy: 0.9839 - val_loss: 0.0026 - val_accuracy: 0.9995\n",
      "Epoch 52/600\n",
      "191/191 [==============================] - 0s 908us/step - loss: 0.0345 - accuracy: 0.9870 - val_loss: 0.0024 - val_accuracy: 1.0000\n",
      "Epoch 53/600\n",
      "191/191 [==============================] - 0s 963us/step - loss: 0.0420 - accuracy: 0.9819 - val_loss: 0.0018 - val_accuracy: 1.0000\n",
      "Epoch 54/600\n",
      "191/191 [==============================] - 0s 942us/step - loss: 0.0351 - accuracy: 0.9854 - val_loss: 0.0020 - val_accuracy: 1.0000\n",
      "Epoch 55/600\n",
      "191/191 [==============================] - 0s 929us/step - loss: 0.0364 - accuracy: 0.9869 - val_loss: 0.0014 - val_accuracy: 1.0000\n",
      "Epoch 56/600\n",
      "191/191 [==============================] - 0s 929us/step - loss: 0.0327 - accuracy: 0.9874 - val_loss: 0.0023 - val_accuracy: 0.9995\n",
      "Epoch 57/600\n"
     ]
    },
    {
     "name": "stdout",
     "output_type": "stream",
     "text": [
      "191/191 [==============================] - 0s 932us/step - loss: 0.0349 - accuracy: 0.9847 - val_loss: 0.0022 - val_accuracy: 0.9995\n",
      "Epoch 58/600\n",
      "191/191 [==============================] - 0s 932us/step - loss: 0.0386 - accuracy: 0.9831 - val_loss: 0.0017 - val_accuracy: 1.0000\n",
      "Epoch 59/600\n",
      "191/191 [==============================] - 0s 942us/step - loss: 0.0361 - accuracy: 0.9847 - val_loss: 0.0020 - val_accuracy: 1.0000\n",
      "Epoch 60/600\n",
      "191/191 [==============================] - 0s 934us/step - loss: 0.0415 - accuracy: 0.9831 - val_loss: 0.0021 - val_accuracy: 1.0000\n",
      "Epoch 61/600\n",
      "191/191 [==============================] - 0s 937us/step - loss: 0.0347 - accuracy: 0.9869 - val_loss: 0.0019 - val_accuracy: 1.0000\n",
      "Epoch 62/600\n",
      "191/191 [==============================] - 0s 934us/step - loss: 0.0384 - accuracy: 0.9821 - val_loss: 0.0014 - val_accuracy: 1.0000\n",
      "Epoch 63/600\n",
      "191/191 [==============================] - 0s 945us/step - loss: 0.0346 - accuracy: 0.9860 - val_loss: 0.0013 - val_accuracy: 1.0000\n",
      "Epoch 64/600\n",
      "191/191 [==============================] - 0s 932us/step - loss: 0.0386 - accuracy: 0.9842 - val_loss: 0.0019 - val_accuracy: 0.9995\n",
      "Epoch 65/600\n",
      "191/191 [==============================] - 0s 932us/step - loss: 0.0357 - accuracy: 0.9841 - val_loss: 0.0013 - val_accuracy: 1.0000\n",
      "Epoch 66/600\n",
      "191/191 [==============================] - 0s 940us/step - loss: 0.0353 - accuracy: 0.9856 - val_loss: 9.3525e-04 - val_accuracy: 1.0000\n",
      "Epoch 67/600\n",
      "191/191 [==============================] - 0s 929us/step - loss: 0.0367 - accuracy: 0.9844 - val_loss: 0.0023 - val_accuracy: 1.0000\n",
      "Epoch 68/600\n",
      "191/191 [==============================] - 0s 950us/step - loss: 0.0372 - accuracy: 0.9838 - val_loss: 9.6938e-04 - val_accuracy: 1.0000\n",
      "Epoch 69/600\n",
      "191/191 [==============================] - 0s 942us/step - loss: 0.0326 - accuracy: 0.9874 - val_loss: 0.0018 - val_accuracy: 1.0000\n",
      "Epoch 70/600\n",
      "191/191 [==============================] - 0s 948us/step - loss: 0.0363 - accuracy: 0.9851 - val_loss: 0.0013 - val_accuracy: 1.0000\n",
      "Epoch 71/600\n",
      "191/191 [==============================] - 0s 940us/step - loss: 0.0410 - accuracy: 0.9836 - val_loss: 0.0013 - val_accuracy: 1.0000\n",
      "Epoch 72/600\n",
      "191/191 [==============================] - 0s 929us/step - loss: 0.0363 - accuracy: 0.9839 - val_loss: 0.0012 - val_accuracy: 1.0000\n",
      "Epoch 73/600\n",
      "191/191 [==============================] - 0s 950us/step - loss: 0.0343 - accuracy: 0.9852 - val_loss: 8.7381e-04 - val_accuracy: 1.0000\n",
      "Epoch 74/600\n",
      "191/191 [==============================] - 0s 942us/step - loss: 0.0391 - accuracy: 0.9828 - val_loss: 0.0012 - val_accuracy: 1.0000\n",
      "Epoch 75/600\n",
      "191/191 [==============================] - 0s 945us/step - loss: 0.0347 - accuracy: 0.9869 - val_loss: 0.0013 - val_accuracy: 1.0000\n",
      "Epoch 76/600\n",
      "191/191 [==============================] - 0s 937us/step - loss: 0.0331 - accuracy: 0.9860 - val_loss: 5.7454e-04 - val_accuracy: 1.0000\n",
      "Epoch 77/600\n",
      "191/191 [==============================] - 0s 932us/step - loss: 0.0364 - accuracy: 0.9851 - val_loss: 0.0011 - val_accuracy: 1.0000\n",
      "Epoch 78/600\n",
      "191/191 [==============================] - 0s 929us/step - loss: 0.0345 - accuracy: 0.9854 - val_loss: 0.0013 - val_accuracy: 1.0000\n",
      "Epoch 79/600\n",
      "191/191 [==============================] - 0s 948us/step - loss: 0.0329 - accuracy: 0.9859 - val_loss: 0.0016 - val_accuracy: 1.0000\n",
      "Epoch 80/600\n",
      "191/191 [==============================] - 0s 934us/step - loss: 0.0348 - accuracy: 0.9849 - val_loss: 0.0013 - val_accuracy: 1.0000\n",
      "Epoch 81/600\n",
      "191/191 [==============================] - 0s 942us/step - loss: 0.0341 - accuracy: 0.9851 - val_loss: 0.0017 - val_accuracy: 0.9995\n",
      "Epoch 82/600\n",
      "191/191 [==============================] - 0s 945us/step - loss: 0.0353 - accuracy: 0.9833 - val_loss: 0.0011 - val_accuracy: 1.0000\n",
      "Epoch 83/600\n",
      "191/191 [==============================] - 0s 924us/step - loss: 0.0359 - accuracy: 0.9849 - val_loss: 0.0016 - val_accuracy: 1.0000\n",
      "Epoch 84/600\n",
      "191/191 [==============================] - 0s 926us/step - loss: 0.0349 - accuracy: 0.9862 - val_loss: 9.7981e-04 - val_accuracy: 1.0000\n",
      "Epoch 85/600\n",
      "191/191 [==============================] - 0s 961us/step - loss: 0.0348 - accuracy: 0.9833 - val_loss: 8.8937e-04 - val_accuracy: 1.0000\n",
      "Epoch 86/600\n",
      "191/191 [==============================] - 0s 950us/step - loss: 0.0347 - accuracy: 0.9849 - val_loss: 0.0016 - val_accuracy: 1.0000\n",
      "Epoch 87/600\n",
      "191/191 [==============================] - 0s 932us/step - loss: 0.0340 - accuracy: 0.9862 - val_loss: 0.0019 - val_accuracy: 0.9990\n",
      "Epoch 88/600\n",
      "191/191 [==============================] - 0s 961us/step - loss: 0.0386 - accuracy: 0.9839 - val_loss: 8.4425e-04 - val_accuracy: 1.0000\n",
      "Epoch 89/600\n",
      "191/191 [==============================] - 0s 948us/step - loss: 0.0346 - accuracy: 0.9854 - val_loss: 0.0012 - val_accuracy: 1.0000\n",
      "Epoch 90/600\n",
      "191/191 [==============================] - 0s 924us/step - loss: 0.0347 - accuracy: 0.9856 - val_loss: 0.0020 - val_accuracy: 0.9995\n",
      "Epoch 91/600\n",
      "191/191 [==============================] - 0s 919us/step - loss: 0.0345 - accuracy: 0.9842 - val_loss: 0.0017 - val_accuracy: 1.0000\n",
      "Epoch 92/600\n",
      "191/191 [==============================] - 0s 926us/step - loss: 0.0338 - accuracy: 0.9841 - val_loss: 0.0018 - val_accuracy: 1.0000\n",
      "Epoch 93/600\n",
      "191/191 [==============================] - 0s 940us/step - loss: 0.0388 - accuracy: 0.9826 - val_loss: 8.4013e-04 - val_accuracy: 1.0000\n",
      "Epoch 94/600\n",
      "191/191 [==============================] - 0s 955us/step - loss: 0.0298 - accuracy: 0.9879 - val_loss: 5.4709e-04 - val_accuracy: 1.0000\n",
      "Epoch 95/600\n",
      "191/191 [==============================] - 0s 913us/step - loss: 0.0357 - accuracy: 0.9833 - val_loss: 5.8688e-04 - val_accuracy: 1.0000\n",
      "Epoch 96/600\n",
      "191/191 [==============================] - 0s 979us/step - loss: 0.0361 - accuracy: 0.9847 - val_loss: 0.0012 - val_accuracy: 1.0000\n",
      "Epoch 97/600\n",
      "191/191 [==============================] - 0s 926us/step - loss: 0.0307 - accuracy: 0.9870 - val_loss: 3.6691e-04 - val_accuracy: 1.0000\n",
      "Epoch 98/600\n",
      "191/191 [==============================] - 0s 932us/step - loss: 0.0386 - accuracy: 0.9813 - val_loss: 6.6628e-04 - val_accuracy: 1.0000\n",
      "Epoch 99/600\n",
      "191/191 [==============================] - 0s 937us/step - loss: 0.0372 - accuracy: 0.9841 - val_loss: 0.0014 - val_accuracy: 1.0000\n",
      "Epoch 100/600\n",
      "191/191 [==============================] - 0s 932us/step - loss: 0.0317 - accuracy: 0.9857 - val_loss: 5.6520e-04 - val_accuracy: 1.0000\n",
      "Epoch 101/600\n",
      "191/191 [==============================] - 0s 942us/step - loss: 0.0330 - accuracy: 0.9857 - val_loss: 9.5911e-04 - val_accuracy: 1.0000\n",
      "Epoch 102/600\n",
      "191/191 [==============================] - 0s 921us/step - loss: 0.0369 - accuracy: 0.9833 - val_loss: 8.5200e-04 - val_accuracy: 1.0000\n",
      "Epoch 103/600\n",
      "191/191 [==============================] - 0s 929us/step - loss: 0.0357 - accuracy: 0.9828 - val_loss: 0.0021 - val_accuracy: 0.9990\n",
      "Epoch 104/600\n",
      "191/191 [==============================] - 0s 926us/step - loss: 0.0402 - accuracy: 0.9806 - val_loss: 5.3352e-04 - val_accuracy: 1.0000\n",
      "Epoch 105/600\n",
      "191/191 [==============================] - 0s 932us/step - loss: 0.0387 - accuracy: 0.9819 - val_loss: 9.9022e-04 - val_accuracy: 1.0000\n",
      "Epoch 106/600\n",
      "191/191 [==============================] - 0s 924us/step - loss: 0.0356 - accuracy: 0.9836 - val_loss: 7.0265e-04 - val_accuracy: 1.0000\n",
      "Epoch 107/600\n",
      "191/191 [==============================] - 0s 932us/step - loss: 0.0324 - accuracy: 0.9867 - val_loss: 3.2040e-04 - val_accuracy: 1.0000\n",
      "Epoch 108/600\n",
      "191/191 [==============================] - 0s 932us/step - loss: 0.0397 - accuracy: 0.9826 - val_loss: 0.0012 - val_accuracy: 1.0000\n",
      "Epoch 109/600\n",
      "191/191 [==============================] - 0s 942us/step - loss: 0.0356 - accuracy: 0.9836 - val_loss: 8.2008e-04 - val_accuracy: 1.0000\n",
      "Epoch 110/600\n",
      "191/191 [==============================] - 0s 929us/step - loss: 0.0321 - accuracy: 0.9847 - val_loss: 4.0525e-04 - val_accuracy: 1.0000\n",
      "Epoch 111/600\n",
      "191/191 [==============================] - 0s 932us/step - loss: 0.0366 - accuracy: 0.9831 - val_loss: 8.4142e-04 - val_accuracy: 1.0000\n",
      "Epoch 112/600\n"
     ]
    },
    {
     "name": "stdout",
     "output_type": "stream",
     "text": [
      "191/191 [==============================] - 0s 932us/step - loss: 0.0327 - accuracy: 0.9859 - val_loss: 0.0013 - val_accuracy: 1.0000\n",
      "Epoch 113/600\n",
      "191/191 [==============================] - 0s 953us/step - loss: 0.0341 - accuracy: 0.9844 - val_loss: 9.5729e-04 - val_accuracy: 1.0000\n",
      "Epoch 114/600\n",
      "191/191 [==============================] - 0s 937us/step - loss: 0.0368 - accuracy: 0.9819 - val_loss: 5.6174e-04 - val_accuracy: 1.0000\n",
      "Epoch 115/600\n",
      "191/191 [==============================] - 0s 940us/step - loss: 0.0357 - accuracy: 0.9838 - val_loss: 7.6811e-04 - val_accuracy: 1.0000\n",
      "Epoch 116/600\n",
      "191/191 [==============================] - 0s 937us/step - loss: 0.0314 - accuracy: 0.9875 - val_loss: 5.3646e-04 - val_accuracy: 1.0000\n",
      "Epoch 117/600\n",
      "191/191 [==============================] - 0s 945us/step - loss: 0.0364 - accuracy: 0.9854 - val_loss: 0.0014 - val_accuracy: 1.0000\n",
      "Epoch 118/600\n",
      "191/191 [==============================] - 0s 948us/step - loss: 0.0335 - accuracy: 0.9854 - val_loss: 7.2054e-04 - val_accuracy: 1.0000\n",
      "Epoch 119/600\n",
      "191/191 [==============================] - 0s 937us/step - loss: 0.0344 - accuracy: 0.9836 - val_loss: 4.5026e-04 - val_accuracy: 1.0000\n",
      "Epoch 120/600\n",
      "191/191 [==============================] - 0s 924us/step - loss: 0.0347 - accuracy: 0.9847 - val_loss: 5.9804e-04 - val_accuracy: 1.0000\n",
      "Epoch 121/600\n",
      "191/191 [==============================] - 0s 1ms/step - loss: 0.0302 - accuracy: 0.9875 - val_loss: 8.0345e-04 - val_accuracy: 1.0000\n",
      "Epoch 122/600\n",
      "191/191 [==============================] - 0s 940us/step - loss: 0.0359 - accuracy: 0.9860 - val_loss: 5.6263e-04 - val_accuracy: 1.0000\n",
      "Epoch 123/600\n",
      "191/191 [==============================] - 0s 932us/step - loss: 0.0330 - accuracy: 0.9859 - val_loss: 2.7927e-04 - val_accuracy: 1.0000\n",
      "Epoch 124/600\n",
      "191/191 [==============================] - 0s 932us/step - loss: 0.0340 - accuracy: 0.9846 - val_loss: 6.0746e-04 - val_accuracy: 1.0000\n",
      "Epoch 125/600\n",
      "191/191 [==============================] - 0s 948us/step - loss: 0.0363 - accuracy: 0.9839 - val_loss: 9.6526e-04 - val_accuracy: 1.0000\n",
      "Epoch 126/600\n",
      "191/191 [==============================] - 0s 924us/step - loss: 0.0309 - accuracy: 0.9874 - val_loss: 6.1245e-04 - val_accuracy: 1.0000\n",
      "Epoch 127/600\n",
      "191/191 [==============================] - 0s 937us/step - loss: 0.0395 - accuracy: 0.9824 - val_loss: 3.7321e-04 - val_accuracy: 1.0000\n",
      "Epoch 128/600\n",
      "191/191 [==============================] - 0s 942us/step - loss: 0.0321 - accuracy: 0.9862 - val_loss: 6.0338e-04 - val_accuracy: 1.0000\n",
      "Epoch 129/600\n",
      "191/191 [==============================] - 0s 961us/step - loss: 0.0349 - accuracy: 0.9826 - val_loss: 6.8589e-04 - val_accuracy: 1.0000\n",
      "Epoch 130/600\n",
      "191/191 [==============================] - 0s 958us/step - loss: 0.0335 - accuracy: 0.9849 - val_loss: 2.1974e-04 - val_accuracy: 1.0000\n",
      "Epoch 131/600\n",
      "191/191 [==============================] - 0s 955us/step - loss: 0.0342 - accuracy: 0.9838 - val_loss: 1.1685e-04 - val_accuracy: 1.0000\n",
      "Epoch 132/600\n",
      "191/191 [==============================] - 0s 1ms/step - loss: 0.0273 - accuracy: 0.9888 - val_loss: 7.2164e-04 - val_accuracy: 1.0000\n",
      "Epoch 133/600\n",
      "191/191 [==============================] - 0s 974us/step - loss: 0.0301 - accuracy: 0.9862 - val_loss: 4.6857e-04 - val_accuracy: 1.0000\n",
      "Epoch 134/600\n",
      "191/191 [==============================] - 0s 961us/step - loss: 0.0300 - accuracy: 0.9874 - val_loss: 2.4084e-04 - val_accuracy: 1.0000\n",
      "Epoch 135/600\n",
      "191/191 [==============================] - 0s 958us/step - loss: 0.0350 - accuracy: 0.9838 - val_loss: 6.3296e-04 - val_accuracy: 1.0000\n",
      "Epoch 136/600\n",
      "191/191 [==============================] - 0s 961us/step - loss: 0.0316 - accuracy: 0.9869 - val_loss: 2.1873e-04 - val_accuracy: 1.0000\n",
      "Epoch 137/600\n",
      "191/191 [==============================] - 0s 971us/step - loss: 0.0294 - accuracy: 0.9877 - val_loss: 5.0692e-04 - val_accuracy: 1.0000\n",
      "Epoch 138/600\n",
      "191/191 [==============================] - 0s 979us/step - loss: 0.0356 - accuracy: 0.9838 - val_loss: 5.9689e-04 - val_accuracy: 1.0000\n",
      "Epoch 139/600\n",
      "191/191 [==============================] - 0s 984us/step - loss: 0.0343 - accuracy: 0.9865 - val_loss: 0.0011 - val_accuracy: 1.0000\n",
      "Epoch 140/600\n",
      "191/191 [==============================] - 0s 966us/step - loss: 0.0337 - accuracy: 0.9846 - val_loss: 8.1520e-04 - val_accuracy: 1.0000\n",
      "Epoch 141/600\n",
      "191/191 [==============================] - 0s 969us/step - loss: 0.0369 - accuracy: 0.9834 - val_loss: 7.8485e-04 - val_accuracy: 1.0000\n",
      "Epoch 142/600\n",
      "191/191 [==============================] - 0s 966us/step - loss: 0.0291 - accuracy: 0.9874 - val_loss: 2.4856e-04 - val_accuracy: 1.0000\n",
      "Epoch 143/600\n",
      "191/191 [==============================] - 0s 926us/step - loss: 0.0315 - accuracy: 0.9862 - val_loss: 4.6707e-04 - val_accuracy: 1.0000\n",
      "Epoch 144/600\n",
      "191/191 [==============================] - 0s 932us/step - loss: 0.0363 - accuracy: 0.9826 - val_loss: 5.6995e-04 - val_accuracy: 1.0000\n",
      "Epoch 145/600\n",
      "191/191 [==============================] - 0s 992us/step - loss: 0.0341 - accuracy: 0.9849 - val_loss: 3.8796e-04 - val_accuracy: 1.0000\n",
      "Epoch 146/600\n",
      "191/191 [==============================] - 0s 963us/step - loss: 0.0357 - accuracy: 0.9859 - val_loss: 0.0013 - val_accuracy: 1.0000\n",
      "Epoch 147/600\n",
      "191/191 [==============================] - 0s 948us/step - loss: 0.0318 - accuracy: 0.9869 - val_loss: 0.0012 - val_accuracy: 1.0000\n",
      "Epoch 148/600\n",
      "191/191 [==============================] - 0s 955us/step - loss: 0.0363 - accuracy: 0.9833 - val_loss: 1.1072e-04 - val_accuracy: 1.0000\n",
      "Epoch 149/600\n",
      "191/191 [==============================] - 0s 926us/step - loss: 0.0318 - accuracy: 0.9856 - val_loss: 8.4578e-04 - val_accuracy: 1.0000\n",
      "Epoch 150/600\n",
      "191/191 [==============================] - 0s 940us/step - loss: 0.0338 - accuracy: 0.9849 - val_loss: 0.0011 - val_accuracy: 1.0000\n",
      "Epoch 151/600\n",
      "191/191 [==============================] - 0s 937us/step - loss: 0.0304 - accuracy: 0.9874 - val_loss: 7.7714e-04 - val_accuracy: 1.0000\n",
      "Epoch 152/600\n",
      "191/191 [==============================] - 0s 932us/step - loss: 0.0328 - accuracy: 0.9854 - val_loss: 1.2061e-04 - val_accuracy: 1.0000\n",
      "Epoch 153/600\n",
      "191/191 [==============================] - 0s 932us/step - loss: 0.0298 - accuracy: 0.9862 - val_loss: 1.7965e-04 - val_accuracy: 1.0000\n",
      "Epoch 154/600\n",
      "191/191 [==============================] - 0s 955us/step - loss: 0.0307 - accuracy: 0.9864 - val_loss: 5.5389e-04 - val_accuracy: 1.0000\n",
      "Epoch 155/600\n",
      "191/191 [==============================] - 0s 926us/step - loss: 0.0307 - accuracy: 0.9860 - val_loss: 3.0992e-04 - val_accuracy: 1.0000\n",
      "Epoch 156/600\n",
      "191/191 [==============================] - 0s 950us/step - loss: 0.0349 - accuracy: 0.9857 - val_loss: 7.3356e-04 - val_accuracy: 1.0000\n",
      "Epoch 157/600\n",
      "191/191 [==============================] - 0s 940us/step - loss: 0.0355 - accuracy: 0.9842 - val_loss: 8.8690e-04 - val_accuracy: 1.0000\n",
      "Epoch 158/600\n",
      "191/191 [==============================] - 0s 929us/step - loss: 0.0276 - accuracy: 0.9890 - val_loss: 4.7513e-04 - val_accuracy: 1.0000\n",
      "Epoch 159/600\n",
      "191/191 [==============================] - 0s 929us/step - loss: 0.0318 - accuracy: 0.9862 - val_loss: 6.6272e-04 - val_accuracy: 1.0000\n",
      "Epoch 160/600\n",
      "191/191 [==============================] - 0s 940us/step - loss: 0.0317 - accuracy: 0.9854 - val_loss: 4.4577e-04 - val_accuracy: 1.0000\n",
      "Epoch 161/600\n",
      "191/191 [==============================] - 0s 919us/step - loss: 0.0340 - accuracy: 0.9849 - val_loss: 3.7941e-04 - val_accuracy: 1.0000\n",
      "Epoch 162/600\n",
      "191/191 [==============================] - 0s 921us/step - loss: 0.0314 - accuracy: 0.9852 - val_loss: 5.4595e-04 - val_accuracy: 1.0000\n",
      "Epoch 163/600\n",
      "191/191 [==============================] - 0s 932us/step - loss: 0.0328 - accuracy: 0.9846 - val_loss: 0.0012 - val_accuracy: 1.0000\n",
      "Epoch 164/600\n",
      "191/191 [==============================] - 0s 945us/step - loss: 0.0343 - accuracy: 0.9839 - val_loss: 2.5397e-04 - val_accuracy: 1.0000\n",
      "Epoch 165/600\n",
      "191/191 [==============================] - 0s 932us/step - loss: 0.0306 - accuracy: 0.9862 - val_loss: 0.0011 - val_accuracy: 1.0000\n",
      "Epoch 166/600\n"
     ]
    },
    {
     "name": "stdout",
     "output_type": "stream",
     "text": [
      "191/191 [==============================] - 0s 929us/step - loss: 0.0355 - accuracy: 0.9841 - val_loss: 6.2160e-04 - val_accuracy: 1.0000\n",
      "Epoch 167/600\n",
      "191/191 [==============================] - 0s 919us/step - loss: 0.0330 - accuracy: 0.9857 - val_loss: 9.2320e-04 - val_accuracy: 1.0000\n",
      "Epoch 168/600\n",
      "191/191 [==============================] - 0s 916us/step - loss: 0.0346 - accuracy: 0.9842 - val_loss: 9.9717e-04 - val_accuracy: 1.0000\n",
      "Epoch 169/600\n",
      "191/191 [==============================] - 0s 937us/step - loss: 0.0288 - accuracy: 0.9879 - val_loss: 0.0013 - val_accuracy: 1.0000\n",
      "Epoch 170/600\n",
      "191/191 [==============================] - 0s 937us/step - loss: 0.0363 - accuracy: 0.9826 - val_loss: 9.2180e-04 - val_accuracy: 1.0000\n",
      "Epoch 171/600\n",
      "191/191 [==============================] - 0s 940us/step - loss: 0.0352 - accuracy: 0.9829 - val_loss: 3.4917e-04 - val_accuracy: 1.0000\n",
      "Epoch 172/600\n",
      "191/191 [==============================] - 0s 990us/step - loss: 0.0346 - accuracy: 0.9851 - val_loss: 8.6711e-04 - val_accuracy: 1.0000\n",
      "Epoch 173/600\n",
      "191/191 [==============================] - 0s 926us/step - loss: 0.0320 - accuracy: 0.9867 - val_loss: 0.0012 - val_accuracy: 1.0000\n",
      "Epoch 173: early stopping\n"
     ]
    },
    {
     "data": {
      "text/plain": [
       "<keras.callbacks.History at 0x215f097d130>"
      ]
     },
     "execution_count": 62,
     "metadata": {},
     "output_type": "execute_result"
    }
   ],
   "source": [
    "model.fit(x=X_train, \n",
    "          y=y_train, \n",
    "          epochs=600,\n",
    "          validation_data=(X_test, y_test), verbose=1,\n",
    "          callbacks=[early_stop]\n",
    "          )"
   ]
  },
  {
   "cell_type": "code",
   "execution_count": 63,
   "id": "e07969c1",
   "metadata": {},
   "outputs": [
    {
     "data": {
      "text/plain": [
       "<AxesSubplot:>"
      ]
     },
     "execution_count": 63,
     "metadata": {},
     "output_type": "execute_result"
    },
    {
     "data": {
      "image/png": "[encoded data removed]",
      "text/plain": [
       "<Figure size 432x288 with 1 Axes>"
      ]
     },
     "metadata": {
      "needs_background": "light"
     },
     "output_type": "display_data"
    }
   ],
   "source": [
    "model_loss = pd.DataFrame(model.history.history)\n",
    "model_loss.plot()"
   ]
  },
  {
   "cell_type": "code",
   "execution_count": 68,
   "id": "96a78871",
   "metadata": {},
   "outputs": [
    {
     "name": "stdout",
     "output_type": "stream",
     "text": [
      "64/64 [==============================] - 0s 492us/step\n"
     ]
    }
   ],
   "source": [
    "predictions = model.predict(X_test)\n",
    "predictions = (predictions > 0.5)"
   ]
  },
  {
   "cell_type": "code",
   "execution_count": 69,
   "id": "488d036f",
   "metadata": {},
   "outputs": [
    {
     "name": "stdout",
     "output_type": "stream",
     "text": [
      "              precision    recall  f1-score   support\n",
      "\n",
      "           0       1.00      1.00      1.00      1044\n",
      "           1       1.00      1.00      1.00       987\n",
      "\n",
      "    accuracy                           1.00      2031\n",
      "   macro avg       1.00      1.00      1.00      2031\n",
      "weighted avg       1.00      1.00      1.00      2031\n",
      "\n",
      "[[1044    0]\n",
      " [   0  987]]\n"
     ]
    }
   ],
   "source": [
    "print(classification_report(y_test,predictions))\n",
    "print(confusion_matrix(y_test, predictions))"
   ]
  },
  {
   "cell_type": "code",
   "execution_count": null,
   "id": "0f15e515",
   "metadata": {},
   "outputs": [],
   "source": []
  }
 ],
 "metadata": {
  "kernelspec": {
   "display_name": "Python 3 (ipykernel)",
   "language": "python",
   "name": "python3"
  },
  "language_info": {
   "codemirror_mode": {
    "name": "ipython",
    "version": 3
   },
   "file_extension": ".py",
   "mimetype": "text/x-python",
   "name": "python",
   "nbconvert_exporter": "python",
   "pygments_lexer": "ipython3",
   "version": "3.9.12"
  }
 },
 "nbformat": 4,
 "nbformat_minor": 5
}
